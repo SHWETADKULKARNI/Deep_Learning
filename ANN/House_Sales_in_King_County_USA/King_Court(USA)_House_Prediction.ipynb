{
 "cells": [
  {
   "attachments": {
    "detached-house-in-suburbia-GR.jpg": {
     "image/jpeg": "[encoded data removed]"
    }
   },
   "cell_type": "markdown",
   "id": "bec3f128",
   "metadata": {},
   "source": [
    "![detached-house-in-suburbia-GR.jpg](attachment:detached-house-in-suburbia-GR.jpg)"
   ]
  },
  {
   "cell_type": "markdown",
   "id": "596279d4",
   "metadata": {
    "id": "596279d4"
   },
   "source": [
    "### Import required libraries"
   ]
  },
  {
   "cell_type": "code",
   "execution_count": 3,
   "id": "f341ad02",
   "metadata": {
    "id": "f341ad02"
   },
   "outputs": [],
   "source": [
    "import pandas as pd\n",
    "import numpy as np\n",
    "import matplotlib.pyplot as plt\n",
    "import seaborn as sns\n",
    "import warnings\n",
    "warnings.filterwarnings('ignore')"
   ]
  },
  {
   "cell_type": "markdown",
   "id": "5ced3f3d",
   "metadata": {
    "id": "5ced3f3d"
   },
   "source": [
    "### Load dataset"
   ]
  },
  {
   "cell_type": "code",
   "execution_count": 4,
   "id": "11959c3c",
   "metadata": {
    "colab": {
     "base_uri": "https://localhost:8080/",
     "height": 270
    },
    "id": "11959c3c",
    "outputId": "e17ceb87-ae84-4087-ee89-19ec72f09d81"
   },
   "outputs": [
    {
     "data": {
      "text/html": [
       "\n",
       "  <div id=\"df-590a203c-32f4-4779-9844-037eac5db839\">\n",
       "    <div class=\"colab-df-container\">\n",
       "      <div>\n",
       "<style scoped>\n",
       "    .dataframe tbody tr th:only-of-type {\n",
       "        vertical-align: middle;\n",
       "    }\n",
       "\n",
       "    .dataframe tbody tr th {\n",
       "        vertical-align: top;\n",
       "    }\n",
       "\n",
       "    .dataframe thead th {\n",
       "        text-align: right;\n",
       "    }\n",
       "</style>\n",
       "<table border=\"1\" class=\"dataframe\">\n",
       "  <thead>\n",
       "    <tr style=\"text-align: right;\">\n",
       "      <th></th>\n",
       "      <th>id</th>\n",
       "      <th>date</th>\n",
       "      <th>price</th>\n",
       "      <th>bedrooms</th>\n",
       "      <th>bathrooms</th>\n",
       "      <th>sqft_living</th>\n",
       "      <th>sqft_lot</th>\n",
       "      <th>floors</th>\n",
       "      <th>waterfront</th>\n",
       "      <th>view</th>\n",
       "      <th>condition</th>\n",
       "      <th>grade</th>\n",
       "      <th>sqft_above</th>\n",
       "      <th>sqft_basement</th>\n",
       "      <th>yr_built</th>\n",
       "      <th>yr_renovated</th>\n",
       "      <th>zipcode</th>\n",
       "      <th>lat</th>\n",
       "      <th>long</th>\n",
       "      <th>sqft_living15</th>\n",
       "      <th>sqft_lot15</th>\n",
       "    </tr>\n",
       "  </thead>\n",
       "  <tbody>\n",
       "    <tr>\n",
       "      <th>0</th>\n",
       "      <td>7129300520</td>\n",
       "      <td>20141013T000000</td>\n",
       "      <td>221900.0</td>\n",
       "      <td>3</td>\n",
       "      <td>1.00</td>\n",
       "      <td>1180</td>\n",
       "      <td>5650</td>\n",
       "      <td>1.0</td>\n",
       "      <td>0</td>\n",
       "      <td>0</td>\n",
       "      <td>3</td>\n",
       "      <td>7</td>\n",
       "      <td>1180</td>\n",
       "      <td>0</td>\n",
       "      <td>1955</td>\n",
       "      <td>0</td>\n",
       "      <td>98178</td>\n",
       "      <td>47.5112</td>\n",
       "      <td>-122.257</td>\n",
       "      <td>1340</td>\n",
       "      <td>5650</td>\n",
       "    </tr>\n",
       "    <tr>\n",
       "      <th>1</th>\n",
       "      <td>6414100192</td>\n",
       "      <td>20141209T000000</td>\n",
       "      <td>538000.0</td>\n",
       "      <td>3</td>\n",
       "      <td>2.25</td>\n",
       "      <td>2570</td>\n",
       "      <td>7242</td>\n",
       "      <td>2.0</td>\n",
       "      <td>0</td>\n",
       "      <td>0</td>\n",
       "      <td>3</td>\n",
       "      <td>7</td>\n",
       "      <td>2170</td>\n",
       "      <td>400</td>\n",
       "      <td>1951</td>\n",
       "      <td>1991</td>\n",
       "      <td>98125</td>\n",
       "      <td>47.7210</td>\n",
       "      <td>-122.319</td>\n",
       "      <td>1690</td>\n",
       "      <td>7639</td>\n",
       "    </tr>\n",
       "    <tr>\n",
       "      <th>2</th>\n",
       "      <td>5631500400</td>\n",
       "      <td>20150225T000000</td>\n",
       "      <td>180000.0</td>\n",
       "      <td>2</td>\n",
       "      <td>1.00</td>\n",
       "      <td>770</td>\n",
       "      <td>10000</td>\n",
       "      <td>1.0</td>\n",
       "      <td>0</td>\n",
       "      <td>0</td>\n",
       "      <td>3</td>\n",
       "      <td>6</td>\n",
       "      <td>770</td>\n",
       "      <td>0</td>\n",
       "      <td>1933</td>\n",
       "      <td>0</td>\n",
       "      <td>98028</td>\n",
       "      <td>47.7379</td>\n",
       "      <td>-122.233</td>\n",
       "      <td>2720</td>\n",
       "      <td>8062</td>\n",
       "    </tr>\n",
       "    <tr>\n",
       "      <th>3</th>\n",
       "      <td>2487200875</td>\n",
       "      <td>20141209T000000</td>\n",
       "      <td>604000.0</td>\n",
       "      <td>4</td>\n",
       "      <td>3.00</td>\n",
       "      <td>1960</td>\n",
       "      <td>5000</td>\n",
       "      <td>1.0</td>\n",
       "      <td>0</td>\n",
       "      <td>0</td>\n",
       "      <td>5</td>\n",
       "      <td>7</td>\n",
       "      <td>1050</td>\n",
       "      <td>910</td>\n",
       "      <td>1965</td>\n",
       "      <td>0</td>\n",
       "      <td>98136</td>\n",
       "      <td>47.5208</td>\n",
       "      <td>-122.393</td>\n",
       "      <td>1360</td>\n",
       "      <td>5000</td>\n",
       "    </tr>\n",
       "    <tr>\n",
       "      <th>4</th>\n",
       "      <td>1954400510</td>\n",
       "      <td>20150218T000000</td>\n",
       "      <td>510000.0</td>\n",
       "      <td>3</td>\n",
       "      <td>2.00</td>\n",
       "      <td>1680</td>\n",
       "      <td>8080</td>\n",
       "      <td>1.0</td>\n",
       "      <td>0</td>\n",
       "      <td>0</td>\n",
       "      <td>3</td>\n",
       "      <td>8</td>\n",
       "      <td>1680</td>\n",
       "      <td>0</td>\n",
       "      <td>1987</td>\n",
       "      <td>0</td>\n",
       "      <td>98074</td>\n",
       "      <td>47.6168</td>\n",
       "      <td>-122.045</td>\n",
       "      <td>1800</td>\n",
       "      <td>7503</td>\n",
       "    </tr>\n",
       "  </tbody>\n",
       "</table>\n",
       "</div>\n",
       "      <button class=\"colab-df-convert\" onclick=\"convertToInteractive('df-590a203c-32f4-4779-9844-037eac5db839')\"\n",
       "              title=\"Convert this dataframe to an interactive table.\"\n",
       "              style=\"display:none;\">\n",
       "        \n",
       "  <svg xmlns=\"http://www.w3.org/2000/svg\" height=\"24px\"viewBox=\"0 0 24 24\"\n",
       "       width=\"24px\">\n",
       "    <path d=\"M0 0h24v24H0V0z\" fill=\"none\"/>\n",
       "    <path d=\"M18.56 5.44l.94 2.06.94-2.06 2.06-.94-2.06-.94-.94-2.06-.94 2.06-2.06.94zm-11 1L8.5 8.5l.94-2.06 2.06-.94-2.06-.94L8.5 2.5l-.94 2.06-2.06.94zm10 10l.94 2.06.94-2.06 2.06-.94-2.06-.94-.94-2.06-.94 2.06-2.06.94z\"/><path d=\"M17.41 7.96l-1.37-1.37c-.4-.4-.92-.59-1.43-.59-.52 0-1.04.2-1.43.59L10.3 9.45l-7.72 7.72c-.78.78-.78 2.05 0 2.83L4 21.41c.39.39.9.59 1.41.59.51 0 1.02-.2 1.41-.59l7.78-7.78 2.81-2.81c.8-.78.8-2.07 0-2.86zM5.41 20L4 18.59l7.72-7.72 1.47 1.35L5.41 20z\"/>\n",
       "  </svg>\n",
       "      </button>\n",
       "      \n",
       "  <style>\n",
       "    .colab-df-container {\n",
       "      display:flex;\n",
       "      flex-wrap:wrap;\n",
       "      gap: 12px;\n",
       "    }\n",
       "\n",
       "    .colab-df-convert {\n",
       "      background-color: #E8F0FE;\n",
       "      border: none;\n",
       "      border-radius: 50%;\n",
       "      cursor: pointer;\n",
       "      display: none;\n",
       "      fill: #1967D2;\n",
       "      height: 32px;\n",
       "      padding: 0 0 0 0;\n",
       "      width: 32px;\n",
       "    }\n",
       "\n",
       "    .colab-df-convert:hover {\n",
       "      background-color: #E2EBFA;\n",
       "      box-shadow: 0px 1px 2px rgba(60, 64, 67, 0.3), 0px 1px 3px 1px rgba(60, 64, 67, 0.15);\n",
       "      fill: #174EA6;\n",
       "    }\n",
       "\n",
       "    [theme=dark] .colab-df-convert {\n",
       "      background-color: #3B4455;\n",
       "      fill: #D2E3FC;\n",
       "    }\n",
       "\n",
       "    [theme=dark] .colab-df-convert:hover {\n",
       "      background-color: #434B5C;\n",
       "      box-shadow: 0px 1px 3px 1px rgba(0, 0, 0, 0.15);\n",
       "      filter: drop-shadow(0px 1px 2px rgba(0, 0, 0, 0.3));\n",
       "      fill: #FFFFFF;\n",
       "    }\n",
       "  </style>\n",
       "\n",
       "      <script>\n",
       "        const buttonEl =\n",
       "          document.querySelector('#df-590a203c-32f4-4779-9844-037eac5db839 button.colab-df-convert');\n",
       "        buttonEl.style.display =\n",
       "          google.colab.kernel.accessAllowed ? 'block' : 'none';\n",
       "\n",
       "        async function convertToInteractive(key) {\n",
       "          const element = document.querySelector('#df-590a203c-32f4-4779-9844-037eac5db839');\n",
       "          const dataTable =\n",
       "            await google.colab.kernel.invokeFunction('convertToInteractive',\n",
       "                                                     [key], {});\n",
       "          if (!dataTable) return;\n",
       "\n",
       "          const docLinkHtml = 'Like what you see? Visit the ' +\n",
       "            '<a target=\"_blank\" href=https://colab.research.google.com/notebooks/data_table.ipynb>data table notebook</a>'\n",
       "            + ' to learn more about interactive tables.';\n",
       "          element.innerHTML = '';\n",
       "          dataTable['output_type'] = 'display_data';\n",
       "          await google.colab.output.renderOutput(dataTable, element);\n",
       "          const docLink = document.createElement('div');\n",
       "          docLink.innerHTML = docLinkHtml;\n",
       "          element.appendChild(docLink);\n",
       "        }\n",
       "      </script>\n",
       "    </div>\n",
       "  </div>\n",
       "  "
      ],
      "text/plain": [
       "           id             date     price  bedrooms  bathrooms  sqft_living  \\\n",
       "0  7129300520  20141013T000000  221900.0         3       1.00         1180   \n",
       "1  6414100192  20141209T000000  538000.0         3       2.25         2570   \n",
       "2  5631500400  20150225T000000  180000.0         2       1.00          770   \n",
       "3  2487200875  20141209T000000  604000.0         4       3.00         1960   \n",
       "4  1954400510  20150218T000000  510000.0         3       2.00         1680   \n",
       "\n",
       "   sqft_lot  floors  waterfront  view  condition  grade  sqft_above  \\\n",
       "0      5650     1.0           0     0          3      7        1180   \n",
       "1      7242     2.0           0     0          3      7        2170   \n",
       "2     10000     1.0           0     0          3      6         770   \n",
       "3      5000     1.0           0     0          5      7        1050   \n",
       "4      8080     1.0           0     0          3      8        1680   \n",
       "\n",
       "   sqft_basement  yr_built  yr_renovated  zipcode      lat     long  \\\n",
       "0              0      1955             0    98178  47.5112 -122.257   \n",
       "1            400      1951          1991    98125  47.7210 -122.319   \n",
       "2              0      1933             0    98028  47.7379 -122.233   \n",
       "3            910      1965             0    98136  47.5208 -122.393   \n",
       "4              0      1987             0    98074  47.6168 -122.045   \n",
       "\n",
       "   sqft_living15  sqft_lot15  \n",
       "0           1340        5650  \n",
       "1           1690        7639  \n",
       "2           2720        8062  \n",
       "3           1360        5000  \n",
       "4           1800        7503  "
      ]
     },
     "execution_count": 4,
     "metadata": {},
     "output_type": "execute_result"
    }
   ],
   "source": [
    "pd.options.display.max_columns=30\n",
    "df=pd.read_csv(\"/content/drive/MyDrive/Deep Learning/kc_house_data.csv\")\n",
    "df.head()"
   ]
  },
  {
   "cell_type": "code",
   "execution_count": 5,
   "id": "oHbkDufnBWCB",
   "metadata": {
    "colab": {
     "base_uri": "https://localhost:8080/"
    },
    "id": "oHbkDufnBWCB",
    "outputId": "a923a52c-b11c-402a-e312-9497d050ecb0"
   },
   "outputs": [
    {
     "name": "stdout",
     "output_type": "stream",
     "text": [
      "Drive already mounted at /content/drive; to attempt to forcibly remount, call drive.mount(\"/content/drive\", force_remount=True).\n"
     ]
    }
   ],
   "source": [
    "from google.colab import drive\n",
    "drive.mount('/content/drive')"
   ]
  },
  {
   "cell_type": "markdown",
   "id": "fc0d3708",
   "metadata": {
    "id": "fc0d3708"
   },
   "source": [
    "### Basic Information about dataset"
   ]
  },
  {
   "cell_type": "markdown",
   "id": "38c57dc6",
   "metadata": {
    "id": "38c57dc6"
   },
   "source": [
    "- id -\tA notation for a house\n",
    "- date - \tDate house was sold\n",
    "- price - \tPrice is prediction target\n",
    "- bedrooms -\tNumber of bedrooms\n",
    "- bathrooms - \tNumber of bathrooms\n",
    "- sqft_living - \tSquare footage of the home\n",
    "- sqft_lot -\tSquare footage of the lot\n",
    "- floors -\tTotal floors (levels) in house\n",
    "- waterfront - \tHouse which has a view to a waterfront\n",
    "- view - \tHas been viewed\n",
    "- condition - \tHow good the condition is overall\n",
    "- grade - \toverall grade given to the housing unit, based on King County grading system\n",
    "- sqft_above - \tSquare footage of house apart from basement\n",
    "- sqft_basement - \tSquare footage of the basement\n",
    "- yr_built - \tBuilt Year\n",
    "- yr_renovated - \tYear when house was renovated\n",
    "- zipcode - \tZip code\n",
    "- lat - \tLatitude coordinate\n",
    "- long - \tLongitude coordinate\n",
    "- sqft_living15 - \tLiving room area in 2015(implies-- some renovations) This might or might not have affected the lotsize area\n",
    "- sqft_lot15 - \tLotSize area in 2015(implies-- some renovations)"
   ]
  },
  {
   "cell_type": "code",
   "execution_count": 6,
   "id": "a0b7588d",
   "metadata": {
    "colab": {
     "base_uri": "https://localhost:8080/"
    },
    "id": "a0b7588d",
    "outputId": "e3149a8b-cbcb-42f1-e1f1-3fe457872a6d"
   },
   "outputs": [
    {
     "data": {
      "text/plain": [
       "(21613, 21)"
      ]
     },
     "execution_count": 6,
     "metadata": {},
     "output_type": "execute_result"
    }
   ],
   "source": [
    "df.shape"
   ]
  },
  {
   "cell_type": "code",
   "execution_count": 7,
   "id": "fadcb693",
   "metadata": {
    "colab": {
     "base_uri": "https://localhost:8080/"
    },
    "id": "fadcb693",
    "outputId": "eba51846-ba7f-4088-9535-662d8f0b5682"
   },
   "outputs": [
    {
     "data": {
      "text/plain": [
       "453873"
      ]
     },
     "execution_count": 7,
     "metadata": {},
     "output_type": "execute_result"
    }
   ],
   "source": [
    "df.size"
   ]
  },
  {
   "cell_type": "code",
   "execution_count": 8,
   "id": "ce693dee",
   "metadata": {
    "colab": {
     "base_uri": "https://localhost:8080/"
    },
    "id": "ce693dee",
    "outputId": "1a49601d-9464-4412-e03b-c6e54485af9d"
   },
   "outputs": [
    {
     "data": {
      "text/plain": [
       "Index(['id', 'date', 'price', 'bedrooms', 'bathrooms', 'sqft_living',\n",
       "       'sqft_lot', 'floors', 'waterfront', 'view', 'condition', 'grade',\n",
       "       'sqft_above', 'sqft_basement', 'yr_built', 'yr_renovated', 'zipcode',\n",
       "       'lat', 'long', 'sqft_living15', 'sqft_lot15'],\n",
       "      dtype='object')"
      ]
     },
     "execution_count": 8,
     "metadata": {},
     "output_type": "execute_result"
    }
   ],
   "source": [
    "df.columns"
   ]
  },
  {
   "cell_type": "code",
   "execution_count": 9,
   "id": "16243d01",
   "metadata": {
    "colab": {
     "base_uri": "https://localhost:8080/"
    },
    "id": "16243d01",
    "outputId": "b76f6738-f907-478b-a937-34dbfbbf7d1b"
   },
   "outputs": [
    {
     "data": {
      "text/plain": [
       "id                 int64\n",
       "date              object\n",
       "price            float64\n",
       "bedrooms           int64\n",
       "bathrooms        float64\n",
       "sqft_living        int64\n",
       "sqft_lot           int64\n",
       "floors           float64\n",
       "waterfront         int64\n",
       "view               int64\n",
       "condition          int64\n",
       "grade              int64\n",
       "sqft_above         int64\n",
       "sqft_basement      int64\n",
       "yr_built           int64\n",
       "yr_renovated       int64\n",
       "zipcode            int64\n",
       "lat              float64\n",
       "long             float64\n",
       "sqft_living15      int64\n",
       "sqft_lot15         int64\n",
       "dtype: object"
      ]
     },
     "execution_count": 9,
     "metadata": {},
     "output_type": "execute_result"
    }
   ],
   "source": [
    "df.dtypes"
   ]
  },
  {
   "cell_type": "code",
   "execution_count": 10,
   "id": "72e5f389",
   "metadata": {
    "colab": {
     "base_uri": "https://localhost:8080/"
    },
    "id": "72e5f389",
    "outputId": "6ba5be58-4f36-4a54-ce7b-f27d18b04c86"
   },
   "outputs": [
    {
     "name": "stdout",
     "output_type": "stream",
     "text": [
      "<class 'pandas.core.frame.DataFrame'>\n",
      "RangeIndex: 21613 entries, 0 to 21612\n",
      "Data columns (total 21 columns):\n",
      " #   Column         Non-Null Count  Dtype  \n",
      "---  ------         --------------  -----  \n",
      " 0   id             21613 non-null  int64  \n",
      " 1   date           21613 non-null  object \n",
      " 2   price          21613 non-null  float64\n",
      " 3   bedrooms       21613 non-null  int64  \n",
      " 4   bathrooms      21613 non-null  float64\n",
      " 5   sqft_living    21613 non-null  int64  \n",
      " 6   sqft_lot       21613 non-null  int64  \n",
      " 7   floors         21613 non-null  float64\n",
      " 8   waterfront     21613 non-null  int64  \n",
      " 9   view           21613 non-null  int64  \n",
      " 10  condition      21613 non-null  int64  \n",
      " 11  grade          21613 non-null  int64  \n",
      " 12  sqft_above     21613 non-null  int64  \n",
      " 13  sqft_basement  21613 non-null  int64  \n",
      " 14  yr_built       21613 non-null  int64  \n",
      " 15  yr_renovated   21613 non-null  int64  \n",
      " 16  zipcode        21613 non-null  int64  \n",
      " 17  lat            21613 non-null  float64\n",
      " 18  long           21613 non-null  float64\n",
      " 19  sqft_living15  21613 non-null  int64  \n",
      " 20  sqft_lot15     21613 non-null  int64  \n",
      "dtypes: float64(5), int64(15), object(1)\n",
      "memory usage: 3.5+ MB\n"
     ]
    }
   ],
   "source": [
    "df.info()"
   ]
  },
  {
   "cell_type": "markdown",
   "id": "31ac92f4",
   "metadata": {
    "id": "31ac92f4"
   },
   "source": [
    "### Five point statistical summary"
   ]
  },
  {
   "cell_type": "code",
   "execution_count": 11,
   "id": "14c0e10b",
   "metadata": {
    "colab": {
     "base_uri": "https://localhost:8080/",
     "height": 364
    },
    "id": "14c0e10b",
    "outputId": "519d2d67-cc2b-47fa-d0cb-7b3aa8de5148"
   },
   "outputs": [
    {
     "data": {
      "text/html": [
       "\n",
       "  <div id=\"df-00c781d4-25dd-405b-9d95-8a9db32db6bb\">\n",
       "    <div class=\"colab-df-container\">\n",
       "      <div>\n",
       "<style scoped>\n",
       "    .dataframe tbody tr th:only-of-type {\n",
       "        vertical-align: middle;\n",
       "    }\n",
       "\n",
       "    .dataframe tbody tr th {\n",
       "        vertical-align: top;\n",
       "    }\n",
       "\n",
       "    .dataframe thead th {\n",
       "        text-align: right;\n",
       "    }\n",
       "</style>\n",
       "<table border=\"1\" class=\"dataframe\">\n",
       "  <thead>\n",
       "    <tr style=\"text-align: right;\">\n",
       "      <th></th>\n",
       "      <th>id</th>\n",
       "      <th>price</th>\n",
       "      <th>bedrooms</th>\n",
       "      <th>bathrooms</th>\n",
       "      <th>sqft_living</th>\n",
       "      <th>sqft_lot</th>\n",
       "      <th>floors</th>\n",
       "      <th>waterfront</th>\n",
       "      <th>view</th>\n",
       "      <th>condition</th>\n",
       "      <th>grade</th>\n",
       "      <th>sqft_above</th>\n",
       "      <th>sqft_basement</th>\n",
       "      <th>yr_built</th>\n",
       "      <th>yr_renovated</th>\n",
       "      <th>zipcode</th>\n",
       "      <th>lat</th>\n",
       "      <th>long</th>\n",
       "      <th>sqft_living15</th>\n",
       "      <th>sqft_lot15</th>\n",
       "    </tr>\n",
       "  </thead>\n",
       "  <tbody>\n",
       "    <tr>\n",
       "      <th>count</th>\n",
       "      <td>2.161300e+04</td>\n",
       "      <td>2.161300e+04</td>\n",
       "      <td>21613.000000</td>\n",
       "      <td>21613.000000</td>\n",
       "      <td>21613.000000</td>\n",
       "      <td>2.161300e+04</td>\n",
       "      <td>21613.000000</td>\n",
       "      <td>21613.000000</td>\n",
       "      <td>21613.000000</td>\n",
       "      <td>21613.000000</td>\n",
       "      <td>21613.000000</td>\n",
       "      <td>21613.000000</td>\n",
       "      <td>21613.000000</td>\n",
       "      <td>21613.000000</td>\n",
       "      <td>21613.000000</td>\n",
       "      <td>21613.000000</td>\n",
       "      <td>21613.000000</td>\n",
       "      <td>21613.000000</td>\n",
       "      <td>21613.000000</td>\n",
       "      <td>21613.000000</td>\n",
       "    </tr>\n",
       "    <tr>\n",
       "      <th>mean</th>\n",
       "      <td>4.580302e+09</td>\n",
       "      <td>5.400881e+05</td>\n",
       "      <td>3.370842</td>\n",
       "      <td>2.114757</td>\n",
       "      <td>2079.899736</td>\n",
       "      <td>1.510697e+04</td>\n",
       "      <td>1.494309</td>\n",
       "      <td>0.007542</td>\n",
       "      <td>0.234303</td>\n",
       "      <td>3.409430</td>\n",
       "      <td>7.656873</td>\n",
       "      <td>1788.390691</td>\n",
       "      <td>291.509045</td>\n",
       "      <td>1971.005136</td>\n",
       "      <td>84.402258</td>\n",
       "      <td>98077.939805</td>\n",
       "      <td>47.560053</td>\n",
       "      <td>-122.213896</td>\n",
       "      <td>1986.552492</td>\n",
       "      <td>12768.455652</td>\n",
       "    </tr>\n",
       "    <tr>\n",
       "      <th>std</th>\n",
       "      <td>2.876566e+09</td>\n",
       "      <td>3.671272e+05</td>\n",
       "      <td>0.930062</td>\n",
       "      <td>0.770163</td>\n",
       "      <td>918.440897</td>\n",
       "      <td>4.142051e+04</td>\n",
       "      <td>0.539989</td>\n",
       "      <td>0.086517</td>\n",
       "      <td>0.766318</td>\n",
       "      <td>0.650743</td>\n",
       "      <td>1.175459</td>\n",
       "      <td>828.090978</td>\n",
       "      <td>442.575043</td>\n",
       "      <td>29.373411</td>\n",
       "      <td>401.679240</td>\n",
       "      <td>53.505026</td>\n",
       "      <td>0.138564</td>\n",
       "      <td>0.140828</td>\n",
       "      <td>685.391304</td>\n",
       "      <td>27304.179631</td>\n",
       "    </tr>\n",
       "    <tr>\n",
       "      <th>min</th>\n",
       "      <td>1.000102e+06</td>\n",
       "      <td>7.500000e+04</td>\n",
       "      <td>0.000000</td>\n",
       "      <td>0.000000</td>\n",
       "      <td>290.000000</td>\n",
       "      <td>5.200000e+02</td>\n",
       "      <td>1.000000</td>\n",
       "      <td>0.000000</td>\n",
       "      <td>0.000000</td>\n",
       "      <td>1.000000</td>\n",
       "      <td>1.000000</td>\n",
       "      <td>290.000000</td>\n",
       "      <td>0.000000</td>\n",
       "      <td>1900.000000</td>\n",
       "      <td>0.000000</td>\n",
       "      <td>98001.000000</td>\n",
       "      <td>47.155900</td>\n",
       "      <td>-122.519000</td>\n",
       "      <td>399.000000</td>\n",
       "      <td>651.000000</td>\n",
       "    </tr>\n",
       "    <tr>\n",
       "      <th>25%</th>\n",
       "      <td>2.123049e+09</td>\n",
       "      <td>3.219500e+05</td>\n",
       "      <td>3.000000</td>\n",
       "      <td>1.750000</td>\n",
       "      <td>1427.000000</td>\n",
       "      <td>5.040000e+03</td>\n",
       "      <td>1.000000</td>\n",
       "      <td>0.000000</td>\n",
       "      <td>0.000000</td>\n",
       "      <td>3.000000</td>\n",
       "      <td>7.000000</td>\n",
       "      <td>1190.000000</td>\n",
       "      <td>0.000000</td>\n",
       "      <td>1951.000000</td>\n",
       "      <td>0.000000</td>\n",
       "      <td>98033.000000</td>\n",
       "      <td>47.471000</td>\n",
       "      <td>-122.328000</td>\n",
       "      <td>1490.000000</td>\n",
       "      <td>5100.000000</td>\n",
       "    </tr>\n",
       "    <tr>\n",
       "      <th>50%</th>\n",
       "      <td>3.904930e+09</td>\n",
       "      <td>4.500000e+05</td>\n",
       "      <td>3.000000</td>\n",
       "      <td>2.250000</td>\n",
       "      <td>1910.000000</td>\n",
       "      <td>7.618000e+03</td>\n",
       "      <td>1.500000</td>\n",
       "      <td>0.000000</td>\n",
       "      <td>0.000000</td>\n",
       "      <td>3.000000</td>\n",
       "      <td>7.000000</td>\n",
       "      <td>1560.000000</td>\n",
       "      <td>0.000000</td>\n",
       "      <td>1975.000000</td>\n",
       "      <td>0.000000</td>\n",
       "      <td>98065.000000</td>\n",
       "      <td>47.571800</td>\n",
       "      <td>-122.230000</td>\n",
       "      <td>1840.000000</td>\n",
       "      <td>7620.000000</td>\n",
       "    </tr>\n",
       "    <tr>\n",
       "      <th>75%</th>\n",
       "      <td>7.308900e+09</td>\n",
       "      <td>6.450000e+05</td>\n",
       "      <td>4.000000</td>\n",
       "      <td>2.500000</td>\n",
       "      <td>2550.000000</td>\n",
       "      <td>1.068800e+04</td>\n",
       "      <td>2.000000</td>\n",
       "      <td>0.000000</td>\n",
       "      <td>0.000000</td>\n",
       "      <td>4.000000</td>\n",
       "      <td>8.000000</td>\n",
       "      <td>2210.000000</td>\n",
       "      <td>560.000000</td>\n",
       "      <td>1997.000000</td>\n",
       "      <td>0.000000</td>\n",
       "      <td>98118.000000</td>\n",
       "      <td>47.678000</td>\n",
       "      <td>-122.125000</td>\n",
       "      <td>2360.000000</td>\n",
       "      <td>10083.000000</td>\n",
       "    </tr>\n",
       "    <tr>\n",
       "      <th>max</th>\n",
       "      <td>9.900000e+09</td>\n",
       "      <td>7.700000e+06</td>\n",
       "      <td>33.000000</td>\n",
       "      <td>8.000000</td>\n",
       "      <td>13540.000000</td>\n",
       "      <td>1.651359e+06</td>\n",
       "      <td>3.500000</td>\n",
       "      <td>1.000000</td>\n",
       "      <td>4.000000</td>\n",
       "      <td>5.000000</td>\n",
       "      <td>13.000000</td>\n",
       "      <td>9410.000000</td>\n",
       "      <td>4820.000000</td>\n",
       "      <td>2015.000000</td>\n",
       "      <td>2015.000000</td>\n",
       "      <td>98199.000000</td>\n",
       "      <td>47.777600</td>\n",
       "      <td>-121.315000</td>\n",
       "      <td>6210.000000</td>\n",
       "      <td>871200.000000</td>\n",
       "    </tr>\n",
       "  </tbody>\n",
       "</table>\n",
       "</div>\n",
       "      <button class=\"colab-df-convert\" onclick=\"convertToInteractive('df-00c781d4-25dd-405b-9d95-8a9db32db6bb')\"\n",
       "              title=\"Convert this dataframe to an interactive table.\"\n",
       "              style=\"display:none;\">\n",
       "        \n",
       "  <svg xmlns=\"http://www.w3.org/2000/svg\" height=\"24px\"viewBox=\"0 0 24 24\"\n",
       "       width=\"24px\">\n",
       "    <path d=\"M0 0h24v24H0V0z\" fill=\"none\"/>\n",
       "    <path d=\"M18.56 5.44l.94 2.06.94-2.06 2.06-.94-2.06-.94-.94-2.06-.94 2.06-2.06.94zm-11 1L8.5 8.5l.94-2.06 2.06-.94-2.06-.94L8.5 2.5l-.94 2.06-2.06.94zm10 10l.94 2.06.94-2.06 2.06-.94-2.06-.94-.94-2.06-.94 2.06-2.06.94z\"/><path d=\"M17.41 7.96l-1.37-1.37c-.4-.4-.92-.59-1.43-.59-.52 0-1.04.2-1.43.59L10.3 9.45l-7.72 7.72c-.78.78-.78 2.05 0 2.83L4 21.41c.39.39.9.59 1.41.59.51 0 1.02-.2 1.41-.59l7.78-7.78 2.81-2.81c.8-.78.8-2.07 0-2.86zM5.41 20L4 18.59l7.72-7.72 1.47 1.35L5.41 20z\"/>\n",
       "  </svg>\n",
       "      </button>\n",
       "      \n",
       "  <style>\n",
       "    .colab-df-container {\n",
       "      display:flex;\n",
       "      flex-wrap:wrap;\n",
       "      gap: 12px;\n",
       "    }\n",
       "\n",
       "    .colab-df-convert {\n",
       "      background-color: #E8F0FE;\n",
       "      border: none;\n",
       "      border-radius: 50%;\n",
       "      cursor: pointer;\n",
       "      display: none;\n",
       "      fill: #1967D2;\n",
       "      height: 32px;\n",
       "      padding: 0 0 0 0;\n",
       "      width: 32px;\n",
       "    }\n",
       "\n",
       "    .colab-df-convert:hover {\n",
       "      background-color: #E2EBFA;\n",
       "      box-shadow: 0px 1px 2px rgba(60, 64, 67, 0.3), 0px 1px 3px 1px rgba(60, 64, 67, 0.15);\n",
       "      fill: #174EA6;\n",
       "    }\n",
       "\n",
       "    [theme=dark] .colab-df-convert {\n",
       "      background-color: #3B4455;\n",
       "      fill: #D2E3FC;\n",
       "    }\n",
       "\n",
       "    [theme=dark] .colab-df-convert:hover {\n",
       "      background-color: #434B5C;\n",
       "      box-shadow: 0px 1px 3px 1px rgba(0, 0, 0, 0.15);\n",
       "      filter: drop-shadow(0px 1px 2px rgba(0, 0, 0, 0.3));\n",
       "      fill: #FFFFFF;\n",
       "    }\n",
       "  </style>\n",
       "\n",
       "      <script>\n",
       "        const buttonEl =\n",
       "          document.querySelector('#df-00c781d4-25dd-405b-9d95-8a9db32db6bb button.colab-df-convert');\n",
       "        buttonEl.style.display =\n",
       "          google.colab.kernel.accessAllowed ? 'block' : 'none';\n",
       "\n",
       "        async function convertToInteractive(key) {\n",
       "          const element = document.querySelector('#df-00c781d4-25dd-405b-9d95-8a9db32db6bb');\n",
       "          const dataTable =\n",
       "            await google.colab.kernel.invokeFunction('convertToInteractive',\n",
       "                                                     [key], {});\n",
       "          if (!dataTable) return;\n",
       "\n",
       "          const docLinkHtml = 'Like what you see? Visit the ' +\n",
       "            '<a target=\"_blank\" href=https://colab.research.google.com/notebooks/data_table.ipynb>data table notebook</a>'\n",
       "            + ' to learn more about interactive tables.';\n",
       "          element.innerHTML = '';\n",
       "          dataTable['output_type'] = 'display_data';\n",
       "          await google.colab.output.renderOutput(dataTable, element);\n",
       "          const docLink = document.createElement('div');\n",
       "          docLink.innerHTML = docLinkHtml;\n",
       "          element.appendChild(docLink);\n",
       "        }\n",
       "      </script>\n",
       "    </div>\n",
       "  </div>\n",
       "  "
      ],
      "text/plain": [
       "                 id         price      bedrooms     bathrooms   sqft_living  \\\n",
       "count  2.161300e+04  2.161300e+04  21613.000000  21613.000000  21613.000000   \n",
       "mean   4.580302e+09  5.400881e+05      3.370842      2.114757   2079.899736   \n",
       "std    2.876566e+09  3.671272e+05      0.930062      0.770163    918.440897   \n",
       "min    1.000102e+06  7.500000e+04      0.000000      0.000000    290.000000   \n",
       "25%    2.123049e+09  3.219500e+05      3.000000      1.750000   1427.000000   \n",
       "50%    3.904930e+09  4.500000e+05      3.000000      2.250000   1910.000000   \n",
       "75%    7.308900e+09  6.450000e+05      4.000000      2.500000   2550.000000   \n",
       "max    9.900000e+09  7.700000e+06     33.000000      8.000000  13540.000000   \n",
       "\n",
       "           sqft_lot        floors    waterfront          view     condition  \\\n",
       "count  2.161300e+04  21613.000000  21613.000000  21613.000000  21613.000000   \n",
       "mean   1.510697e+04      1.494309      0.007542      0.234303      3.409430   \n",
       "std    4.142051e+04      0.539989      0.086517      0.766318      0.650743   \n",
       "min    5.200000e+02      1.000000      0.000000      0.000000      1.000000   \n",
       "25%    5.040000e+03      1.000000      0.000000      0.000000      3.000000   \n",
       "50%    7.618000e+03      1.500000      0.000000      0.000000      3.000000   \n",
       "75%    1.068800e+04      2.000000      0.000000      0.000000      4.000000   \n",
       "max    1.651359e+06      3.500000      1.000000      4.000000      5.000000   \n",
       "\n",
       "              grade    sqft_above  sqft_basement      yr_built  yr_renovated  \\\n",
       "count  21613.000000  21613.000000   21613.000000  21613.000000  21613.000000   \n",
       "mean       7.656873   1788.390691     291.509045   1971.005136     84.402258   \n",
       "std        1.175459    828.090978     442.575043     29.373411    401.679240   \n",
       "min        1.000000    290.000000       0.000000   1900.000000      0.000000   \n",
       "25%        7.000000   1190.000000       0.000000   1951.000000      0.000000   \n",
       "50%        7.000000   1560.000000       0.000000   1975.000000      0.000000   \n",
       "75%        8.000000   2210.000000     560.000000   1997.000000      0.000000   \n",
       "max       13.000000   9410.000000    4820.000000   2015.000000   2015.000000   \n",
       "\n",
       "            zipcode           lat          long  sqft_living15     sqft_lot15  \n",
       "count  21613.000000  21613.000000  21613.000000   21613.000000   21613.000000  \n",
       "mean   98077.939805     47.560053   -122.213896    1986.552492   12768.455652  \n",
       "std       53.505026      0.138564      0.140828     685.391304   27304.179631  \n",
       "min    98001.000000     47.155900   -122.519000     399.000000     651.000000  \n",
       "25%    98033.000000     47.471000   -122.328000    1490.000000    5100.000000  \n",
       "50%    98065.000000     47.571800   -122.230000    1840.000000    7620.000000  \n",
       "75%    98118.000000     47.678000   -122.125000    2360.000000   10083.000000  \n",
       "max    98199.000000     47.777600   -121.315000    6210.000000  871200.000000  "
      ]
     },
     "execution_count": 11,
     "metadata": {},
     "output_type": "execute_result"
    }
   ],
   "source": [
    "df.describe()"
   ]
  },
  {
   "cell_type": "code",
   "execution_count": 12,
   "id": "866c039d",
   "metadata": {
    "colab": {
     "base_uri": "https://localhost:8080/",
     "height": 175
    },
    "id": "866c039d",
    "outputId": "c3088425-a2a9-4246-c659-0d06eadeac4b"
   },
   "outputs": [
    {
     "data": {
      "text/html": [
       "\n",
       "  <div id=\"df-8770322a-246f-4e56-819a-b451194b439d\">\n",
       "    <div class=\"colab-df-container\">\n",
       "      <div>\n",
       "<style scoped>\n",
       "    .dataframe tbody tr th:only-of-type {\n",
       "        vertical-align: middle;\n",
       "    }\n",
       "\n",
       "    .dataframe tbody tr th {\n",
       "        vertical-align: top;\n",
       "    }\n",
       "\n",
       "    .dataframe thead th {\n",
       "        text-align: right;\n",
       "    }\n",
       "</style>\n",
       "<table border=\"1\" class=\"dataframe\">\n",
       "  <thead>\n",
       "    <tr style=\"text-align: right;\">\n",
       "      <th></th>\n",
       "      <th>date</th>\n",
       "    </tr>\n",
       "  </thead>\n",
       "  <tbody>\n",
       "    <tr>\n",
       "      <th>count</th>\n",
       "      <td>21613</td>\n",
       "    </tr>\n",
       "    <tr>\n",
       "      <th>unique</th>\n",
       "      <td>372</td>\n",
       "    </tr>\n",
       "    <tr>\n",
       "      <th>top</th>\n",
       "      <td>20140623T000000</td>\n",
       "    </tr>\n",
       "    <tr>\n",
       "      <th>freq</th>\n",
       "      <td>142</td>\n",
       "    </tr>\n",
       "  </tbody>\n",
       "</table>\n",
       "</div>\n",
       "      <button class=\"colab-df-convert\" onclick=\"convertToInteractive('df-8770322a-246f-4e56-819a-b451194b439d')\"\n",
       "              title=\"Convert this dataframe to an interactive table.\"\n",
       "              style=\"display:none;\">\n",
       "        \n",
       "  <svg xmlns=\"http://www.w3.org/2000/svg\" height=\"24px\"viewBox=\"0 0 24 24\"\n",
       "       width=\"24px\">\n",
       "    <path d=\"M0 0h24v24H0V0z\" fill=\"none\"/>\n",
       "    <path d=\"M18.56 5.44l.94 2.06.94-2.06 2.06-.94-2.06-.94-.94-2.06-.94 2.06-2.06.94zm-11 1L8.5 8.5l.94-2.06 2.06-.94-2.06-.94L8.5 2.5l-.94 2.06-2.06.94zm10 10l.94 2.06.94-2.06 2.06-.94-2.06-.94-.94-2.06-.94 2.06-2.06.94z\"/><path d=\"M17.41 7.96l-1.37-1.37c-.4-.4-.92-.59-1.43-.59-.52 0-1.04.2-1.43.59L10.3 9.45l-7.72 7.72c-.78.78-.78 2.05 0 2.83L4 21.41c.39.39.9.59 1.41.59.51 0 1.02-.2 1.41-.59l7.78-7.78 2.81-2.81c.8-.78.8-2.07 0-2.86zM5.41 20L4 18.59l7.72-7.72 1.47 1.35L5.41 20z\"/>\n",
       "  </svg>\n",
       "      </button>\n",
       "      \n",
       "  <style>\n",
       "    .colab-df-container {\n",
       "      display:flex;\n",
       "      flex-wrap:wrap;\n",
       "      gap: 12px;\n",
       "    }\n",
       "\n",
       "    .colab-df-convert {\n",
       "      background-color: #E8F0FE;\n",
       "      border: none;\n",
       "      border-radius: 50%;\n",
       "      cursor: pointer;\n",
       "      display: none;\n",
       "      fill: #1967D2;\n",
       "      height: 32px;\n",
       "      padding: 0 0 0 0;\n",
       "      width: 32px;\n",
       "    }\n",
       "\n",
       "    .colab-df-convert:hover {\n",
       "      background-color: #E2EBFA;\n",
       "      box-shadow: 0px 1px 2px rgba(60, 64, 67, 0.3), 0px 1px 3px 1px rgba(60, 64, 67, 0.15);\n",
       "      fill: #174EA6;\n",
       "    }\n",
       "\n",
       "    [theme=dark] .colab-df-convert {\n",
       "      background-color: #3B4455;\n",
       "      fill: #D2E3FC;\n",
       "    }\n",
       "\n",
       "    [theme=dark] .colab-df-convert:hover {\n",
       "      background-color: #434B5C;\n",
       "      box-shadow: 0px 1px 3px 1px rgba(0, 0, 0, 0.15);\n",
       "      filter: drop-shadow(0px 1px 2px rgba(0, 0, 0, 0.3));\n",
       "      fill: #FFFFFF;\n",
       "    }\n",
       "  </style>\n",
       "\n",
       "      <script>\n",
       "        const buttonEl =\n",
       "          document.querySelector('#df-8770322a-246f-4e56-819a-b451194b439d button.colab-df-convert');\n",
       "        buttonEl.style.display =\n",
       "          google.colab.kernel.accessAllowed ? 'block' : 'none';\n",
       "\n",
       "        async function convertToInteractive(key) {\n",
       "          const element = document.querySelector('#df-8770322a-246f-4e56-819a-b451194b439d');\n",
       "          const dataTable =\n",
       "            await google.colab.kernel.invokeFunction('convertToInteractive',\n",
       "                                                     [key], {});\n",
       "          if (!dataTable) return;\n",
       "\n",
       "          const docLinkHtml = 'Like what you see? Visit the ' +\n",
       "            '<a target=\"_blank\" href=https://colab.research.google.com/notebooks/data_table.ipynb>data table notebook</a>'\n",
       "            + ' to learn more about interactive tables.';\n",
       "          element.innerHTML = '';\n",
       "          dataTable['output_type'] = 'display_data';\n",
       "          await google.colab.output.renderOutput(dataTable, element);\n",
       "          const docLink = document.createElement('div');\n",
       "          docLink.innerHTML = docLinkHtml;\n",
       "          element.appendChild(docLink);\n",
       "        }\n",
       "      </script>\n",
       "    </div>\n",
       "  </div>\n",
       "  "
      ],
      "text/plain": [
       "                   date\n",
       "count             21613\n",
       "unique              372\n",
       "top     20140623T000000\n",
       "freq                142"
      ]
     },
     "execution_count": 12,
     "metadata": {},
     "output_type": "execute_result"
    }
   ],
   "source": [
    "df.describe(include='object')"
   ]
  },
  {
   "cell_type": "markdown",
   "id": "c69f981f",
   "metadata": {
    "id": "c69f981f"
   },
   "source": [
    "### Missing Values"
   ]
  },
  {
   "cell_type": "code",
   "execution_count": 13,
   "id": "1d442db7",
   "metadata": {
    "colab": {
     "base_uri": "https://localhost:8080/"
    },
    "id": "1d442db7",
    "outputId": "a7ce9a5b-873e-460a-b1c5-b914fab43a5e"
   },
   "outputs": [
    {
     "data": {
      "text/plain": [
       "id               0\n",
       "date             0\n",
       "price            0\n",
       "bedrooms         0\n",
       "bathrooms        0\n",
       "sqft_living      0\n",
       "sqft_lot         0\n",
       "floors           0\n",
       "waterfront       0\n",
       "view             0\n",
       "condition        0\n",
       "grade            0\n",
       "sqft_above       0\n",
       "sqft_basement    0\n",
       "yr_built         0\n",
       "yr_renovated     0\n",
       "zipcode          0\n",
       "lat              0\n",
       "long             0\n",
       "sqft_living15    0\n",
       "sqft_lot15       0\n",
       "dtype: int64"
      ]
     },
     "execution_count": 13,
     "metadata": {},
     "output_type": "execute_result"
    }
   ],
   "source": [
    "df.isna().sum()"
   ]
  },
  {
   "cell_type": "markdown",
   "id": "4e612072",
   "metadata": {
    "id": "4e612072"
   },
   "source": [
    "### Duplicate rows"
   ]
  },
  {
   "cell_type": "code",
   "execution_count": 14,
   "id": "89a5955c",
   "metadata": {
    "colab": {
     "base_uri": "https://localhost:8080/"
    },
    "id": "89a5955c",
    "outputId": "4ae24ec3-4059-43fc-d5f0-d7e8ad32cfd5"
   },
   "outputs": [
    {
     "data": {
      "text/plain": [
       "0"
      ]
     },
     "execution_count": 14,
     "metadata": {},
     "output_type": "execute_result"
    }
   ],
   "source": [
    "df.duplicated().sum()"
   ]
  },
  {
   "cell_type": "markdown",
   "id": "16d9e093",
   "metadata": {
    "id": "16d9e093"
   },
   "source": [
    "### Data Preprocessing"
   ]
  },
  {
   "cell_type": "markdown",
   "id": "3d70becc",
   "metadata": {
    "id": "3d70becc"
   },
   "source": [
    "#### Drop few columns like id, sqft_living, sqft_lot, lat, long."
   ]
  },
  {
   "cell_type": "code",
   "execution_count": 15,
   "id": "5f8b8ed5",
   "metadata": {
    "colab": {
     "base_uri": "https://localhost:8080/"
    },
    "id": "5f8b8ed5",
    "outputId": "145ab199-98d1-4501-e2cb-d25a2b37f552"
   },
   "outputs": [
    {
     "data": {
      "text/plain": [
       "(21613, 15)"
      ]
     },
     "execution_count": 15,
     "metadata": {},
     "output_type": "execute_result"
    }
   ],
   "source": [
    "df.drop(['id','sqft_living','sqft_lot','lat','long','date'], axis=1, inplace=True)\n",
    "df.shape"
   ]
  },
  {
   "cell_type": "markdown",
   "id": "df7249b1",
   "metadata": {
    "id": "df7249b1"
   },
   "source": [
    "#### Rename sqft_living15 & sqft_lot15 to sqft_living and sqft_lot"
   ]
  },
  {
   "cell_type": "code",
   "execution_count": 16,
   "id": "a5f9ca81",
   "metadata": {
    "colab": {
     "base_uri": "https://localhost:8080/"
    },
    "id": "a5f9ca81",
    "outputId": "edb4b9e3-9d3a-4971-eb45-d2c51ba9bca2"
   },
   "outputs": [
    {
     "data": {
      "text/plain": [
       "Index(['price', 'bedrooms', 'bathrooms', 'floors', 'waterfront', 'view',\n",
       "       'condition', 'grade', 'sqft_above', 'sqft_basement', 'yr_built',\n",
       "       'yr_renovated', 'zipcode', 'sqft_living', 'sqft_lot'],\n",
       "      dtype='object')"
      ]
     },
     "execution_count": 16,
     "metadata": {},
     "output_type": "execute_result"
    }
   ],
   "source": [
    "df.rename({'sqft_living15':'sqft_living','sqft_lot15':'sqft_lot'}, axis=1, inplace=True)\n",
    "df.columns"
   ]
  },
  {
   "cell_type": "markdown",
   "id": "ad52d946",
   "metadata": {
    "id": "ad52d946"
   },
   "source": [
    "### Exploratory Data Analysis"
   ]
  },
  {
   "cell_type": "markdown",
   "id": "9bce1501",
   "metadata": {
    "id": "9bce1501"
   },
   "source": [
    "### Univariate Analysis"
   ]
  },
  {
   "cell_type": "markdown",
   "id": "5ea4539c",
   "metadata": {
    "id": "5ea4539c"
   },
   "source": [
    "#### Analyzing Price column"
   ]
  },
  {
   "cell_type": "code",
   "execution_count": 17,
   "id": "53d89902",
   "metadata": {
    "colab": {
     "base_uri": "https://localhost:8080/"
    },
    "id": "53d89902",
    "outputId": "5a1da586-85dc-4f82-b64c-24995dd65295"
   },
   "outputs": [
    {
     "data": {
      "text/plain": [
       "count      21613.00\n",
       "mean      540088.14\n",
       "std       367127.20\n",
       "min        75000.00\n",
       "25%       321950.00\n",
       "50%       450000.00\n",
       "75%       645000.00\n",
       "max      7700000.00\n",
       "Name: price, dtype: float64"
      ]
     },
     "execution_count": 17,
     "metadata": {},
     "output_type": "execute_result"
    }
   ],
   "source": [
    "df['price'].describe().round(2)"
   ]
  },
  {
   "cell_type": "code",
   "execution_count": 18,
   "id": "3cbef6e3",
   "metadata": {
    "colab": {
     "base_uri": "https://localhost:8080/",
     "height": 396
    },
    "id": "3cbef6e3",
    "outputId": "f2c93776-97dc-4c5a-8857-91c5b9cf9d72"
   },
   "outputs": [
    {
     "data": {
      "image/png": "[encoded data removed]",
      "text/plain": [
       "<Figure size 1200x400 with 1 Axes>"
      ]
     },
     "metadata": {},
     "output_type": "display_data"
    }
   ],
   "source": [
    "sns.set_style('darkgrid')\n",
    "plt.figure(figsize=(12,4))\n",
    "sns.boxplot(df['price'], color='pink');\n",
    "plt.title(\"Distribution of Price\", fontsize=18, color='orange');"
   ]
  },
  {
   "cell_type": "code",
   "execution_count": 19,
   "id": "f2ea2514",
   "metadata": {
    "colab": {
     "base_uri": "https://localhost:8080/",
     "height": 415
    },
    "id": "f2ea2514",
    "outputId": "a656bc74-832d-419d-ff50-b86cc136e316"
   },
   "outputs": [
    {
     "data": {
      "image/png": "[encoded data removed]",
      "text/plain": [
       "<Figure size 1200x400 with 1 Axes>"
      ]
     },
     "metadata": {},
     "output_type": "display_data"
    }
   ],
   "source": [
    "sns.set_style('darkgrid')\n",
    "plt.figure(figsize=(12,4))\n",
    "sns.histplot(df['price'], kde=True, color='pink');\n",
    "plt.title(\"Distribution of Price\", fontsize=18, color='orange');"
   ]
  },
  {
   "cell_type": "code",
   "execution_count": 20,
   "id": "78d2c9c6",
   "metadata": {
    "colab": {
     "base_uri": "https://localhost:8080/",
     "height": 396
    },
    "id": "78d2c9c6",
    "outputId": "4b1dc8f4-1bb5-4454-a8bc-fbe18ed1b2fe"
   },
   "outputs": [
    {
     "data": {
      "image/png": "[encoded data removed]",
      "text/plain": [
       "<Figure size 1200x400 with 1 Axes>"
      ]
     },
     "metadata": {},
     "output_type": "display_data"
    }
   ],
   "source": [
    "sns.set_style('darkgrid')\n",
    "plt.figure(figsize=(12,4))\n",
    "sns.boxplot(np.log(df['price']), color='pink')\n",
    "plt.title(\"Distribution of Price after Log Tranformation\", fontsize=18, color='orange');"
   ]
  },
  {
   "cell_type": "code",
   "execution_count": 21,
   "id": "d6c57ac4",
   "metadata": {
    "colab": {
     "base_uri": "https://localhost:8080/",
     "height": 415
    },
    "id": "d6c57ac4",
    "outputId": "58337610-8095-4ff4-afde-4cd56126af07"
   },
   "outputs": [
    {
     "data": {
      "image/png": "[encoded data removed]",
      "text/plain": [
       "<Figure size 1200x400 with 1 Axes>"
      ]
     },
     "metadata": {},
     "output_type": "display_data"
    }
   ],
   "source": [
    "sns.set_style('darkgrid')\n",
    "plt.figure(figsize=(12,4))\n",
    "sns.histplot(np.log(df['price']), kde=True, color='pink')\n",
    "plt.title(\"Distribution of Price after Log Tranformation\", fontsize=18, color='orange');"
   ]
  },
  {
   "cell_type": "markdown",
   "id": "508ede8d",
   "metadata": {
    "id": "508ede8d"
   },
   "source": [
    "#### Price column contains extream outliers so Log tranformation on Price columns makes the column normally distributed so use this tranformed column instead of price column."
   ]
  },
  {
   "cell_type": "code",
   "execution_count": 22,
   "id": "745d29fa",
   "metadata": {
    "colab": {
     "base_uri": "https://localhost:8080/"
    },
    "id": "745d29fa",
    "outputId": "b2e74316-788f-4eb6-dba3-6ac1bd16e402"
   },
   "outputs": [
    {
     "data": {
      "text/plain": [
       "Index(['bedrooms', 'bathrooms', 'floors', 'waterfront', 'view', 'condition',\n",
       "       'grade', 'sqft_above', 'sqft_basement', 'yr_built', 'yr_renovated',\n",
       "       'zipcode', 'sqft_living', 'sqft_lot', 'price_log'],\n",
       "      dtype='object')"
      ]
     },
     "execution_count": 22,
     "metadata": {},
     "output_type": "execute_result"
    }
   ],
   "source": [
    "df['price_log']=np.log(df['price']+1)\n",
    "df.drop('price', axis=1, inplace=True)\n",
    "df.columns"
   ]
  },
  {
   "cell_type": "code",
   "execution_count": 22,
   "id": "aeecff8a",
   "metadata": {
    "id": "aeecff8a"
   },
   "outputs": [],
   "source": []
  },
  {
   "cell_type": "markdown",
   "id": "80c15b63",
   "metadata": {
    "id": "80c15b63"
   },
   "source": [
    "### Analyze Bedrooms columns"
   ]
  },
  {
   "cell_type": "code",
   "execution_count": 23,
   "id": "29bbaf20",
   "metadata": {
    "colab": {
     "base_uri": "https://localhost:8080/"
    },
    "id": "29bbaf20",
    "outputId": "b6f111b9-e056-416e-c4fe-803f09749549"
   },
   "outputs": [
    {
     "data": {
      "text/plain": [
       "count    21613.0\n",
       "mean         3.0\n",
       "std          1.0\n",
       "min          0.0\n",
       "25%          3.0\n",
       "50%          3.0\n",
       "75%          4.0\n",
       "max         33.0\n",
       "Name: bedrooms, dtype: float64"
      ]
     },
     "execution_count": 23,
     "metadata": {},
     "output_type": "execute_result"
    }
   ],
   "source": [
    "df['bedrooms'].describe().round(0)"
   ]
  },
  {
   "cell_type": "code",
   "execution_count": 24,
   "id": "ac5548d4",
   "metadata": {
    "colab": {
     "base_uri": "https://localhost:8080/",
     "height": 419
    },
    "id": "ac5548d4",
    "outputId": "3881a821-5f89-4ef3-8d45-18f28b0ac97f"
   },
   "outputs": [
    {
     "data": {
      "image/png": "[encoded data removed]",
      "text/plain": [
       "<Figure size 1200x400 with 1 Axes>"
      ]
     },
     "metadata": {},
     "output_type": "display_data"
    }
   ],
   "source": [
    "plt.figure(figsize=(12,4))\n",
    "sns.countplot(x='bedrooms', data=df);\n",
    "plt.xlabel(\"Bedrooms\", fontsize=12)\n",
    "plt.ylabel(\"Number of Bedrooms\", fontsize=12)\n",
    "plt.title(\"Bedrooms Counts\", fontsize=18, color='orange');"
   ]
  },
  {
   "cell_type": "code",
   "execution_count": 24,
   "id": "5345dd82",
   "metadata": {
    "id": "5345dd82"
   },
   "outputs": [],
   "source": []
  },
  {
   "cell_type": "markdown",
   "id": "2a711436",
   "metadata": {
    "id": "2a711436"
   },
   "source": [
    "### Analyse Bathrooms"
   ]
  },
  {
   "cell_type": "code",
   "execution_count": 25,
   "id": "df34da2a",
   "metadata": {
    "colab": {
     "base_uri": "https://localhost:8080/"
    },
    "id": "df34da2a",
    "outputId": "794d294e-b93c-4a16-eed1-6f29e667eeaf"
   },
   "outputs": [
    {
     "data": {
      "text/plain": [
       "dtype('float64')"
      ]
     },
     "execution_count": 25,
     "metadata": {},
     "output_type": "execute_result"
    }
   ],
   "source": [
    "df['bathrooms'].dtype"
   ]
  },
  {
   "cell_type": "code",
   "execution_count": 26,
   "id": "ca1f2a92",
   "metadata": {
    "colab": {
     "base_uri": "https://localhost:8080/"
    },
    "id": "ca1f2a92",
    "outputId": "4bbbf377-5e44-466d-9a69-0eaf3fc47425"
   },
   "outputs": [
    {
     "data": {
      "text/plain": [
       "dtype('int64')"
      ]
     },
     "execution_count": 26,
     "metadata": {},
     "output_type": "execute_result"
    }
   ],
   "source": [
    "df['bathrooms']=df['bathrooms'].astype(int)\n",
    "df['bathrooms'].dtype"
   ]
  },
  {
   "cell_type": "code",
   "execution_count": 27,
   "id": "2a24c591",
   "metadata": {
    "colab": {
     "base_uri": "https://localhost:8080/"
    },
    "id": "2a24c591",
    "outputId": "42bc717b-1585-483b-e85f-3f94aabfb8cc"
   },
   "outputs": [
    {
     "data": {
      "text/plain": [
       "count    21613.0\n",
       "mean         2.0\n",
       "std          1.0\n",
       "min          0.0\n",
       "25%          1.0\n",
       "50%          2.0\n",
       "75%          2.0\n",
       "max          8.0\n",
       "Name: bathrooms, dtype: float64"
      ]
     },
     "execution_count": 27,
     "metadata": {},
     "output_type": "execute_result"
    }
   ],
   "source": [
    "df['bathrooms'].describe().round(0)"
   ]
  },
  {
   "cell_type": "code",
   "execution_count": 28,
   "id": "be6dae5c",
   "metadata": {
    "colab": {
     "base_uri": "https://localhost:8080/",
     "height": 419
    },
    "id": "be6dae5c",
    "outputId": "80ded025-4c0a-4fc5-da0b-1f7992aa4986"
   },
   "outputs": [
    {
     "data": {
      "image/png": "[encoded data removed]",
      "text/plain": [
       "<Figure size 1200x400 with 1 Axes>"
      ]
     },
     "metadata": {},
     "output_type": "display_data"
    }
   ],
   "source": [
    "plt.figure(figsize=(12,4))\n",
    "sns.countplot(x='bathrooms', data=df);\n",
    "plt.xlabel(\"Bathrooms\", fontsize=12)\n",
    "plt.ylabel(\"Number of Bathrooms\", fontsize=12)\n",
    "plt.title(\"Bathrooms Counts\", fontsize=18, color='orange');"
   ]
  },
  {
   "cell_type": "code",
   "execution_count": 28,
   "id": "b2fd20de",
   "metadata": {
    "id": "b2fd20de"
   },
   "outputs": [],
   "source": []
  },
  {
   "cell_type": "markdown",
   "id": "85d0e47b",
   "metadata": {
    "id": "85d0e47b"
   },
   "source": [
    "### Analyze floor, waterfron and view columns"
   ]
  },
  {
   "cell_type": "code",
   "execution_count": 29,
   "id": "55ce1971",
   "metadata": {
    "colab": {
     "base_uri": "https://localhost:8080/",
     "height": 481
    },
    "id": "55ce1971",
    "outputId": "cf7ad3b4-9e66-4005-d9a9-87350b979576"
   },
   "outputs": [
    {
     "data": {
      "image/png": "[encoded data removed]",
      "text/plain": [
       "<Figure size 1800x600 with 3 Axes>"
      ]
     },
     "metadata": {},
     "output_type": "display_data"
    }
   ],
   "source": [
    "plt.figure(figsize=(18,6))\n",
    "plt.subplot(131)\n",
    "df['floors']=df['floors'].astype(int)\n",
    "sns.countplot(x='floors', data=df);\n",
    "plt.xlabel(\"Floors\", fontsize=12)\n",
    "plt.ylabel(\"Number of Floors\", fontsize=12)\n",
    "plt.title(\"Floors Counts\", fontsize=18, color='orange');\n",
    "\n",
    "plt.subplot(132)\n",
    "sns.countplot(x='waterfront', data=df);\n",
    "plt.xlabel(\"Waterfront(Yes/No)\", fontsize=12)\n",
    "plt.ylabel(\"Number of Floors\", fontsize=12)\n",
    "plt.title(\"Waterfront Counts\", fontsize=18, color='orange');\n",
    "\n",
    "plt.subplot(133)\n",
    "sns.countplot(x='view', data=df);\n",
    "plt.xlabel(\"View\", fontsize=12)\n",
    "plt.ylabel(\"View\", fontsize=12)\n",
    "plt.title(\"View Counts\", fontsize=18, color='orange');"
   ]
  },
  {
   "cell_type": "code",
   "execution_count": 29,
   "id": "edc24234",
   "metadata": {
    "id": "edc24234"
   },
   "outputs": [],
   "source": []
  },
  {
   "cell_type": "markdown",
   "id": "33004b62",
   "metadata": {
    "id": "33004b62"
   },
   "source": [
    "### Analyze Condition and Grade column"
   ]
  },
  {
   "cell_type": "code",
   "execution_count": 30,
   "id": "cfe65ab9",
   "metadata": {
    "colab": {
     "base_uri": "https://localhost:8080/"
    },
    "id": "cfe65ab9",
    "outputId": "c2d21770-3b6d-4bc4-860c-4b05f975179f"
   },
   "outputs": [
    {
     "data": {
      "text/plain": [
       "count    21613.0\n",
       "mean         3.0\n",
       "std          1.0\n",
       "min          1.0\n",
       "25%          3.0\n",
       "50%          3.0\n",
       "75%          4.0\n",
       "max          5.0\n",
       "Name: condition, dtype: float64"
      ]
     },
     "execution_count": 30,
     "metadata": {},
     "output_type": "execute_result"
    }
   ],
   "source": [
    "df['condition'].describe().round(0)"
   ]
  },
  {
   "cell_type": "code",
   "execution_count": 31,
   "id": "20093136",
   "metadata": {
    "colab": {
     "base_uri": "https://localhost:8080/"
    },
    "id": "20093136",
    "outputId": "fb2dba97-b656-435f-9c1d-6a1879c0986b"
   },
   "outputs": [
    {
     "data": {
      "text/plain": [
       "count    21613.0\n",
       "mean         8.0\n",
       "std          1.0\n",
       "min          1.0\n",
       "25%          7.0\n",
       "50%          7.0\n",
       "75%          8.0\n",
       "max         13.0\n",
       "Name: grade, dtype: float64"
      ]
     },
     "execution_count": 31,
     "metadata": {},
     "output_type": "execute_result"
    }
   ],
   "source": [
    "df['grade'].describe().round(0)"
   ]
  },
  {
   "cell_type": "code",
   "execution_count": 32,
   "id": "b0a8534c",
   "metadata": {
    "colab": {
     "base_uri": "https://localhost:8080/",
     "height": 419
    },
    "id": "b0a8534c",
    "outputId": "376a1691-fc63-4ffc-cc3e-81b48c799e52"
   },
   "outputs": [
    {
     "data": {
      "image/png": "[encoded data removed]",
      "text/plain": [
       "<Figure size 1800x400 with 2 Axes>"
      ]
     },
     "metadata": {},
     "output_type": "display_data"
    }
   ],
   "source": [
    "plt.figure(figsize=(18,4))\n",
    "plt.subplot(131)\n",
    "sns.countplot(x='condition', data=df);\n",
    "plt.xlabel(\"condition\", fontsize=12)\n",
    "plt.ylabel(\"Condition Scale\", fontsize=12)\n",
    "plt.title(\"House condition\", fontsize=18, color='orange');\n",
    "\n",
    "plt.subplot(132)\n",
    "sns.countplot(x='grade', data=df);\n",
    "plt.xlabel(\"Grade of house\", fontsize=12)\n",
    "plt.ylabel(\"Gardes count\", fontsize=12)\n",
    "plt.title(\"Grade of House\", fontsize=18, color='orange');"
   ]
  },
  {
   "cell_type": "code",
   "execution_count": 32,
   "id": "119fa86c",
   "metadata": {
    "id": "119fa86c"
   },
   "outputs": [],
   "source": []
  },
  {
   "cell_type": "markdown",
   "id": "bd9f44dc",
   "metadata": {
    "id": "bd9f44dc"
   },
   "source": [
    "### Analyze Area related column"
   ]
  },
  {
   "cell_type": "code",
   "execution_count": 33,
   "id": "6340d4c4",
   "metadata": {
    "colab": {
     "base_uri": "https://localhost:8080/",
     "height": 754
    },
    "id": "6340d4c4",
    "outputId": "42942215-bf5c-415f-e0aa-5a11b7db9e15"
   },
   "outputs": [
    {
     "data": {
      "image/png": "[encoded data removed]",
      "text/plain": [
       "<Figure size 1800x1000 with 4 Axes>"
      ]
     },
     "metadata": {},
     "output_type": "display_data"
    }
   ],
   "source": [
    "plt.figure(figsize=(18,10))\n",
    "plt.subplot(221)\n",
    "sns.boxplot(x='sqft_above', data=df, color='red');\n",
    "plt.xlabel(\"Square feet area above\", fontsize=12)\n",
    "plt.ylabel(\"Distribution\", fontsize=12)\n",
    "plt.title(\"Square Feet Above area\", fontsize=18, color='orange');\n",
    "\n",
    "plt.subplot(222)\n",
    "sns.boxplot(x='sqft_basement', data=df, color='brown');\n",
    "plt.xlabel(\"Square basement area\", fontsize=12)\n",
    "plt.ylabel(\"Distribution\", fontsize=12)\n",
    "plt.title(\"Square feet basement area\", fontsize=18, color='orange');\n",
    "\n",
    "plt.subplot(223)\n",
    "sns.boxplot(x='sqft_lot', data=df, color='pink');\n",
    "plt.xlabel(\"Square feet Lot Area\", fontsize=12)\n",
    "plt.ylabel(\"Distribution\", fontsize=12)\n",
    "plt.title(\"Square feet Lot Area\", fontsize=18, color='orange');\n",
    "\n",
    "plt.subplot(224)\n",
    "sns.boxplot(x='sqft_living', data=df, color='yellow');\n",
    "plt.xlabel(\"Square feet living area\", fontsize=12)\n",
    "plt.ylabel(\"Distribution\", fontsize=12)\n",
    "plt.title(\"Square feet living area\", fontsize=18, color='orange');"
   ]
  },
  {
   "cell_type": "markdown",
   "id": "87fb4190",
   "metadata": {
    "id": "87fb4190"
   },
   "source": [
    "#### We can see the outliers in these area related columns so lets use log transformation."
   ]
  },
  {
   "cell_type": "code",
   "execution_count": 34,
   "id": "032f88e6",
   "metadata": {
    "id": "032f88e6"
   },
   "outputs": [],
   "source": [
    "df['sqft_above_log']=np.log(df['sqft_above']+1)\n",
    "df['sqft_basement_log']=np.log(df['sqft_basement']+1)\n",
    "df['sqft_lot_log']=np.log(df['sqft_lot']+1)\n",
    "df['sqft_living_log']=np.log(df['sqft_living']+1)\n",
    "df.drop(['sqft_above','sqft_basement','sqft_lot','sqft_living'], axis=1, inplace=True)"
   ]
  },
  {
   "cell_type": "code",
   "execution_count": 35,
   "id": "36942cb0",
   "metadata": {
    "colab": {
     "base_uri": "https://localhost:8080/",
     "height": 759
    },
    "id": "36942cb0",
    "outputId": "78f76d66-88e9-462c-8934-f7a5cc753051"
   },
   "outputs": [
    {
     "data": {
      "image/png": "[encoded data removed]",
      "text/plain": [
       "<Figure size 1800x1000 with 4 Axes>"
      ]
     },
     "metadata": {},
     "output_type": "display_data"
    }
   ],
   "source": [
    "plt.figure(figsize=(18,10))\n",
    "plt.subplot(221)\n",
    "sns.boxplot(x='sqft_above_log', data=df, color='red');\n",
    "plt.xlabel(\"Square feet area above\", fontsize=12)\n",
    "plt.ylabel(\"Distribution\", fontsize=12)\n",
    "plt.title(\"Log Tranformed Square Feet Above area\", fontsize=18, color='orange');\n",
    "\n",
    "plt.subplot(222)\n",
    "sns.boxplot(x='sqft_basement_log', data=df, color='brown');\n",
    "plt.xlabel(\"Square basement area\", fontsize=12)\n",
    "plt.ylabel(\"Distribution\", fontsize=12)\n",
    "plt.title(\"Log Tranformed Square feet basement area\", fontsize=18, color='orange');\n",
    "\n",
    "plt.subplot(223)\n",
    "sns.boxplot(x='sqft_lot_log', data=df, color='pink');\n",
    "plt.xlabel(\"Square feet Lot Area\", fontsize=12)\n",
    "plt.ylabel(\"Distribution\", fontsize=12)\n",
    "plt.title(\"Log Tranformed Square feet Lot Area\", fontsize=18, color='orange');\n",
    "\n",
    "plt.subplot(224)\n",
    "sns.boxplot(x='sqft_living_log', data=df, color='yellow');\n",
    "plt.xlabel(\"Square feet living area\", fontsize=12)\n",
    "plt.ylabel(\"Distribution\", fontsize=12)\n",
    "plt.title(\"Log Tranformed Square feet living area\", fontsize=18, color='orange');"
   ]
  },
  {
   "cell_type": "code",
   "execution_count": 36,
   "id": "3d10594a",
   "metadata": {
    "colab": {
     "base_uri": "https://localhost:8080/"
    },
    "id": "3d10594a",
    "outputId": "53e34633-0143-49ca-b3ac-f33d4eb814bf"
   },
   "outputs": [
    {
     "data": {
      "text/plain": [
       "Index(['bedrooms', 'bathrooms', 'floors', 'waterfront', 'view', 'condition',\n",
       "       'grade', 'yr_built', 'yr_renovated', 'zipcode', 'price_log',\n",
       "       'sqft_above_log', 'sqft_basement_log', 'sqft_lot_log',\n",
       "       'sqft_living_log'],\n",
       "      dtype='object')"
      ]
     },
     "execution_count": 36,
     "metadata": {},
     "output_type": "execute_result"
    }
   ],
   "source": [
    "df.columns"
   ]
  },
  {
   "cell_type": "markdown",
   "id": "8a3059b8",
   "metadata": {
    "id": "8a3059b8"
   },
   "source": [
    "### Analyze Year Built and Renewed Year column"
   ]
  },
  {
   "cell_type": "code",
   "execution_count": 37,
   "id": "18c67d25",
   "metadata": {
    "colab": {
     "base_uri": "https://localhost:8080/"
    },
    "id": "18c67d25",
    "outputId": "54229d2f-73ad-40e1-b04e-acff377a51f6"
   },
   "outputs": [
    {
     "data": {
      "text/plain": [
       "(0, 2015)"
      ]
     },
     "execution_count": 37,
     "metadata": {},
     "output_type": "execute_result"
    }
   ],
   "source": [
    "df['yr_renovated'].min(), df['yr_renovated'].max()"
   ]
  },
  {
   "cell_type": "code",
   "execution_count": 38,
   "id": "de10a869",
   "metadata": {
    "colab": {
     "base_uri": "https://localhost:8080/"
    },
    "id": "de10a869",
    "outputId": "8023dea4-b691-4991-b728-4163bce5517a"
   },
   "outputs": [
    {
     "data": {
      "text/plain": [
       "(1900, 2015)"
      ]
     },
     "execution_count": 38,
     "metadata": {},
     "output_type": "execute_result"
    }
   ],
   "source": [
    "df['yr_built'].min(), df['yr_built'].max()"
   ]
  },
  {
   "cell_type": "markdown",
   "id": "3ca50302",
   "metadata": {
    "id": "3ca50302"
   },
   "source": [
    "#### In the rows renovated year is 0 that means these houses are not renewed, so replace 0 with the built year."
   ]
  },
  {
   "cell_type": "code",
   "execution_count": 39,
   "id": "3f756dbf",
   "metadata": {
    "colab": {
     "base_uri": "https://localhost:8080/"
    },
    "id": "3f756dbf",
    "outputId": "88e98c48-bc7a-410b-d4bb-029ad9db4dec"
   },
   "outputs": [
    {
     "data": {
      "text/plain": [
       "(20699, 15)"
      ]
     },
     "execution_count": 39,
     "metadata": {},
     "output_type": "execute_result"
    }
   ],
   "source": [
    "df[df['yr_renovated']==0].shape"
   ]
  },
  {
   "cell_type": "markdown",
   "id": "1e9c2a3a",
   "metadata": {
    "id": "1e9c2a3a"
   },
   "source": [
    "#### Drop Year Renevated column"
   ]
  },
  {
   "cell_type": "code",
   "execution_count": 40,
   "id": "57fa92ed",
   "metadata": {
    "id": "57fa92ed"
   },
   "outputs": [],
   "source": [
    "df.drop('yr_renovated', axis=1, inplace=True)"
   ]
  },
  {
   "cell_type": "markdown",
   "id": "f8492012",
   "metadata": {
    "id": "f8492012"
   },
   "source": [
    "### Analyze Zip code"
   ]
  },
  {
   "cell_type": "code",
   "execution_count": 41,
   "id": "41f62d48",
   "metadata": {
    "colab": {
     "base_uri": "https://localhost:8080/"
    },
    "id": "41f62d48",
    "outputId": "548ce7fb-f1f2-479c-b8b9-0d4fd016ba5b"
   },
   "outputs": [
    {
     "data": {
      "text/plain": [
       "70"
      ]
     },
     "execution_count": 41,
     "metadata": {},
     "output_type": "execute_result"
    }
   ],
   "source": [
    "df['zipcode'].nunique()"
   ]
  },
  {
   "cell_type": "code",
   "execution_count": 42,
   "id": "3183113d",
   "metadata": {
    "colab": {
     "base_uri": "https://localhost:8080/",
     "height": 465
    },
    "id": "3183113d",
    "outputId": "a528b74d-821f-416e-872f-e59feac05a27"
   },
   "outputs": [
    {
     "data": {
      "image/png": "[encoded data removed]",
      "text/plain": [
       "<Figure size 2000x600 with 1 Axes>"
      ]
     },
     "metadata": {},
     "output_type": "display_data"
    }
   ],
   "source": [
    "plt.figure(figsize=(20,6))\n",
    "sns.countplot(x='zipcode', data=df)\n",
    "plt.xticks(rotation=90)\n",
    "plt.xlabel(\"Location by ZipCode\", fontsize=12)\n",
    "plt.ylabel(\"Number of house\", fontsize=12)\n",
    "plt.title(\"House in perticular Location\", fontsize=18, color='orange');"
   ]
  },
  {
   "cell_type": "code",
   "execution_count": 42,
   "id": "055eded8",
   "metadata": {
    "id": "055eded8"
   },
   "outputs": [],
   "source": []
  },
  {
   "cell_type": "markdown",
   "id": "c1486f1a",
   "metadata": {
    "id": "c1486f1a"
   },
   "source": [
    "#### Apply label encoding for zipcode"
   ]
  },
  {
   "cell_type": "code",
   "execution_count": 43,
   "id": "989661df",
   "metadata": {
    "colab": {
     "base_uri": "https://localhost:8080/"
    },
    "id": "989661df",
    "outputId": "6e5f7626-fb5a-4e72-c7ef-0a3bdacf6910"
   },
   "outputs": [
    {
     "data": {
      "text/plain": [
       "0    66\n",
       "1    55\n",
       "2    16\n",
       "3    58\n",
       "4    37\n",
       "5    29\n",
       "6     2\n",
       "7    68\n",
       "8    60\n",
       "9    23\n",
       "Name: zipcode, dtype: int64"
      ]
     },
     "execution_count": 43,
     "metadata": {},
     "output_type": "execute_result"
    }
   ],
   "source": [
    "from sklearn.preprocessing import LabelEncoder\n",
    "label_encoder=LabelEncoder()\n",
    "df['zipcode']=label_encoder.fit_transform(df['zipcode'])\n",
    "df['zipcode'][:10]"
   ]
  },
  {
   "cell_type": "code",
   "execution_count": 44,
   "id": "5d207e3b",
   "metadata": {
    "colab": {
     "base_uri": "https://localhost:8080/"
    },
    "id": "5d207e3b",
    "outputId": "1748253e-92b6-4359-e483-16f0eda52fcf"
   },
   "outputs": [
    {
     "data": {
      "text/plain": [
       "0     55\n",
       "1     51\n",
       "2     33\n",
       "3     65\n",
       "4     87\n",
       "5    101\n",
       "6     95\n",
       "7     63\n",
       "8     60\n",
       "9    103\n",
       "Name: yr_built, dtype: int64"
      ]
     },
     "execution_count": 44,
     "metadata": {},
     "output_type": "execute_result"
    }
   ],
   "source": [
    "df['yr_built']=label_encoder.fit_transform(df['yr_built'])\n",
    "df['yr_built'][:10]"
   ]
  },
  {
   "cell_type": "code",
   "execution_count": 45,
   "id": "3511ce67",
   "metadata": {
    "colab": {
     "base_uri": "https://localhost:8080/",
     "height": 250
    },
    "id": "3511ce67",
    "outputId": "aa1d012b-76d8-4a36-b7f5-b6e4631b82d0"
   },
   "outputs": [
    {
     "data": {
      "text/html": [
       "\n",
       "  <div id=\"df-3dfd9c95-bdeb-48b9-b224-0324df3a6469\">\n",
       "    <div class=\"colab-df-container\">\n",
       "      <div>\n",
       "<style scoped>\n",
       "    .dataframe tbody tr th:only-of-type {\n",
       "        vertical-align: middle;\n",
       "    }\n",
       "\n",
       "    .dataframe tbody tr th {\n",
       "        vertical-align: top;\n",
       "    }\n",
       "\n",
       "    .dataframe thead th {\n",
       "        text-align: right;\n",
       "    }\n",
       "</style>\n",
       "<table border=\"1\" class=\"dataframe\">\n",
       "  <thead>\n",
       "    <tr style=\"text-align: right;\">\n",
       "      <th></th>\n",
       "      <th>bedrooms</th>\n",
       "      <th>bathrooms</th>\n",
       "      <th>floors</th>\n",
       "      <th>waterfront</th>\n",
       "      <th>view</th>\n",
       "      <th>condition</th>\n",
       "      <th>grade</th>\n",
       "      <th>yr_built</th>\n",
       "      <th>zipcode</th>\n",
       "      <th>price_log</th>\n",
       "      <th>sqft_above_log</th>\n",
       "      <th>sqft_basement_log</th>\n",
       "      <th>sqft_lot_log</th>\n",
       "      <th>sqft_living_log</th>\n",
       "    </tr>\n",
       "  </thead>\n",
       "  <tbody>\n",
       "    <tr>\n",
       "      <th>0</th>\n",
       "      <td>3</td>\n",
       "      <td>1</td>\n",
       "      <td>1</td>\n",
       "      <td>0</td>\n",
       "      <td>0</td>\n",
       "      <td>3</td>\n",
       "      <td>7</td>\n",
       "      <td>55</td>\n",
       "      <td>66</td>\n",
       "      <td>12.309987</td>\n",
       "      <td>7.074117</td>\n",
       "      <td>0.000000</td>\n",
       "      <td>8.639588</td>\n",
       "      <td>7.201171</td>\n",
       "    </tr>\n",
       "    <tr>\n",
       "      <th>1</th>\n",
       "      <td>3</td>\n",
       "      <td>2</td>\n",
       "      <td>2</td>\n",
       "      <td>0</td>\n",
       "      <td>0</td>\n",
       "      <td>3</td>\n",
       "      <td>7</td>\n",
       "      <td>51</td>\n",
       "      <td>55</td>\n",
       "      <td>13.195616</td>\n",
       "      <td>7.682943</td>\n",
       "      <td>5.993961</td>\n",
       "      <td>8.941153</td>\n",
       "      <td>7.433075</td>\n",
       "    </tr>\n",
       "    <tr>\n",
       "      <th>2</th>\n",
       "      <td>2</td>\n",
       "      <td>1</td>\n",
       "      <td>1</td>\n",
       "      <td>0</td>\n",
       "      <td>0</td>\n",
       "      <td>3</td>\n",
       "      <td>6</td>\n",
       "      <td>33</td>\n",
       "      <td>16</td>\n",
       "      <td>12.100718</td>\n",
       "      <td>6.647688</td>\n",
       "      <td>0.000000</td>\n",
       "      <td>8.995041</td>\n",
       "      <td>7.908755</td>\n",
       "    </tr>\n",
       "    <tr>\n",
       "      <th>3</th>\n",
       "      <td>4</td>\n",
       "      <td>3</td>\n",
       "      <td>1</td>\n",
       "      <td>0</td>\n",
       "      <td>0</td>\n",
       "      <td>5</td>\n",
       "      <td>7</td>\n",
       "      <td>65</td>\n",
       "      <td>58</td>\n",
       "      <td>13.311331</td>\n",
       "      <td>6.957497</td>\n",
       "      <td>6.814543</td>\n",
       "      <td>8.517393</td>\n",
       "      <td>7.215975</td>\n",
       "    </tr>\n",
       "    <tr>\n",
       "      <th>4</th>\n",
       "      <td>3</td>\n",
       "      <td>2</td>\n",
       "      <td>1</td>\n",
       "      <td>0</td>\n",
       "      <td>0</td>\n",
       "      <td>3</td>\n",
       "      <td>8</td>\n",
       "      <td>87</td>\n",
       "      <td>37</td>\n",
       "      <td>13.142168</td>\n",
       "      <td>7.427144</td>\n",
       "      <td>0.000000</td>\n",
       "      <td>8.923191</td>\n",
       "      <td>7.496097</td>\n",
       "    </tr>\n",
       "  </tbody>\n",
       "</table>\n",
       "</div>\n",
       "      <button class=\"colab-df-convert\" onclick=\"convertToInteractive('df-3dfd9c95-bdeb-48b9-b224-0324df3a6469')\"\n",
       "              title=\"Convert this dataframe to an interactive table.\"\n",
       "              style=\"display:none;\">\n",
       "        \n",
       "  <svg xmlns=\"http://www.w3.org/2000/svg\" height=\"24px\"viewBox=\"0 0 24 24\"\n",
       "       width=\"24px\">\n",
       "    <path d=\"M0 0h24v24H0V0z\" fill=\"none\"/>\n",
       "    <path d=\"M18.56 5.44l.94 2.06.94-2.06 2.06-.94-2.06-.94-.94-2.06-.94 2.06-2.06.94zm-11 1L8.5 8.5l.94-2.06 2.06-.94-2.06-.94L8.5 2.5l-.94 2.06-2.06.94zm10 10l.94 2.06.94-2.06 2.06-.94-2.06-.94-.94-2.06-.94 2.06-2.06.94z\"/><path d=\"M17.41 7.96l-1.37-1.37c-.4-.4-.92-.59-1.43-.59-.52 0-1.04.2-1.43.59L10.3 9.45l-7.72 7.72c-.78.78-.78 2.05 0 2.83L4 21.41c.39.39.9.59 1.41.59.51 0 1.02-.2 1.41-.59l7.78-7.78 2.81-2.81c.8-.78.8-2.07 0-2.86zM5.41 20L4 18.59l7.72-7.72 1.47 1.35L5.41 20z\"/>\n",
       "  </svg>\n",
       "      </button>\n",
       "      \n",
       "  <style>\n",
       "    .colab-df-container {\n",
       "      display:flex;\n",
       "      flex-wrap:wrap;\n",
       "      gap: 12px;\n",
       "    }\n",
       "\n",
       "    .colab-df-convert {\n",
       "      background-color: #E8F0FE;\n",
       "      border: none;\n",
       "      border-radius: 50%;\n",
       "      cursor: pointer;\n",
       "      display: none;\n",
       "      fill: #1967D2;\n",
       "      height: 32px;\n",
       "      padding: 0 0 0 0;\n",
       "      width: 32px;\n",
       "    }\n",
       "\n",
       "    .colab-df-convert:hover {\n",
       "      background-color: #E2EBFA;\n",
       "      box-shadow: 0px 1px 2px rgba(60, 64, 67, 0.3), 0px 1px 3px 1px rgba(60, 64, 67, 0.15);\n",
       "      fill: #174EA6;\n",
       "    }\n",
       "\n",
       "    [theme=dark] .colab-df-convert {\n",
       "      background-color: #3B4455;\n",
       "      fill: #D2E3FC;\n",
       "    }\n",
       "\n",
       "    [theme=dark] .colab-df-convert:hover {\n",
       "      background-color: #434B5C;\n",
       "      box-shadow: 0px 1px 3px 1px rgba(0, 0, 0, 0.15);\n",
       "      filter: drop-shadow(0px 1px 2px rgba(0, 0, 0, 0.3));\n",
       "      fill: #FFFFFF;\n",
       "    }\n",
       "  </style>\n",
       "\n",
       "      <script>\n",
       "        const buttonEl =\n",
       "          document.querySelector('#df-3dfd9c95-bdeb-48b9-b224-0324df3a6469 button.colab-df-convert');\n",
       "        buttonEl.style.display =\n",
       "          google.colab.kernel.accessAllowed ? 'block' : 'none';\n",
       "\n",
       "        async function convertToInteractive(key) {\n",
       "          const element = document.querySelector('#df-3dfd9c95-bdeb-48b9-b224-0324df3a6469');\n",
       "          const dataTable =\n",
       "            await google.colab.kernel.invokeFunction('convertToInteractive',\n",
       "                                                     [key], {});\n",
       "          if (!dataTable) return;\n",
       "\n",
       "          const docLinkHtml = 'Like what you see? Visit the ' +\n",
       "            '<a target=\"_blank\" href=https://colab.research.google.com/notebooks/data_table.ipynb>data table notebook</a>'\n",
       "            + ' to learn more about interactive tables.';\n",
       "          element.innerHTML = '';\n",
       "          dataTable['output_type'] = 'display_data';\n",
       "          await google.colab.output.renderOutput(dataTable, element);\n",
       "          const docLink = document.createElement('div');\n",
       "          docLink.innerHTML = docLinkHtml;\n",
       "          element.appendChild(docLink);\n",
       "        }\n",
       "      </script>\n",
       "    </div>\n",
       "  </div>\n",
       "  "
      ],
      "text/plain": [
       "   bedrooms  bathrooms  floors  waterfront  view  condition  grade  yr_built  \\\n",
       "0         3          1       1           0     0          3      7        55   \n",
       "1         3          2       2           0     0          3      7        51   \n",
       "2         2          1       1           0     0          3      6        33   \n",
       "3         4          3       1           0     0          5      7        65   \n",
       "4         3          2       1           0     0          3      8        87   \n",
       "\n",
       "   zipcode  price_log  sqft_above_log  sqft_basement_log  sqft_lot_log  \\\n",
       "0       66  12.309987        7.074117           0.000000      8.639588   \n",
       "1       55  13.195616        7.682943           5.993961      8.941153   \n",
       "2       16  12.100718        6.647688           0.000000      8.995041   \n",
       "3       58  13.311331        6.957497           6.814543      8.517393   \n",
       "4       37  13.142168        7.427144           0.000000      8.923191   \n",
       "\n",
       "   sqft_living_log  \n",
       "0         7.201171  \n",
       "1         7.433075  \n",
       "2         7.908755  \n",
       "3         7.215975  \n",
       "4         7.496097  "
      ]
     },
     "execution_count": 45,
     "metadata": {},
     "output_type": "execute_result"
    }
   ],
   "source": [
    "df.head()"
   ]
  },
  {
   "cell_type": "markdown",
   "id": "5b47a896",
   "metadata": {
    "id": "5b47a896"
   },
   "source": [
    "### Split into Input and output"
   ]
  },
  {
   "cell_type": "code",
   "execution_count": 46,
   "id": "69f7cec0",
   "metadata": {
    "id": "69f7cec0"
   },
   "outputs": [],
   "source": [
    "X=df.drop('price_log', axis=1)\n",
    "y=df['price_log']"
   ]
  },
  {
   "cell_type": "markdown",
   "id": "f01a864a",
   "metadata": {
    "id": "f01a864a"
   },
   "source": [
    "### Train test split"
   ]
  },
  {
   "cell_type": "code",
   "execution_count": 47,
   "id": "080ed6d3",
   "metadata": {
    "id": "080ed6d3"
   },
   "outputs": [],
   "source": [
    "from sklearn.model_selection import train_test_split\n",
    "x_train,x_test,y_train,y_test=train_test_split(X,y,test_size=0.2, random_state=0)"
   ]
  },
  {
   "cell_type": "code",
   "execution_count": 48,
   "id": "3bb0d59d",
   "metadata": {
    "colab": {
     "base_uri": "https://localhost:8080/"
    },
    "id": "3bb0d59d",
    "outputId": "6945cf50-6fbd-4b9b-96db-8b2185528dc3"
   },
   "outputs": [
    {
     "data": {
      "text/plain": [
       "((17290, 13), (4323, 13), (17290,), (4323,))"
      ]
     },
     "execution_count": 48,
     "metadata": {},
     "output_type": "execute_result"
    }
   ],
   "source": [
    "x_train.shape,x_test.shape,y_train.shape,y_test.shape"
   ]
  },
  {
   "cell_type": "code",
   "execution_count": 49,
   "id": "e25914d4",
   "metadata": {
    "id": "e25914d4"
   },
   "outputs": [],
   "source": [
    "from sklearn.preprocessing import StandardScaler\n",
    "std=StandardScaler()\n",
    "std_fit=std.fit(x_train)\n",
    "x_train_tf=std_fit.transform(x_train)\n",
    "x_test_tf=std_fit.transform(x_test)"
   ]
  },
  {
   "cell_type": "code",
   "execution_count": 50,
   "id": "9be9b412",
   "metadata": {
    "colab": {
     "base_uri": "https://localhost:8080/"
    },
    "id": "9be9b412",
    "outputId": "f0ef0bdd-4667-4419-be23-a968d4c9a35a"
   },
   "outputs": [
    {
     "data": {
      "text/plain": [
       "array([[-0.39003389, -1.02247862, -0.80980713, -0.09067554, -0.30872938,\n",
       "         0.9125681 , -0.56106598, -1.05018286,  0.71979467, -0.97657401,\n",
       "         1.15884716, -0.24229631, -0.18631661],\n",
       "       [-0.39003389,  0.33773184, -0.80980713, -0.09067554, -0.30872938,\n",
       "         0.9125681 ,  0.28898929,  0.30645855, -1.56395646, -0.68992337,\n",
       "         1.20005226,  0.26918602,  0.62580271],\n",
       "       [-0.39003389, -1.02247862, -0.80980713, -0.09067554, -0.30872938,\n",
       "        -0.62557797,  0.28898929,  0.54387079,  0.09695345, -0.93340406,\n",
       "        -0.79978391,  0.28940751, -0.29149142],\n",
       "       [ 0.67029408,  0.33773184,  0.99335645, -0.09067554, -0.30872938,\n",
       "        -0.62557797,  0.28898929,  0.74736701, -0.83730837,  0.71470077,\n",
       "        -0.79978391, -0.12907513,  0.1401859 ],\n",
       "       [-0.39003389,  0.33773184,  0.99335645, -0.09067554, -0.30872938,\n",
       "        -0.62557797, -0.56106598,  0.47603872,  0.92740841, -0.63282585,\n",
       "         1.1944856 , -0.59911815, -0.15204876]])"
      ]
     },
     "execution_count": 50,
     "metadata": {},
     "output_type": "execute_result"
    }
   ],
   "source": [
    "x_train_tf[:5]"
   ]
  },
  {
   "cell_type": "code",
   "execution_count": 51,
   "id": "fdc4d02f",
   "metadata": {
    "colab": {
     "base_uri": "https://localhost:8080/"
    },
    "id": "fdc4d02f",
    "outputId": "24e9f136-b17f-4514-a969-523131617dd9"
   },
   "outputs": [
    {
     "data": {
      "text/plain": [
       "array([[-1.45036186, -1.02247862,  2.79652003, -0.09067554, -0.30872938,\n",
       "        -0.62557797, -0.56106598,  0.95086322,  1.03121528, -0.30043773,\n",
       "        -0.79978391, -1.89302068, -0.83681182],\n",
       "       [ 0.67029408,  1.69794229,  0.99335645, -0.09067554, -0.30872938,\n",
       "         0.9125681 ,  3.68921038,  0.57778683, -1.61585989,  2.45981845,\n",
       "        -0.79978391,  2.03132841,  2.47123416],\n",
       "       [-1.45036186, -2.38268907, -0.80980713, -0.09067554, -0.30872938,\n",
       "        -0.62557797, -0.56106598, -1.93199978,  0.51218093, -0.70927065,\n",
       "         0.92828017, -0.7239534 , -0.81556159],\n",
       "       [-1.45036186, -1.02247862, -0.80980713, -0.09067554, -0.30872938,\n",
       "         0.9125681 ,  0.28898929, -1.49109132,  0.6159878 , -0.84938891,\n",
       "        -0.79978391, -1.08461787, -0.34547019],\n",
       "       [ 0.67029408,  0.33773184,  0.99335645, -0.09067554,  2.28501745,\n",
       "        -0.62557797,  1.13904456,  1.05261132,  1.39453933,  1.56342894,\n",
       "        -0.79978391,  0.82246682,  0.79280467]])"
      ]
     },
     "execution_count": 51,
     "metadata": {},
     "output_type": "execute_result"
    }
   ],
   "source": [
    "x_test_tf[:5]"
   ]
  },
  {
   "cell_type": "markdown",
   "id": "fcab2968",
   "metadata": {
    "id": "fcab2968"
   },
   "source": [
    "### ANN Model to predict House price"
   ]
  },
  {
   "cell_type": "code",
   "execution_count": 52,
   "id": "e3b589d5",
   "metadata": {
    "id": "e3b589d5"
   },
   "outputs": [],
   "source": [
    "import keras\n",
    "from keras.layers import Dense\n",
    "from keras.models import Sequential"
   ]
  },
  {
   "cell_type": "code",
   "execution_count": 53,
   "id": "ThRh4xCdrV-V",
   "metadata": {
    "colab": {
     "base_uri": "https://localhost:8080/"
    },
    "id": "ThRh4xCdrV-V",
    "outputId": "f9133f33-629d-483c-fbd5-57587cc2bf67"
   },
   "outputs": [
    {
     "name": "stdout",
     "output_type": "stream",
     "text": [
      "Model: \"sequential\"\n",
      "_________________________________________________________________\n",
      " Layer (type)                Output Shape              Param #   \n",
      "=================================================================\n",
      " dense (Dense)               (None, 32)                448       \n",
      "                                                                 \n",
      " dense_1 (Dense)             (None, 64)                2112      \n",
      "                                                                 \n",
      " dense_2 (Dense)             (None, 124)               8060      \n",
      "                                                                 \n",
      " dense_3 (Dense)             (None, 252)               31500     \n",
      "                                                                 \n",
      " dense_4 (Dense)             (None, 512)               129536    \n",
      "                                                                 \n",
      " dense_5 (Dense)             (None, 1)                 513       \n",
      "                                                                 \n",
      "=================================================================\n",
      "Total params: 172,169\n",
      "Trainable params: 172,169\n",
      "Non-trainable params: 0\n",
      "_________________________________________________________________\n"
     ]
    }
   ],
   "source": [
    "model=Sequential()\n",
    "model.add(Dense(units=32, kernel_initializer='normal', activation='relu', input_dim=13))\n",
    "model.add(Dense(units=64, kernel_initializer='normal', activation='relu'))\n",
    "model.add(Dense(units=124, kernel_initializer='normal', activation='relu'))\n",
    "model.add(Dense(units=252, kernel_initializer='normal', activation='relu'))\n",
    "model.add(Dense(units=512, kernel_initializer='normal', activation='tanh'))\n",
    "model.add(Dense(units=1, activation='relu'))\n",
    "model.summary()"
   ]
  },
  {
   "cell_type": "code",
   "execution_count": 54,
   "id": "qR20OWiZtDDY",
   "metadata": {
    "id": "qR20OWiZtDDY"
   },
   "outputs": [],
   "source": [
    "#compile layer\n",
    "model.compile(optimizer='adam', loss='MeanSquaredError', metrics='mean_squared_error')"
   ]
  },
  {
   "cell_type": "code",
   "execution_count": 55,
   "id": "2BhNHOyVu77U",
   "metadata": {
    "colab": {
     "base_uri": "https://localhost:8080/"
    },
    "id": "2BhNHOyVu77U",
    "outputId": "308e31ac-9d89-43a1-d0a4-0b6e8e3077cb"
   },
   "outputs": [
    {
     "name": "stdout",
     "output_type": "stream",
     "text": [
      "Epoch 1/100\n",
      "541/541 [==============================] - 14s 12ms/step - loss: 4.7498 - mean_squared_error: 4.7498 - val_loss: 0.0910 - val_mean_squared_error: 0.0910\n",
      "Epoch 2/100\n",
      "541/541 [==============================] - 4s 8ms/step - loss: 0.1013 - mean_squared_error: 0.1013 - val_loss: 0.0888 - val_mean_squared_error: 0.0888\n",
      "Epoch 3/100\n",
      "541/541 [==============================] - 5s 8ms/step - loss: 0.0939 - mean_squared_error: 0.0939 - val_loss: 0.0897 - val_mean_squared_error: 0.0897\n",
      "Epoch 4/100\n",
      "541/541 [==============================] - 5s 10ms/step - loss: 0.0938 - mean_squared_error: 0.0938 - val_loss: 0.0985 - val_mean_squared_error: 0.0985\n",
      "Epoch 5/100\n",
      "541/541 [==============================] - 4s 8ms/step - loss: 0.0972 - mean_squared_error: 0.0972 - val_loss: 0.0994 - val_mean_squared_error: 0.0994\n",
      "Epoch 6/100\n",
      "541/541 [==============================] - 2s 4ms/step - loss: 0.0988 - mean_squared_error: 0.0988 - val_loss: 0.1275 - val_mean_squared_error: 0.1275\n",
      "Epoch 7/100\n",
      "541/541 [==============================] - 2s 4ms/step - loss: 0.0984 - mean_squared_error: 0.0984 - val_loss: 0.1717 - val_mean_squared_error: 0.1717\n",
      "Epoch 8/100\n",
      "541/541 [==============================] - 3s 6ms/step - loss: 0.0899 - mean_squared_error: 0.0899 - val_loss: 0.0789 - val_mean_squared_error: 0.0789\n",
      "Epoch 9/100\n",
      "541/541 [==============================] - 3s 5ms/step - loss: 0.0937 - mean_squared_error: 0.0937 - val_loss: 0.0840 - val_mean_squared_error: 0.0840\n",
      "Epoch 10/100\n",
      "541/541 [==============================] - 2s 4ms/step - loss: 0.0880 - mean_squared_error: 0.0880 - val_loss: 0.0786 - val_mean_squared_error: 0.0786\n",
      "Epoch 11/100\n",
      "541/541 [==============================] - 2s 4ms/step - loss: 0.0918 - mean_squared_error: 0.0918 - val_loss: 0.0810 - val_mean_squared_error: 0.0810\n",
      "Epoch 12/100\n",
      "541/541 [==============================] - 2s 4ms/step - loss: 0.0903 - mean_squared_error: 0.0903 - val_loss: 0.0774 - val_mean_squared_error: 0.0774\n",
      "Epoch 13/100\n",
      "541/541 [==============================] - 3s 5ms/step - loss: 0.0900 - mean_squared_error: 0.0900 - val_loss: 0.0771 - val_mean_squared_error: 0.0771\n",
      "Epoch 14/100\n",
      "541/541 [==============================] - 5s 9ms/step - loss: 0.0826 - mean_squared_error: 0.0826 - val_loss: 0.0828 - val_mean_squared_error: 0.0828\n",
      "Epoch 15/100\n",
      "541/541 [==============================] - 3s 5ms/step - loss: 0.0824 - mean_squared_error: 0.0824 - val_loss: 0.0793 - val_mean_squared_error: 0.0793\n",
      "Epoch 16/100\n",
      "541/541 [==============================] - 2s 4ms/step - loss: 0.0852 - mean_squared_error: 0.0852 - val_loss: 0.0796 - val_mean_squared_error: 0.0796\n",
      "Epoch 17/100\n",
      "541/541 [==============================] - 2s 4ms/step - loss: 0.0807 - mean_squared_error: 0.0807 - val_loss: 0.0767 - val_mean_squared_error: 0.0767\n",
      "Epoch 18/100\n",
      "541/541 [==============================] - 3s 5ms/step - loss: 0.0803 - mean_squared_error: 0.0803 - val_loss: 0.0769 - val_mean_squared_error: 0.0769\n",
      "Epoch 19/100\n",
      "541/541 [==============================] - 3s 6ms/step - loss: 0.0800 - mean_squared_error: 0.0800 - val_loss: 0.0826 - val_mean_squared_error: 0.0826\n",
      "Epoch 20/100\n",
      "541/541 [==============================] - 2s 4ms/step - loss: 0.0781 - mean_squared_error: 0.0781 - val_loss: 0.0969 - val_mean_squared_error: 0.0969\n",
      "Epoch 21/100\n",
      "541/541 [==============================] - 2s 4ms/step - loss: 0.0789 - mean_squared_error: 0.0789 - val_loss: 0.0811 - val_mean_squared_error: 0.0811\n",
      "Epoch 22/100\n",
      "541/541 [==============================] - 2s 4ms/step - loss: 0.0774 - mean_squared_error: 0.0774 - val_loss: 0.0853 - val_mean_squared_error: 0.0853\n",
      "Epoch 23/100\n",
      "541/541 [==============================] - 3s 5ms/step - loss: 0.0778 - mean_squared_error: 0.0778 - val_loss: 0.0747 - val_mean_squared_error: 0.0747\n",
      "Epoch 24/100\n",
      "541/541 [==============================] - 3s 6ms/step - loss: 0.0760 - mean_squared_error: 0.0760 - val_loss: 0.0853 - val_mean_squared_error: 0.0853\n",
      "Epoch 25/100\n",
      "541/541 [==============================] - 2s 5ms/step - loss: 0.0754 - mean_squared_error: 0.0754 - val_loss: 0.0919 - val_mean_squared_error: 0.0919\n",
      "Epoch 26/100\n",
      "541/541 [==============================] - 3s 5ms/step - loss: 0.0749 - mean_squared_error: 0.0749 - val_loss: 0.0804 - val_mean_squared_error: 0.0804\n",
      "Epoch 27/100\n",
      "541/541 [==============================] - 2s 4ms/step - loss: 0.0756 - mean_squared_error: 0.0756 - val_loss: 0.0741 - val_mean_squared_error: 0.0741\n",
      "Epoch 28/100\n",
      "541/541 [==============================] - 3s 5ms/step - loss: 0.0745 - mean_squared_error: 0.0745 - val_loss: 0.0733 - val_mean_squared_error: 0.0733\n",
      "Epoch 29/100\n",
      "541/541 [==============================] - 3s 6ms/step - loss: 0.0741 - mean_squared_error: 0.0741 - val_loss: 0.0836 - val_mean_squared_error: 0.0836\n",
      "Epoch 30/100\n",
      "541/541 [==============================] - 2s 4ms/step - loss: 0.0718 - mean_squared_error: 0.0718 - val_loss: 0.0747 - val_mean_squared_error: 0.0747\n",
      "Epoch 31/100\n",
      "541/541 [==============================] - 2s 4ms/step - loss: 0.0721 - mean_squared_error: 0.0721 - val_loss: 0.1059 - val_mean_squared_error: 0.1059\n",
      "Epoch 32/100\n",
      "541/541 [==============================] - 2s 4ms/step - loss: 0.0721 - mean_squared_error: 0.0721 - val_loss: 0.0727 - val_mean_squared_error: 0.0727\n",
      "Epoch 33/100\n",
      "541/541 [==============================] - 2s 4ms/step - loss: 0.0698 - mean_squared_error: 0.0698 - val_loss: 0.0730 - val_mean_squared_error: 0.0730\n",
      "Epoch 34/100\n",
      "541/541 [==============================] - 3s 6ms/step - loss: 0.0704 - mean_squared_error: 0.0704 - val_loss: 0.0766 - val_mean_squared_error: 0.0766\n",
      "Epoch 35/100\n",
      "541/541 [==============================] - 3s 5ms/step - loss: 0.0710 - mean_squared_error: 0.0710 - val_loss: 0.0719 - val_mean_squared_error: 0.0719\n",
      "Epoch 36/100\n",
      "541/541 [==============================] - 2s 4ms/step - loss: 0.0700 - mean_squared_error: 0.0700 - val_loss: 0.0752 - val_mean_squared_error: 0.0752\n",
      "Epoch 37/100\n",
      "541/541 [==============================] - 2s 4ms/step - loss: 0.0688 - mean_squared_error: 0.0688 - val_loss: 0.0736 - val_mean_squared_error: 0.0736\n",
      "Epoch 38/100\n",
      "541/541 [==============================] - 3s 5ms/step - loss: 0.0683 - mean_squared_error: 0.0683 - val_loss: 0.0740 - val_mean_squared_error: 0.0740\n",
      "Epoch 39/100\n",
      "541/541 [==============================] - 4s 7ms/step - loss: 0.0676 - mean_squared_error: 0.0676 - val_loss: 0.0735 - val_mean_squared_error: 0.0735\n",
      "Epoch 40/100\n",
      "541/541 [==============================] - 3s 5ms/step - loss: 0.0672 - mean_squared_error: 0.0672 - val_loss: 0.0759 - val_mean_squared_error: 0.0759\n",
      "Epoch 41/100\n",
      "541/541 [==============================] - 2s 4ms/step - loss: 0.0665 - mean_squared_error: 0.0665 - val_loss: 0.0762 - val_mean_squared_error: 0.0762\n",
      "Epoch 42/100\n",
      "541/541 [==============================] - 2s 4ms/step - loss: 0.0659 - mean_squared_error: 0.0659 - val_loss: 0.0878 - val_mean_squared_error: 0.0878\n",
      "Epoch 43/100\n",
      "541/541 [==============================] - 2s 4ms/step - loss: 0.0657 - mean_squared_error: 0.0657 - val_loss: 0.0814 - val_mean_squared_error: 0.0814\n",
      "Epoch 44/100\n",
      "541/541 [==============================] - 3s 6ms/step - loss: 0.0657 - mean_squared_error: 0.0657 - val_loss: 0.0957 - val_mean_squared_error: 0.0957\n",
      "Epoch 45/100\n",
      "541/541 [==============================] - 3s 6ms/step - loss: 0.0656 - mean_squared_error: 0.0656 - val_loss: 0.0716 - val_mean_squared_error: 0.0716\n",
      "Epoch 46/100\n",
      "541/541 [==============================] - 2s 5ms/step - loss: 0.0654 - mean_squared_error: 0.0654 - val_loss: 0.0877 - val_mean_squared_error: 0.0877\n",
      "Epoch 47/100\n",
      "541/541 [==============================] - 2s 4ms/step - loss: 0.0639 - mean_squared_error: 0.0639 - val_loss: 0.0769 - val_mean_squared_error: 0.0769\n",
      "Epoch 48/100\n",
      "541/541 [==============================] - 2s 5ms/step - loss: 0.0640 - mean_squared_error: 0.0640 - val_loss: 0.0773 - val_mean_squared_error: 0.0773\n",
      "Epoch 49/100\n",
      "541/541 [==============================] - 3s 5ms/step - loss: 0.0636 - mean_squared_error: 0.0636 - val_loss: 0.0736 - val_mean_squared_error: 0.0736\n",
      "Epoch 50/100\n",
      "541/541 [==============================] - 3s 6ms/step - loss: 0.0637 - mean_squared_error: 0.0637 - val_loss: 0.0687 - val_mean_squared_error: 0.0687\n",
      "Epoch 51/100\n",
      "541/541 [==============================] - 2s 4ms/step - loss: 0.0619 - mean_squared_error: 0.0619 - val_loss: 0.0782 - val_mean_squared_error: 0.0782\n",
      "Epoch 52/100\n",
      "541/541 [==============================] - 2s 5ms/step - loss: 0.0621 - mean_squared_error: 0.0621 - val_loss: 0.0722 - val_mean_squared_error: 0.0722\n",
      "Epoch 53/100\n",
      "541/541 [==============================] - 2s 4ms/step - loss: 0.0627 - mean_squared_error: 0.0627 - val_loss: 0.0816 - val_mean_squared_error: 0.0816\n",
      "Epoch 54/100\n",
      "541/541 [==============================] - 2s 4ms/step - loss: 0.0597 - mean_squared_error: 0.0597 - val_loss: 0.0793 - val_mean_squared_error: 0.0793\n",
      "Epoch 55/100\n",
      "541/541 [==============================] - 4s 7ms/step - loss: 0.0613 - mean_squared_error: 0.0613 - val_loss: 0.0784 - val_mean_squared_error: 0.0784\n",
      "Epoch 56/100\n",
      "541/541 [==============================] - 4s 8ms/step - loss: 0.0616 - mean_squared_error: 0.0616 - val_loss: 0.0762 - val_mean_squared_error: 0.0762\n",
      "Epoch 57/100\n",
      "541/541 [==============================] - 2s 4ms/step - loss: 0.0598 - mean_squared_error: 0.0598 - val_loss: 0.0698 - val_mean_squared_error: 0.0698\n",
      "Epoch 58/100\n",
      "541/541 [==============================] - 2s 5ms/step - loss: 0.0588 - mean_squared_error: 0.0588 - val_loss: 0.0741 - val_mean_squared_error: 0.0741\n",
      "Epoch 59/100\n",
      "541/541 [==============================] - 2s 4ms/step - loss: 0.0588 - mean_squared_error: 0.0588 - val_loss: 0.0701 - val_mean_squared_error: 0.0701\n",
      "Epoch 60/100\n",
      "541/541 [==============================] - 3s 6ms/step - loss: 0.0594 - mean_squared_error: 0.0594 - val_loss: 0.0722 - val_mean_squared_error: 0.0722\n",
      "Epoch 61/100\n",
      "541/541 [==============================] - 3s 5ms/step - loss: 0.0579 - mean_squared_error: 0.0579 - val_loss: 0.0754 - val_mean_squared_error: 0.0754\n",
      "Epoch 62/100\n",
      "541/541 [==============================] - 2s 5ms/step - loss: 0.0577 - mean_squared_error: 0.0577 - val_loss: 0.0747 - val_mean_squared_error: 0.0747\n",
      "Epoch 63/100\n",
      "541/541 [==============================] - 2s 4ms/step - loss: 0.0572 - mean_squared_error: 0.0572 - val_loss: 0.0688 - val_mean_squared_error: 0.0688\n",
      "Epoch 64/100\n",
      "541/541 [==============================] - 2s 4ms/step - loss: 0.0571 - mean_squared_error: 0.0571 - val_loss: 0.0698 - val_mean_squared_error: 0.0698\n",
      "Epoch 65/100\n",
      "541/541 [==============================] - 3s 5ms/step - loss: 0.0565 - mean_squared_error: 0.0565 - val_loss: 0.0749 - val_mean_squared_error: 0.0749\n",
      "Epoch 66/100\n",
      "541/541 [==============================] - 4s 7ms/step - loss: 0.0560 - mean_squared_error: 0.0560 - val_loss: 0.0724 - val_mean_squared_error: 0.0724\n",
      "Epoch 67/100\n",
      "541/541 [==============================] - 3s 5ms/step - loss: 0.0564 - mean_squared_error: 0.0564 - val_loss: 0.0730 - val_mean_squared_error: 0.0730\n",
      "Epoch 68/100\n",
      "541/541 [==============================] - 3s 5ms/step - loss: 0.0550 - mean_squared_error: 0.0550 - val_loss: 0.0711 - val_mean_squared_error: 0.0711\n",
      "Epoch 69/100\n",
      "541/541 [==============================] - 3s 5ms/step - loss: 0.0565 - mean_squared_error: 0.0565 - val_loss: 0.0916 - val_mean_squared_error: 0.0916\n",
      "Epoch 70/100\n",
      "541/541 [==============================] - 3s 6ms/step - loss: 0.0549 - mean_squared_error: 0.0549 - val_loss: 0.0748 - val_mean_squared_error: 0.0748\n",
      "Epoch 71/100\n",
      "541/541 [==============================] - 3s 6ms/step - loss: 0.0551 - mean_squared_error: 0.0551 - val_loss: 0.0869 - val_mean_squared_error: 0.0869\n",
      "Epoch 72/100\n",
      "541/541 [==============================] - 3s 5ms/step - loss: 0.0547 - mean_squared_error: 0.0547 - val_loss: 0.0755 - val_mean_squared_error: 0.0755\n",
      "Epoch 73/100\n",
      "541/541 [==============================] - 3s 5ms/step - loss: 0.0536 - mean_squared_error: 0.0536 - val_loss: 0.0842 - val_mean_squared_error: 0.0842\n",
      "Epoch 74/100\n",
      "541/541 [==============================] - 3s 6ms/step - loss: 0.0538 - mean_squared_error: 0.0538 - val_loss: 0.0739 - val_mean_squared_error: 0.0739\n",
      "Epoch 75/100\n",
      "541/541 [==============================] - 4s 7ms/step - loss: 0.0533 - mean_squared_error: 0.0533 - val_loss: 0.0765 - val_mean_squared_error: 0.0765\n",
      "Epoch 76/100\n",
      "541/541 [==============================] - 3s 5ms/step - loss: 0.0537 - mean_squared_error: 0.0537 - val_loss: 0.0695 - val_mean_squared_error: 0.0695\n",
      "Epoch 77/100\n",
      "541/541 [==============================] - 3s 5ms/step - loss: 0.0528 - mean_squared_error: 0.0528 - val_loss: 0.0787 - val_mean_squared_error: 0.0787\n",
      "Epoch 78/100\n",
      "541/541 [==============================] - 3s 5ms/step - loss: 0.0527 - mean_squared_error: 0.0527 - val_loss: 0.0732 - val_mean_squared_error: 0.0732\n",
      "Epoch 79/100\n",
      "541/541 [==============================] - 3s 5ms/step - loss: 0.0522 - mean_squared_error: 0.0522 - val_loss: 0.0715 - val_mean_squared_error: 0.0715\n",
      "Epoch 80/100\n",
      "541/541 [==============================] - 4s 7ms/step - loss: 0.0527 - mean_squared_error: 0.0527 - val_loss: 0.0706 - val_mean_squared_error: 0.0706\n",
      "Epoch 81/100\n",
      "541/541 [==============================] - 3s 5ms/step - loss: 0.0516 - mean_squared_error: 0.0516 - val_loss: 0.0749 - val_mean_squared_error: 0.0749\n",
      "Epoch 82/100\n",
      "541/541 [==============================] - 3s 5ms/step - loss: 0.0517 - mean_squared_error: 0.0517 - val_loss: 0.0732 - val_mean_squared_error: 0.0732\n",
      "Epoch 83/100\n",
      "541/541 [==============================] - 3s 5ms/step - loss: 0.0516 - mean_squared_error: 0.0516 - val_loss: 0.0729 - val_mean_squared_error: 0.0729\n",
      "Epoch 84/100\n",
      "541/541 [==============================] - 3s 5ms/step - loss: 0.0500 - mean_squared_error: 0.0500 - val_loss: 0.0724 - val_mean_squared_error: 0.0724\n",
      "Epoch 85/100\n",
      "541/541 [==============================] - 4s 7ms/step - loss: 0.0504 - mean_squared_error: 0.0504 - val_loss: 0.0727 - val_mean_squared_error: 0.0727\n",
      "Epoch 86/100\n",
      "541/541 [==============================] - 3s 5ms/step - loss: 0.0503 - mean_squared_error: 0.0503 - val_loss: 0.0722 - val_mean_squared_error: 0.0722\n",
      "Epoch 87/100\n",
      "541/541 [==============================] - 3s 5ms/step - loss: 0.0503 - mean_squared_error: 0.0503 - val_loss: 0.0734 - val_mean_squared_error: 0.0734\n",
      "Epoch 88/100\n",
      "541/541 [==============================] - 3s 5ms/step - loss: 0.0497 - mean_squared_error: 0.0497 - val_loss: 0.0732 - val_mean_squared_error: 0.0732\n",
      "Epoch 89/100\n",
      "541/541 [==============================] - 3s 5ms/step - loss: 0.0494 - mean_squared_error: 0.0494 - val_loss: 0.0762 - val_mean_squared_error: 0.0762\n",
      "Epoch 90/100\n",
      "541/541 [==============================] - 4s 7ms/step - loss: 0.0492 - mean_squared_error: 0.0492 - val_loss: 0.0717 - val_mean_squared_error: 0.0717\n",
      "Epoch 91/100\n",
      "541/541 [==============================] - 3s 5ms/step - loss: 0.0485 - mean_squared_error: 0.0485 - val_loss: 0.0713 - val_mean_squared_error: 0.0713\n",
      "Epoch 92/100\n",
      "541/541 [==============================] - 3s 5ms/step - loss: 0.0484 - mean_squared_error: 0.0484 - val_loss: 0.0736 - val_mean_squared_error: 0.0736\n",
      "Epoch 93/100\n",
      "541/541 [==============================] - 2s 5ms/step - loss: 0.0487 - mean_squared_error: 0.0487 - val_loss: 0.0735 - val_mean_squared_error: 0.0735\n",
      "Epoch 94/100\n",
      "541/541 [==============================] - 2s 5ms/step - loss: 0.0495 - mean_squared_error: 0.0495 - val_loss: 0.0826 - val_mean_squared_error: 0.0826\n",
      "Epoch 95/100\n",
      "541/541 [==============================] - 3s 6ms/step - loss: 0.0468 - mean_squared_error: 0.0468 - val_loss: 0.0740 - val_mean_squared_error: 0.0740\n",
      "Epoch 96/100\n",
      "541/541 [==============================] - 3s 5ms/step - loss: 0.0466 - mean_squared_error: 0.0466 - val_loss: 0.0734 - val_mean_squared_error: 0.0734\n",
      "Epoch 97/100\n",
      "541/541 [==============================] - 3s 5ms/step - loss: 0.0463 - mean_squared_error: 0.0463 - val_loss: 0.0745 - val_mean_squared_error: 0.0745\n",
      "Epoch 98/100\n",
      "541/541 [==============================] - 3s 5ms/step - loss: 0.0469 - mean_squared_error: 0.0469 - val_loss: 0.0809 - val_mean_squared_error: 0.0809\n",
      "Epoch 99/100\n",
      "541/541 [==============================] - 3s 5ms/step - loss: 0.0470 - mean_squared_error: 0.0470 - val_loss: 0.0747 - val_mean_squared_error: 0.0747\n",
      "Epoch 100/100\n",
      "541/541 [==============================] - 3s 6ms/step - loss: 0.0464 - mean_squared_error: 0.0464 - val_loss: 0.0751 - val_mean_squared_error: 0.0751\n"
     ]
    },
    {
     "data": {
      "text/plain": [
       "<keras.callbacks.History at 0x7f5474103dc0>"
      ]
     },
     "execution_count": 55,
     "metadata": {},
     "output_type": "execute_result"
    }
   ],
   "source": [
    "model.fit(x_train_tf, y_train, epochs=100, batch_size=32, validation_data=(x_test_tf,y_test))"
   ]
  },
  {
   "cell_type": "markdown",
   "id": "PasyDZXR0KxQ",
   "metadata": {
    "id": "PasyDZXR0KxQ"
   },
   "source": [
    "### Evaluate Model"
   ]
  },
  {
   "cell_type": "code",
   "execution_count": 56,
   "id": "hVIeSGkxu8db",
   "metadata": {
    "colab": {
     "base_uri": "https://localhost:8080/"
    },
    "id": "hVIeSGkxu8db",
    "outputId": "85fa4ebd-1143-4406-ada6-7467d360eaed"
   },
   "outputs": [
    {
     "name": "stdout",
     "output_type": "stream",
     "text": [
      "136/136 [==============================] - 0s 2ms/step\n"
     ]
    },
    {
     "data": {
      "text/plain": [
       "array([[12.714164 ],\n",
       "       [14.262418 ],\n",
       "       [13.079125 ],\n",
       "       ...,\n",
       "       [12.595751 ],\n",
       "       [12.372047 ],\n",
       "       [12.8868885]], dtype=float32)"
      ]
     },
     "execution_count": 56,
     "metadata": {},
     "output_type": "execute_result"
    }
   ],
   "source": [
    "y_pred=model.predict(x_test_tf)\n",
    "y_pred"
   ]
  },
  {
   "cell_type": "code",
   "execution_count": 57,
   "id": "t20-7gIIz5iw",
   "metadata": {
    "colab": {
     "base_uri": "https://localhost:8080/"
    },
    "id": "t20-7gIIz5iw",
    "outputId": "c9ba6016-243f-423d-999e-37003896700f"
   },
   "outputs": [
    {
     "name": "stdout",
     "output_type": "stream",
     "text": [
      "0.07513099125432587\n"
     ]
    }
   ],
   "source": [
    "from sklearn.metrics import mean_squared_error\n",
    "print(mean_squared_error(y_test,y_pred))"
   ]
  },
  {
   "cell_type": "code",
   "execution_count": 58,
   "id": "5YI1cH7F8KGW",
   "metadata": {
    "colab": {
     "base_uri": "https://localhost:8080/"
    },
    "id": "5YI1cH7F8KGW",
    "outputId": "fd59a860-f844-4a7d-dc4c-8c7dc6619122"
   },
   "outputs": [
    {
     "name": "stdout",
     "output_type": "stream",
     "text": [
      "0.015833533500713582\n"
     ]
    }
   ],
   "source": [
    "from sklearn.metrics import mean_absolute_percentage_error\n",
    "print(mean_absolute_percentage_error(y_test,y_pred))"
   ]
  },
  {
   "cell_type": "code",
   "execution_count": 59,
   "id": "pOAIpODL8KkW",
   "metadata": {
    "colab": {
     "base_uri": "https://localhost:8080/"
    },
    "id": "pOAIpODL8KkW",
    "outputId": "7d58b84b-bef1-4c2c-d271-1aee25469afc"
   },
   "outputs": [
    {
     "data": {
      "text/plain": [
       "0.7192043608429186"
      ]
     },
     "execution_count": 59,
     "metadata": {},
     "output_type": "execute_result"
    }
   ],
   "source": [
    "from sklearn.metrics import r2_score\n",
    "r2_score(y_test,y_pred)"
   ]
  },
  {
   "cell_type": "code",
   "execution_count": 60,
   "id": "EVKzwwr28KBh",
   "metadata": {
    "id": "EVKzwwr28KBh"
   },
   "outputs": [],
   "source": [
    "# Defining a function to find the best parameters for ANN\n",
    "def FunctionFindBestParams(x_train, y_train, x_test, y_test):\n",
    "    # Defining the list of hyper parameters to try\n",
    "    batch_size_list=[5, 10, 15, 20]\n",
    "    epoch_list  =   [5, 10, 50, 100]\n",
    "    # store the results indataframe\n",
    "    SearchResultsData=pd.DataFrame(columns=['TrialNumber', 'Parameters', 'MSE']) \n",
    "    # initializing the trials\n",
    "    TrialNumber=0\n",
    "    for batch_size_trial in batch_size_list:\n",
    "        for epochs_trial in epoch_list:\n",
    "            TrialNumber+=1\n",
    "            # create ANN model\n",
    "            model=Sequential()\n",
    "            model.add(Dense(units=32, kernel_initializer='normal', activation='relu', input_dim=13))\n",
    "            model.add(Dense(units=64, kernel_initializer='normal', activation='relu'))\n",
    "            model.add(Dense(units=124, kernel_initializer='normal', activation='relu'))\n",
    "            model.add(Dense(units=252, kernel_initializer='normal', activation='relu'))\n",
    "            model.add(Dense(units=512, kernel_initializer='normal', activation='tanh'))\n",
    "            model.add(Dense(units=1, activation='relu'))\n",
    "            model.compile(loss='mean_squared_error', optimizer='adam')\n",
    "            model.fit(x_train_tf, y_train ,batch_size = batch_size_trial, epochs = epochs_trial, verbose=0)\n",
    "            from sklearn.metrics import mean_squared_error as mse\n",
    "            MSE=mse(y_test, model.predict(x_test_tf))\n",
    "            \n",
    "            # printing the results of the current iteration\n",
    "            print(TrialNumber, 'Parameters:','batch_size:', batch_size_trial,'-', 'epochs:',epochs_trial, 'MSE:', MSE)\n",
    "            \n",
    "            SearchResultsData=SearchResultsData.append(pd.DataFrame(data=[[TrialNumber, str(batch_size_trial)+'-'+str(epochs_trial), MSE]],\n",
    "                                                                    columns=['TrialNumber', 'Parameters', 'MSE'] ))\n",
    "    return(SearchResultsData)\n",
    "\n",
    "\n",
    "    "
   ]
  },
  {
   "cell_type": "code",
   "execution_count": 61,
   "id": "Y52_4b1E8J2w",
   "metadata": {
    "colab": {
     "base_uri": "https://localhost:8080/"
    },
    "id": "Y52_4b1E8J2w",
    "outputId": "63fa4582-6741-498c-fd86-523c6b42057d"
   },
   "outputs": [
    {
     "name": "stdout",
     "output_type": "stream",
     "text": [
      "136/136 [==============================] - 1s 5ms/step\n",
      "1 Parameters: batch_size: 5 - epochs: 5 MSE: 0.07910042943654502\n",
      "136/136 [==============================] - 0s 2ms/step\n",
      "2 Parameters: batch_size: 5 - epochs: 10 MSE: 0.078101822478461\n",
      "136/136 [==============================] - 0s 2ms/step\n",
      "3 Parameters: batch_size: 5 - epochs: 50 MSE: 0.07645913185131019\n",
      "136/136 [==============================] - 0s 1ms/step\n",
      "4 Parameters: batch_size: 5 - epochs: 100 MSE: 0.07034345821068091\n",
      "136/136 [==============================] - 0s 2ms/step\n",
      "5 Parameters: batch_size: 10 - epochs: 5 MSE: 0.08448112346785369\n",
      "136/136 [==============================] - 0s 2ms/step\n",
      "6 Parameters: batch_size: 10 - epochs: 10 MSE: 0.07643959994152305\n",
      "136/136 [==============================] - 0s 2ms/step\n",
      "7 Parameters: batch_size: 10 - epochs: 50 MSE: 0.0689710719124167\n",
      "136/136 [==============================] - 0s 2ms/step\n",
      "8 Parameters: batch_size: 10 - epochs: 100 MSE: 0.08105869442595309\n",
      "136/136 [==============================] - 0s 2ms/step\n",
      "9 Parameters: batch_size: 15 - epochs: 5 MSE: 0.2236232625069735\n",
      "136/136 [==============================] - 0s 2ms/step\n",
      "10 Parameters: batch_size: 15 - epochs: 10 MSE: 0.0925393326717432\n",
      "136/136 [==============================] - 0s 2ms/step\n",
      "11 Parameters: batch_size: 15 - epochs: 50 MSE: 0.074264779419745\n",
      "136/136 [==============================] - 0s 2ms/step\n",
      "12 Parameters: batch_size: 15 - epochs: 100 MSE: 0.07087745525344294\n",
      "136/136 [==============================] - 0s 2ms/step\n",
      "13 Parameters: batch_size: 20 - epochs: 5 MSE: 0.08084731491584579\n",
      "136/136 [==============================] - 0s 2ms/step\n",
      "14 Parameters: batch_size: 20 - epochs: 10 MSE: 0.08862664487248058\n",
      "136/136 [==============================] - 0s 2ms/step\n",
      "15 Parameters: batch_size: 20 - epochs: 50 MSE: 0.06653509345144028\n",
      "136/136 [==============================] - 0s 2ms/step\n",
      "16 Parameters: batch_size: 20 - epochs: 100 MSE: 0.06877329481054752\n"
     ]
    }
   ],
   "source": [
    "# Calling the function\n",
    "ResultsData=FunctionFindBestParams(x_train_tf, y_train, x_test_tf, y_test)"
   ]
  },
  {
   "cell_type": "code",
   "execution_count": 66,
   "id": "Pzqk3nfVRRNH",
   "metadata": {
    "colab": {
     "base_uri": "https://localhost:8080/"
    },
    "id": "Pzqk3nfVRRNH",
    "outputId": "78280041-b97a-4131-a808-dd603ef83a2c"
   },
   "outputs": [
    {
     "data": {
      "text/plain": [
       "<keras.callbacks.History at 0x7f53d0190190>"
      ]
     },
     "execution_count": 66,
     "metadata": {},
     "output_type": "execute_result"
    }
   ],
   "source": [
    "model.fit(x_train_tf,y_train,batch_size=20,epochs=50,verbose=0)"
   ]
  },
  {
   "cell_type": "code",
   "execution_count": 67,
   "id": "sahDBBURRR3I",
   "metadata": {
    "colab": {
     "base_uri": "https://localhost:8080/"
    },
    "id": "sahDBBURRR3I",
    "outputId": "e1fc4eb8-9c94-42f1-8e6b-7922277db386"
   },
   "outputs": [
    {
     "name": "stdout",
     "output_type": "stream",
     "text": [
      "136/136 [==============================] - 0s 2ms/step\n"
     ]
    },
    {
     "data": {
      "text/plain": [
       "array([[12.632328],\n",
       "       [14.222411],\n",
       "       [13.216299],\n",
       "       [13.331963],\n",
       "       [13.50709 ],\n",
       "       [13.036218],\n",
       "       [12.906507],\n",
       "       [13.180118],\n",
       "       [13.314836],\n",
       "       [14.364366]], dtype=float32)"
      ]
     },
     "execution_count": 67,
     "metadata": {},
     "output_type": "execute_result"
    }
   ],
   "source": [
    "y_pred=model.predict(x_test_tf)\n",
    "y_pred[:10]"
   ]
  },
  {
   "cell_type": "code",
   "execution_count": 65,
   "id": "Tl2jKR2iyDpJ",
   "metadata": {
    "colab": {
     "base_uri": "https://localhost:8080/"
    },
    "id": "Tl2jKR2iyDpJ",
    "outputId": "a5ba6766-761b-4726-ff37-9f0075cf116f"
   },
   "outputs": [
    {
     "data": {
      "text/plain": [
       "0.6842301645122497"
      ]
     },
     "execution_count": 65,
     "metadata": {},
     "output_type": "execute_result"
    }
   ],
   "source": [
    "r2_score(y_test,y_pred)"
   ]
  }
 ],
 "metadata": {
  "accelerator": "GPU",
  "colab": {
   "gpuType": "T4",
   "provenance": []
  },
  "gpuClass": "standard",
  "kernelspec": {
   "display_name": "Python 3 (ipykernel)",
   "language": "python",
   "name": "python3"
  },
  "language_info": {
   "codemirror_mode": {
    "name": "ipython",
    "version": 3
   },
   "file_extension": ".py",
   "mimetype": "text/x-python",
   "name": "python",
   "nbconvert_exporter": "python",
   "pygments_lexer": "ipython3",
   "version": "3.9.13"
  }
 },
 "nbformat": 4,
 "nbformat_minor": 5
}

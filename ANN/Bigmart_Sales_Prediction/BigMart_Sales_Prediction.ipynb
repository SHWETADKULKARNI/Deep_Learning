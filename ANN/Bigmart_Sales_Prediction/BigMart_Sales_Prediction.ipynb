{
 "cells": [
  {
   "cell_type": "markdown",
   "id": "0819f170",
   "metadata": {},
   "source": [
    "## BigMart Sales Prediction\n",
    "The aim of this data science project is to build a predictive model and find out the sales of each product at a particular store."
   ]
  },
  {
   "cell_type": "markdown",
   "id": "af9f115b",
   "metadata": {},
   "source": [
    "### Import basic libraries"
   ]
  },
  {
   "cell_type": "code",
   "execution_count": 1,
   "id": "e0b5ae43",
   "metadata": {},
   "outputs": [],
   "source": [
    "import numpy as np\n",
    "import pandas as pd\n",
    "import seaborn as sns\n",
    "sns.set_style('darkgrid')\n",
    "import matplotlib.pyplot as plt\n",
    "import warnings\n",
    "warnings.filterwarnings(\"ignore\")"
   ]
  },
  {
   "cell_type": "markdown",
   "id": "1f7551e9",
   "metadata": {},
   "source": [
    "### Load the dataset"
   ]
  },
  {
   "cell_type": "code",
   "execution_count": 2,
   "id": "216301e1",
   "metadata": {},
   "outputs": [
    {
     "data": {
      "text/html": [
       "<div>\n",
       "<style scoped>\n",
       "    .dataframe tbody tr th:only-of-type {\n",
       "        vertical-align: middle;\n",
       "    }\n",
       "\n",
       "    .dataframe tbody tr th {\n",
       "        vertical-align: top;\n",
       "    }\n",
       "\n",
       "    .dataframe thead th {\n",
       "        text-align: right;\n",
       "    }\n",
       "</style>\n",
       "<table border=\"1\" class=\"dataframe\">\n",
       "  <thead>\n",
       "    <tr style=\"text-align: right;\">\n",
       "      <th></th>\n",
       "      <th>Item_Identifier</th>\n",
       "      <th>Item_Weight</th>\n",
       "      <th>Item_Fat_Content</th>\n",
       "      <th>Item_Visibility</th>\n",
       "      <th>Item_Type</th>\n",
       "      <th>Item_MRP</th>\n",
       "      <th>Outlet_Identifier</th>\n",
       "      <th>Outlet_Establishment_Year</th>\n",
       "      <th>Outlet_Size</th>\n",
       "      <th>Outlet_Location_Type</th>\n",
       "      <th>Outlet_Type</th>\n",
       "      <th>Item_Outlet_Sales</th>\n",
       "    </tr>\n",
       "  </thead>\n",
       "  <tbody>\n",
       "    <tr>\n",
       "      <th>0</th>\n",
       "      <td>FDA15</td>\n",
       "      <td>9.30</td>\n",
       "      <td>Low Fat</td>\n",
       "      <td>0.016047</td>\n",
       "      <td>Dairy</td>\n",
       "      <td>249.8092</td>\n",
       "      <td>OUT049</td>\n",
       "      <td>1999</td>\n",
       "      <td>Medium</td>\n",
       "      <td>Tier 1</td>\n",
       "      <td>Supermarket Type1</td>\n",
       "      <td>3735.1380</td>\n",
       "    </tr>\n",
       "    <tr>\n",
       "      <th>1</th>\n",
       "      <td>DRC01</td>\n",
       "      <td>5.92</td>\n",
       "      <td>Regular</td>\n",
       "      <td>0.019278</td>\n",
       "      <td>Soft Drinks</td>\n",
       "      <td>48.2692</td>\n",
       "      <td>OUT018</td>\n",
       "      <td>2009</td>\n",
       "      <td>Medium</td>\n",
       "      <td>Tier 3</td>\n",
       "      <td>Supermarket Type2</td>\n",
       "      <td>443.4228</td>\n",
       "    </tr>\n",
       "    <tr>\n",
       "      <th>2</th>\n",
       "      <td>FDN15</td>\n",
       "      <td>17.50</td>\n",
       "      <td>Low Fat</td>\n",
       "      <td>0.016760</td>\n",
       "      <td>Meat</td>\n",
       "      <td>141.6180</td>\n",
       "      <td>OUT049</td>\n",
       "      <td>1999</td>\n",
       "      <td>Medium</td>\n",
       "      <td>Tier 1</td>\n",
       "      <td>Supermarket Type1</td>\n",
       "      <td>2097.2700</td>\n",
       "    </tr>\n",
       "    <tr>\n",
       "      <th>3</th>\n",
       "      <td>FDX07</td>\n",
       "      <td>19.20</td>\n",
       "      <td>Regular</td>\n",
       "      <td>0.000000</td>\n",
       "      <td>Fruits and Vegetables</td>\n",
       "      <td>182.0950</td>\n",
       "      <td>OUT010</td>\n",
       "      <td>1998</td>\n",
       "      <td>NaN</td>\n",
       "      <td>Tier 3</td>\n",
       "      <td>Grocery Store</td>\n",
       "      <td>732.3800</td>\n",
       "    </tr>\n",
       "    <tr>\n",
       "      <th>4</th>\n",
       "      <td>NCD19</td>\n",
       "      <td>8.93</td>\n",
       "      <td>Low Fat</td>\n",
       "      <td>0.000000</td>\n",
       "      <td>Household</td>\n",
       "      <td>53.8614</td>\n",
       "      <td>OUT013</td>\n",
       "      <td>1987</td>\n",
       "      <td>High</td>\n",
       "      <td>Tier 3</td>\n",
       "      <td>Supermarket Type1</td>\n",
       "      <td>994.7052</td>\n",
       "    </tr>\n",
       "  </tbody>\n",
       "</table>\n",
       "</div>"
      ],
      "text/plain": [
       "  Item_Identifier  Item_Weight Item_Fat_Content  Item_Visibility  \\\n",
       "0           FDA15         9.30          Low Fat         0.016047   \n",
       "1           DRC01         5.92          Regular         0.019278   \n",
       "2           FDN15        17.50          Low Fat         0.016760   \n",
       "3           FDX07        19.20          Regular         0.000000   \n",
       "4           NCD19         8.93          Low Fat         0.000000   \n",
       "\n",
       "               Item_Type  Item_MRP Outlet_Identifier  \\\n",
       "0                  Dairy  249.8092            OUT049   \n",
       "1            Soft Drinks   48.2692            OUT018   \n",
       "2                   Meat  141.6180            OUT049   \n",
       "3  Fruits and Vegetables  182.0950            OUT010   \n",
       "4              Household   53.8614            OUT013   \n",
       "\n",
       "   Outlet_Establishment_Year Outlet_Size Outlet_Location_Type  \\\n",
       "0                       1999      Medium               Tier 1   \n",
       "1                       2009      Medium               Tier 3   \n",
       "2                       1999      Medium               Tier 1   \n",
       "3                       1998         NaN               Tier 3   \n",
       "4                       1987        High               Tier 3   \n",
       "\n",
       "         Outlet_Type  Item_Outlet_Sales  \n",
       "0  Supermarket Type1          3735.1380  \n",
       "1  Supermarket Type2           443.4228  \n",
       "2  Supermarket Type1          2097.2700  \n",
       "3      Grocery Store           732.3800  \n",
       "4  Supermarket Type1           994.7052  "
      ]
     },
     "execution_count": 2,
     "metadata": {},
     "output_type": "execute_result"
    }
   ],
   "source": [
    "data=pd.read_csv(\"bigmart.csv\")\n",
    "data.head()"
   ]
  },
  {
   "cell_type": "markdown",
   "id": "c7307865",
   "metadata": {},
   "source": [
    "### Column Information\n",
    "- Item_Identifier: Unique product ID\n",
    "- Item_Weight: Weight of product\n",
    "- Item_Fat_Content: Whether the product is low fat or not\n",
    "- Item_Visibility: The % of total display area of all products in a store allocated to the particular product\n",
    "- Item_Type: The category to which the product belongs\n",
    "- Item_MRP: Maximum Retail Price (list price) of the product\n",
    "- Outlet_Identifier: Unique store ID\n",
    "- Outlet_Establishment_Year: The year in which store was established\n",
    "- Outlet_Size: The size of the store in terms of ground area covered\n",
    "- Outlet_Location_Type: The type of city in which the store is located\n",
    "- Outlet_Type: Whether the outlet is just a grocery store or some sort of supermarket\n",
    "- Item_Outlet_Sales: Sales of the product in the particulat store. This is the outcome variable to be predicted."
   ]
  },
  {
   "cell_type": "markdown",
   "id": "07ca6b7e",
   "metadata": {},
   "source": [
    "### Basic Checks"
   ]
  },
  {
   "cell_type": "code",
   "execution_count": 3,
   "id": "474cd679",
   "metadata": {},
   "outputs": [
    {
     "data": {
      "text/html": [
       "<div>\n",
       "<style scoped>\n",
       "    .dataframe tbody tr th:only-of-type {\n",
       "        vertical-align: middle;\n",
       "    }\n",
       "\n",
       "    .dataframe tbody tr th {\n",
       "        vertical-align: top;\n",
       "    }\n",
       "\n",
       "    .dataframe thead th {\n",
       "        text-align: right;\n",
       "    }\n",
       "</style>\n",
       "<table border=\"1\" class=\"dataframe\">\n",
       "  <thead>\n",
       "    <tr style=\"text-align: right;\">\n",
       "      <th></th>\n",
       "      <th>Item_Identifier</th>\n",
       "      <th>Item_Weight</th>\n",
       "      <th>Item_Fat_Content</th>\n",
       "      <th>Item_Visibility</th>\n",
       "      <th>Item_Type</th>\n",
       "      <th>Item_MRP</th>\n",
       "      <th>Outlet_Identifier</th>\n",
       "      <th>Outlet_Establishment_Year</th>\n",
       "      <th>Outlet_Size</th>\n",
       "      <th>Outlet_Location_Type</th>\n",
       "      <th>Outlet_Type</th>\n",
       "      <th>Item_Outlet_Sales</th>\n",
       "    </tr>\n",
       "  </thead>\n",
       "  <tbody>\n",
       "    <tr>\n",
       "      <th>0</th>\n",
       "      <td>FDA15</td>\n",
       "      <td>9.30</td>\n",
       "      <td>Low Fat</td>\n",
       "      <td>0.016047</td>\n",
       "      <td>Dairy</td>\n",
       "      <td>249.8092</td>\n",
       "      <td>OUT049</td>\n",
       "      <td>1999</td>\n",
       "      <td>Medium</td>\n",
       "      <td>Tier 1</td>\n",
       "      <td>Supermarket Type1</td>\n",
       "      <td>3735.1380</td>\n",
       "    </tr>\n",
       "    <tr>\n",
       "      <th>1</th>\n",
       "      <td>DRC01</td>\n",
       "      <td>5.92</td>\n",
       "      <td>Regular</td>\n",
       "      <td>0.019278</td>\n",
       "      <td>Soft Drinks</td>\n",
       "      <td>48.2692</td>\n",
       "      <td>OUT018</td>\n",
       "      <td>2009</td>\n",
       "      <td>Medium</td>\n",
       "      <td>Tier 3</td>\n",
       "      <td>Supermarket Type2</td>\n",
       "      <td>443.4228</td>\n",
       "    </tr>\n",
       "    <tr>\n",
       "      <th>2</th>\n",
       "      <td>FDN15</td>\n",
       "      <td>17.50</td>\n",
       "      <td>Low Fat</td>\n",
       "      <td>0.016760</td>\n",
       "      <td>Meat</td>\n",
       "      <td>141.6180</td>\n",
       "      <td>OUT049</td>\n",
       "      <td>1999</td>\n",
       "      <td>Medium</td>\n",
       "      <td>Tier 1</td>\n",
       "      <td>Supermarket Type1</td>\n",
       "      <td>2097.2700</td>\n",
       "    </tr>\n",
       "    <tr>\n",
       "      <th>3</th>\n",
       "      <td>FDX07</td>\n",
       "      <td>19.20</td>\n",
       "      <td>Regular</td>\n",
       "      <td>0.000000</td>\n",
       "      <td>Fruits and Vegetables</td>\n",
       "      <td>182.0950</td>\n",
       "      <td>OUT010</td>\n",
       "      <td>1998</td>\n",
       "      <td>NaN</td>\n",
       "      <td>Tier 3</td>\n",
       "      <td>Grocery Store</td>\n",
       "      <td>732.3800</td>\n",
       "    </tr>\n",
       "    <tr>\n",
       "      <th>4</th>\n",
       "      <td>NCD19</td>\n",
       "      <td>8.93</td>\n",
       "      <td>Low Fat</td>\n",
       "      <td>0.000000</td>\n",
       "      <td>Household</td>\n",
       "      <td>53.8614</td>\n",
       "      <td>OUT013</td>\n",
       "      <td>1987</td>\n",
       "      <td>High</td>\n",
       "      <td>Tier 3</td>\n",
       "      <td>Supermarket Type1</td>\n",
       "      <td>994.7052</td>\n",
       "    </tr>\n",
       "  </tbody>\n",
       "</table>\n",
       "</div>"
      ],
      "text/plain": [
       "  Item_Identifier  Item_Weight Item_Fat_Content  Item_Visibility  \\\n",
       "0           FDA15         9.30          Low Fat         0.016047   \n",
       "1           DRC01         5.92          Regular         0.019278   \n",
       "2           FDN15        17.50          Low Fat         0.016760   \n",
       "3           FDX07        19.20          Regular         0.000000   \n",
       "4           NCD19         8.93          Low Fat         0.000000   \n",
       "\n",
       "               Item_Type  Item_MRP Outlet_Identifier  \\\n",
       "0                  Dairy  249.8092            OUT049   \n",
       "1            Soft Drinks   48.2692            OUT018   \n",
       "2                   Meat  141.6180            OUT049   \n",
       "3  Fruits and Vegetables  182.0950            OUT010   \n",
       "4              Household   53.8614            OUT013   \n",
       "\n",
       "   Outlet_Establishment_Year Outlet_Size Outlet_Location_Type  \\\n",
       "0                       1999      Medium               Tier 1   \n",
       "1                       2009      Medium               Tier 3   \n",
       "2                       1999      Medium               Tier 1   \n",
       "3                       1998         NaN               Tier 3   \n",
       "4                       1987        High               Tier 3   \n",
       "\n",
       "         Outlet_Type  Item_Outlet_Sales  \n",
       "0  Supermarket Type1          3735.1380  \n",
       "1  Supermarket Type2           443.4228  \n",
       "2  Supermarket Type1          2097.2700  \n",
       "3      Grocery Store           732.3800  \n",
       "4  Supermarket Type1           994.7052  "
      ]
     },
     "execution_count": 3,
     "metadata": {},
     "output_type": "execute_result"
    }
   ],
   "source": [
    "# First five rows\n",
    "data.head()"
   ]
  },
  {
   "cell_type": "code",
   "execution_count": 4,
   "id": "cb0904a7",
   "metadata": {},
   "outputs": [
    {
     "data": {
      "text/html": [
       "<div>\n",
       "<style scoped>\n",
       "    .dataframe tbody tr th:only-of-type {\n",
       "        vertical-align: middle;\n",
       "    }\n",
       "\n",
       "    .dataframe tbody tr th {\n",
       "        vertical-align: top;\n",
       "    }\n",
       "\n",
       "    .dataframe thead th {\n",
       "        text-align: right;\n",
       "    }\n",
       "</style>\n",
       "<table border=\"1\" class=\"dataframe\">\n",
       "  <thead>\n",
       "    <tr style=\"text-align: right;\">\n",
       "      <th></th>\n",
       "      <th>Item_Identifier</th>\n",
       "      <th>Item_Weight</th>\n",
       "      <th>Item_Fat_Content</th>\n",
       "      <th>Item_Visibility</th>\n",
       "      <th>Item_Type</th>\n",
       "      <th>Item_MRP</th>\n",
       "      <th>Outlet_Identifier</th>\n",
       "      <th>Outlet_Establishment_Year</th>\n",
       "      <th>Outlet_Size</th>\n",
       "      <th>Outlet_Location_Type</th>\n",
       "      <th>Outlet_Type</th>\n",
       "      <th>Item_Outlet_Sales</th>\n",
       "    </tr>\n",
       "  </thead>\n",
       "  <tbody>\n",
       "    <tr>\n",
       "      <th>8518</th>\n",
       "      <td>FDF22</td>\n",
       "      <td>6.865</td>\n",
       "      <td>Low Fat</td>\n",
       "      <td>0.056783</td>\n",
       "      <td>Snack Foods</td>\n",
       "      <td>214.5218</td>\n",
       "      <td>OUT013</td>\n",
       "      <td>1987</td>\n",
       "      <td>High</td>\n",
       "      <td>Tier 3</td>\n",
       "      <td>Supermarket Type1</td>\n",
       "      <td>2778.3834</td>\n",
       "    </tr>\n",
       "    <tr>\n",
       "      <th>8519</th>\n",
       "      <td>FDS36</td>\n",
       "      <td>8.380</td>\n",
       "      <td>Regular</td>\n",
       "      <td>0.046982</td>\n",
       "      <td>Baking Goods</td>\n",
       "      <td>108.1570</td>\n",
       "      <td>OUT045</td>\n",
       "      <td>2002</td>\n",
       "      <td>NaN</td>\n",
       "      <td>Tier 2</td>\n",
       "      <td>Supermarket Type1</td>\n",
       "      <td>549.2850</td>\n",
       "    </tr>\n",
       "    <tr>\n",
       "      <th>8520</th>\n",
       "      <td>NCJ29</td>\n",
       "      <td>10.600</td>\n",
       "      <td>Low Fat</td>\n",
       "      <td>0.035186</td>\n",
       "      <td>Health and Hygiene</td>\n",
       "      <td>85.1224</td>\n",
       "      <td>OUT035</td>\n",
       "      <td>2004</td>\n",
       "      <td>Small</td>\n",
       "      <td>Tier 2</td>\n",
       "      <td>Supermarket Type1</td>\n",
       "      <td>1193.1136</td>\n",
       "    </tr>\n",
       "    <tr>\n",
       "      <th>8521</th>\n",
       "      <td>FDN46</td>\n",
       "      <td>7.210</td>\n",
       "      <td>Regular</td>\n",
       "      <td>0.145221</td>\n",
       "      <td>Snack Foods</td>\n",
       "      <td>103.1332</td>\n",
       "      <td>OUT018</td>\n",
       "      <td>2009</td>\n",
       "      <td>Medium</td>\n",
       "      <td>Tier 3</td>\n",
       "      <td>Supermarket Type2</td>\n",
       "      <td>1845.5976</td>\n",
       "    </tr>\n",
       "    <tr>\n",
       "      <th>8522</th>\n",
       "      <td>DRG01</td>\n",
       "      <td>14.800</td>\n",
       "      <td>Low Fat</td>\n",
       "      <td>0.044878</td>\n",
       "      <td>Soft Drinks</td>\n",
       "      <td>75.4670</td>\n",
       "      <td>OUT046</td>\n",
       "      <td>1997</td>\n",
       "      <td>Small</td>\n",
       "      <td>Tier 1</td>\n",
       "      <td>Supermarket Type1</td>\n",
       "      <td>765.6700</td>\n",
       "    </tr>\n",
       "  </tbody>\n",
       "</table>\n",
       "</div>"
      ],
      "text/plain": [
       "     Item_Identifier  Item_Weight Item_Fat_Content  Item_Visibility  \\\n",
       "8518           FDF22        6.865          Low Fat         0.056783   \n",
       "8519           FDS36        8.380          Regular         0.046982   \n",
       "8520           NCJ29       10.600          Low Fat         0.035186   \n",
       "8521           FDN46        7.210          Regular         0.145221   \n",
       "8522           DRG01       14.800          Low Fat         0.044878   \n",
       "\n",
       "               Item_Type  Item_MRP Outlet_Identifier  \\\n",
       "8518         Snack Foods  214.5218            OUT013   \n",
       "8519        Baking Goods  108.1570            OUT045   \n",
       "8520  Health and Hygiene   85.1224            OUT035   \n",
       "8521         Snack Foods  103.1332            OUT018   \n",
       "8522         Soft Drinks   75.4670            OUT046   \n",
       "\n",
       "      Outlet_Establishment_Year Outlet_Size Outlet_Location_Type  \\\n",
       "8518                       1987        High               Tier 3   \n",
       "8519                       2002         NaN               Tier 2   \n",
       "8520                       2004       Small               Tier 2   \n",
       "8521                       2009      Medium               Tier 3   \n",
       "8522                       1997       Small               Tier 1   \n",
       "\n",
       "            Outlet_Type  Item_Outlet_Sales  \n",
       "8518  Supermarket Type1          2778.3834  \n",
       "8519  Supermarket Type1           549.2850  \n",
       "8520  Supermarket Type1          1193.1136  \n",
       "8521  Supermarket Type2          1845.5976  \n",
       "8522  Supermarket Type1           765.6700  "
      ]
     },
     "execution_count": 4,
     "metadata": {},
     "output_type": "execute_result"
    }
   ],
   "source": [
    "# Last five rows\n",
    "data.tail()"
   ]
  },
  {
   "cell_type": "code",
   "execution_count": 5,
   "id": "7b650cf1",
   "metadata": {},
   "outputs": [
    {
     "data": {
      "text/plain": [
       "(8523, 12)"
      ]
     },
     "execution_count": 5,
     "metadata": {},
     "output_type": "execute_result"
    }
   ],
   "source": [
    "# Shape of data\n",
    "data.shape"
   ]
  },
  {
   "cell_type": "code",
   "execution_count": 6,
   "id": "1b7fae82",
   "metadata": {},
   "outputs": [
    {
     "data": {
      "text/plain": [
       "Index(['Item_Identifier', 'Item_Weight', 'Item_Fat_Content', 'Item_Visibility',\n",
       "       'Item_Type', 'Item_MRP', 'Outlet_Identifier',\n",
       "       'Outlet_Establishment_Year', 'Outlet_Size', 'Outlet_Location_Type',\n",
       "       'Outlet_Type', 'Item_Outlet_Sales'],\n",
       "      dtype='object')"
      ]
     },
     "execution_count": 6,
     "metadata": {},
     "output_type": "execute_result"
    }
   ],
   "source": [
    "# Columns in data\n",
    "data.columns"
   ]
  },
  {
   "cell_type": "code",
   "execution_count": 7,
   "id": "643c7882",
   "metadata": {},
   "outputs": [
    {
     "name": "stdout",
     "output_type": "stream",
     "text": [
      "<class 'pandas.core.frame.DataFrame'>\n",
      "RangeIndex: 8523 entries, 0 to 8522\n",
      "Data columns (total 12 columns):\n",
      " #   Column                     Non-Null Count  Dtype  \n",
      "---  ------                     --------------  -----  \n",
      " 0   Item_Identifier            8523 non-null   object \n",
      " 1   Item_Weight                7060 non-null   float64\n",
      " 2   Item_Fat_Content           8523 non-null   object \n",
      " 3   Item_Visibility            8523 non-null   float64\n",
      " 4   Item_Type                  8523 non-null   object \n",
      " 5   Item_MRP                   8523 non-null   float64\n",
      " 6   Outlet_Identifier          8523 non-null   object \n",
      " 7   Outlet_Establishment_Year  8523 non-null   int64  \n",
      " 8   Outlet_Size                6113 non-null   object \n",
      " 9   Outlet_Location_Type       8523 non-null   object \n",
      " 10  Outlet_Type                8523 non-null   object \n",
      " 11  Item_Outlet_Sales          8523 non-null   float64\n",
      "dtypes: float64(4), int64(1), object(7)\n",
      "memory usage: 799.2+ KB\n"
     ]
    }
   ],
   "source": [
    "# Information of data\n",
    "data.info()"
   ]
  },
  {
   "cell_type": "code",
   "execution_count": 6,
   "id": "4184117b",
   "metadata": {},
   "outputs": [
    {
     "data": {
      "text/html": [
       "<div>\n",
       "<style scoped>\n",
       "    .dataframe tbody tr th:only-of-type {\n",
       "        vertical-align: middle;\n",
       "    }\n",
       "\n",
       "    .dataframe tbody tr th {\n",
       "        vertical-align: top;\n",
       "    }\n",
       "\n",
       "    .dataframe thead th {\n",
       "        text-align: right;\n",
       "    }\n",
       "</style>\n",
       "<table border=\"1\" class=\"dataframe\">\n",
       "  <thead>\n",
       "    <tr style=\"text-align: right;\">\n",
       "      <th></th>\n",
       "      <th>Item_Weight</th>\n",
       "      <th>Item_Visibility</th>\n",
       "      <th>Item_MRP</th>\n",
       "      <th>Outlet_Establishment_Year</th>\n",
       "      <th>Item_Outlet_Sales</th>\n",
       "    </tr>\n",
       "  </thead>\n",
       "  <tbody>\n",
       "    <tr>\n",
       "      <th>count</th>\n",
       "      <td>7060.000000</td>\n",
       "      <td>8523.000000</td>\n",
       "      <td>8523.000000</td>\n",
       "      <td>8523.000000</td>\n",
       "      <td>8523.000000</td>\n",
       "    </tr>\n",
       "    <tr>\n",
       "      <th>mean</th>\n",
       "      <td>12.857645</td>\n",
       "      <td>0.066132</td>\n",
       "      <td>140.992782</td>\n",
       "      <td>1997.831867</td>\n",
       "      <td>2181.288914</td>\n",
       "    </tr>\n",
       "    <tr>\n",
       "      <th>std</th>\n",
       "      <td>4.643456</td>\n",
       "      <td>0.051598</td>\n",
       "      <td>62.275067</td>\n",
       "      <td>8.371760</td>\n",
       "      <td>1706.499616</td>\n",
       "    </tr>\n",
       "    <tr>\n",
       "      <th>min</th>\n",
       "      <td>4.555000</td>\n",
       "      <td>0.000000</td>\n",
       "      <td>31.290000</td>\n",
       "      <td>1985.000000</td>\n",
       "      <td>33.290000</td>\n",
       "    </tr>\n",
       "    <tr>\n",
       "      <th>25%</th>\n",
       "      <td>8.773750</td>\n",
       "      <td>0.026989</td>\n",
       "      <td>93.826500</td>\n",
       "      <td>1987.000000</td>\n",
       "      <td>834.247400</td>\n",
       "    </tr>\n",
       "    <tr>\n",
       "      <th>50%</th>\n",
       "      <td>12.600000</td>\n",
       "      <td>0.053931</td>\n",
       "      <td>143.012800</td>\n",
       "      <td>1999.000000</td>\n",
       "      <td>1794.331000</td>\n",
       "    </tr>\n",
       "    <tr>\n",
       "      <th>75%</th>\n",
       "      <td>16.850000</td>\n",
       "      <td>0.094585</td>\n",
       "      <td>185.643700</td>\n",
       "      <td>2004.000000</td>\n",
       "      <td>3101.296400</td>\n",
       "    </tr>\n",
       "    <tr>\n",
       "      <th>max</th>\n",
       "      <td>21.350000</td>\n",
       "      <td>0.328391</td>\n",
       "      <td>266.888400</td>\n",
       "      <td>2009.000000</td>\n",
       "      <td>13086.964800</td>\n",
       "    </tr>\n",
       "  </tbody>\n",
       "</table>\n",
       "</div>"
      ],
      "text/plain": [
       "       Item_Weight  Item_Visibility     Item_MRP  Outlet_Establishment_Year  \\\n",
       "count  7060.000000      8523.000000  8523.000000                8523.000000   \n",
       "mean     12.857645         0.066132   140.992782                1997.831867   \n",
       "std       4.643456         0.051598    62.275067                   8.371760   \n",
       "min       4.555000         0.000000    31.290000                1985.000000   \n",
       "25%       8.773750         0.026989    93.826500                1987.000000   \n",
       "50%      12.600000         0.053931   143.012800                1999.000000   \n",
       "75%      16.850000         0.094585   185.643700                2004.000000   \n",
       "max      21.350000         0.328391   266.888400                2009.000000   \n",
       "\n",
       "       Item_Outlet_Sales  \n",
       "count        8523.000000  \n",
       "mean         2181.288914  \n",
       "std          1706.499616  \n",
       "min            33.290000  \n",
       "25%           834.247400  \n",
       "50%          1794.331000  \n",
       "75%          3101.296400  \n",
       "max         13086.964800  "
      ]
     },
     "execution_count": 6,
     "metadata": {},
     "output_type": "execute_result"
    }
   ],
   "source": [
    "# Statistics of data\n",
    "data.describe()"
   ]
  },
  {
   "cell_type": "code",
   "execution_count": 8,
   "id": "47e96636",
   "metadata": {},
   "outputs": [
    {
     "data": {
      "text/html": [
       "<div>\n",
       "<style scoped>\n",
       "    .dataframe tbody tr th:only-of-type {\n",
       "        vertical-align: middle;\n",
       "    }\n",
       "\n",
       "    .dataframe tbody tr th {\n",
       "        vertical-align: top;\n",
       "    }\n",
       "\n",
       "    .dataframe thead th {\n",
       "        text-align: right;\n",
       "    }\n",
       "</style>\n",
       "<table border=\"1\" class=\"dataframe\">\n",
       "  <thead>\n",
       "    <tr style=\"text-align: right;\">\n",
       "      <th></th>\n",
       "      <th>Item_Identifier</th>\n",
       "      <th>Item_Fat_Content</th>\n",
       "      <th>Item_Type</th>\n",
       "      <th>Outlet_Identifier</th>\n",
       "      <th>Outlet_Size</th>\n",
       "      <th>Outlet_Location_Type</th>\n",
       "      <th>Outlet_Type</th>\n",
       "    </tr>\n",
       "  </thead>\n",
       "  <tbody>\n",
       "    <tr>\n",
       "      <th>count</th>\n",
       "      <td>8523</td>\n",
       "      <td>8523</td>\n",
       "      <td>8523</td>\n",
       "      <td>8523</td>\n",
       "      <td>6113</td>\n",
       "      <td>8523</td>\n",
       "      <td>8523</td>\n",
       "    </tr>\n",
       "    <tr>\n",
       "      <th>unique</th>\n",
       "      <td>1559</td>\n",
       "      <td>5</td>\n",
       "      <td>16</td>\n",
       "      <td>10</td>\n",
       "      <td>3</td>\n",
       "      <td>3</td>\n",
       "      <td>4</td>\n",
       "    </tr>\n",
       "    <tr>\n",
       "      <th>top</th>\n",
       "      <td>FDW13</td>\n",
       "      <td>Low Fat</td>\n",
       "      <td>Fruits and Vegetables</td>\n",
       "      <td>OUT027</td>\n",
       "      <td>Medium</td>\n",
       "      <td>Tier 3</td>\n",
       "      <td>Supermarket Type1</td>\n",
       "    </tr>\n",
       "    <tr>\n",
       "      <th>freq</th>\n",
       "      <td>10</td>\n",
       "      <td>5089</td>\n",
       "      <td>1232</td>\n",
       "      <td>935</td>\n",
       "      <td>2793</td>\n",
       "      <td>3350</td>\n",
       "      <td>5577</td>\n",
       "    </tr>\n",
       "  </tbody>\n",
       "</table>\n",
       "</div>"
      ],
      "text/plain": [
       "       Item_Identifier Item_Fat_Content              Item_Type  \\\n",
       "count             8523             8523                   8523   \n",
       "unique            1559                5                     16   \n",
       "top              FDW13          Low Fat  Fruits and Vegetables   \n",
       "freq                10             5089                   1232   \n",
       "\n",
       "       Outlet_Identifier Outlet_Size Outlet_Location_Type        Outlet_Type  \n",
       "count               8523        6113                 8523               8523  \n",
       "unique                10           3                    3                  4  \n",
       "top               OUT027      Medium               Tier 3  Supermarket Type1  \n",
       "freq                 935        2793                 3350               5577  "
      ]
     },
     "execution_count": 8,
     "metadata": {},
     "output_type": "execute_result"
    }
   ],
   "source": [
    "# Statistics of data for categorical data\n",
    "data.describe(include=\"O\")"
   ]
  },
  {
   "cell_type": "code",
   "execution_count": 8,
   "id": "9866048b",
   "metadata": {},
   "outputs": [
    {
     "data": {
      "text/plain": [
       "Item_Identifier                 0\n",
       "Item_Weight                  1463\n",
       "Item_Fat_Content                0\n",
       "Item_Visibility                 0\n",
       "Item_Type                       0\n",
       "Item_MRP                        0\n",
       "Outlet_Identifier               0\n",
       "Outlet_Establishment_Year       0\n",
       "Outlet_Size                  2410\n",
       "Outlet_Location_Type            0\n",
       "Outlet_Type                     0\n",
       "Item_Outlet_Sales               0\n",
       "dtype: int64"
      ]
     },
     "execution_count": 8,
     "metadata": {},
     "output_type": "execute_result"
    }
   ],
   "source": [
    "# Check missing values\n",
    "data.isnull().sum()"
   ]
  },
  {
   "cell_type": "markdown",
   "id": "80aaee21",
   "metadata": {},
   "source": [
    "* Item weight and outlet size columns have missing values."
   ]
  },
  {
   "cell_type": "markdown",
   "id": "6975504e",
   "metadata": {},
   "source": [
    "### Exploratory Data Analysis"
   ]
  },
  {
   "cell_type": "markdown",
   "id": "e4f33931",
   "metadata": {},
   "source": [
    "### Analyze Outlet Size column"
   ]
  },
  {
   "cell_type": "code",
   "execution_count": 9,
   "id": "d81be289",
   "metadata": {},
   "outputs": [
    {
     "name": "stdout",
     "output_type": "stream",
     "text": [
      "Medium    2793\n",
      "Small     2388\n",
      "High       932\n",
      "Name: Outlet_Size, dtype: int64\n"
     ]
    },
    {
     "data": {
      "image/png": "[encoded data removed]",
      "text/plain": [
       "<Figure size 864x216 with 1 Axes>"
      ]
     },
     "metadata": {},
     "output_type": "display_data"
    }
   ],
   "source": [
    "print(data.Outlet_Size.value_counts())\n",
    "data.Outlet_Size.value_counts().plot(kind='barh', figsize=(12,3), color=['red','green','blue']);"
   ]
  },
  {
   "cell_type": "markdown",
   "id": "b442b674",
   "metadata": {},
   "source": [
    "### Analyze Item Fat Content"
   ]
  },
  {
   "cell_type": "code",
   "execution_count": 10,
   "id": "84796469",
   "metadata": {},
   "outputs": [
    {
     "data": {
      "image/png": "[encoded data removed]",
      "text/plain": [
       "<Figure size 864x288 with 1 Axes>"
      ]
     },
     "metadata": {},
     "output_type": "display_data"
    }
   ],
   "source": [
    "plt.figure(figsize=(12,4))\n",
    "sns.countplot(x='Item_Fat_Content',data=data);"
   ]
  },
  {
   "cell_type": "markdown",
   "id": "c5871c87",
   "metadata": {},
   "source": [
    "### Analyzing outlet related columns"
   ]
  },
  {
   "cell_type": "code",
   "execution_count": 11,
   "id": "c8e64dd0",
   "metadata": {},
   "outputs": [
    {
     "data": {
      "image/png": "[encoded data removed]",
      "text/plain": [
       "<Figure size 1296x288 with 3 Axes>"
      ]
     },
     "metadata": {},
     "output_type": "display_data"
    }
   ],
   "source": [
    "plt.figure(figsize=(18,4))\n",
    "plt.subplot(131)\n",
    "sns.countplot(data['Outlet_Location_Type'])\n",
    "\n",
    "plt.subplot(132)\n",
    "sns.countplot(data['Outlet_Size'])\n",
    "\n",
    "plt.subplot(133)\n",
    "sns.countplot(data['Outlet_Type'])\n",
    "plt.xticks(rotation=90)\n",
    "plt.suptitle(\"Distribution of Outlet\", fontsize=18);"
   ]
  },
  {
   "cell_type": "markdown",
   "id": "55ffd802",
   "metadata": {},
   "source": [
    "### Analyze Item type column"
   ]
  },
  {
   "cell_type": "code",
   "execution_count": 12,
   "id": "877bef4d",
   "metadata": {},
   "outputs": [
    {
     "data": {
      "image/png": "[encoded data removed]",
      "text/plain": [
       "<Figure size 1296x288 with 1 Axes>"
      ]
     },
     "metadata": {},
     "output_type": "display_data"
    }
   ],
   "source": [
    "plt.figure(figsize=(18,4))\n",
    "sns.countplot(data['Item_Type'])\n",
    "plt.xticks(rotation=45)\n",
    "plt.title(\"Different Item types\", fontsize=18);"
   ]
  },
  {
   "cell_type": "markdown",
   "id": "0226b5a3",
   "metadata": {},
   "source": [
    "### Bivariate Analysis"
   ]
  },
  {
   "cell_type": "code",
   "execution_count": 13,
   "id": "4df7b7d0",
   "metadata": {},
   "outputs": [
    {
     "data": {
      "image/png": "[encoded data removed]",
      "text/plain": [
       "<Figure size 1296x432 with 4 Axes>"
      ]
     },
     "metadata": {},
     "output_type": "display_data"
    }
   ],
   "source": [
    "plt.figure(figsize=(18,6))\n",
    "plt.subplot(221)\n",
    "sns.boxplot(x='Outlet_Size', y='Item_Outlet_Sales', data=data, color='red')\n",
    "\n",
    "plt.subplot(222)\n",
    "sns.boxplot(x='Outlet_Location_Type', y='Item_Outlet_Sales', data=data, color='green')\n",
    "\n",
    "plt.subplot(223)\n",
    "sns.boxplot(x='Outlet_Type', y='Item_Outlet_Sales', data=data, color=\"orange\")\n",
    "\n",
    "plt.subplot(224)\n",
    "sns.boxplot(x='Item_Type', y='Item_Outlet_Sales', data=data, color=\"yellow\")\n",
    "plt.xticks(rotation=30)\n",
    "\n",
    "plt.suptitle(\"Distribution of Outlet vs Outlet Sales\");"
   ]
  },
  {
   "cell_type": "markdown",
   "id": "383dc5e9",
   "metadata": {},
   "source": [
    "### Correlation Matrix"
   ]
  },
  {
   "cell_type": "code",
   "execution_count": 9,
   "id": "c09ba3f0",
   "metadata": {},
   "outputs": [
    {
     "data": {
      "image/png": "[encoded data removed]",
      "text/plain": [
       "<Figure size 1200x400 with 2 Axes>"
      ]
     },
     "metadata": {},
     "output_type": "display_data"
    }
   ],
   "source": [
    "plt.figure(figsize=(12,4))\n",
    "sns.heatmap(data.corr(),annot=True)\n",
    "plt.title(\"Correlation Matrix\");"
   ]
  },
  {
   "cell_type": "markdown",
   "id": "d21b6e2f",
   "metadata": {},
   "source": [
    "### Data Preprocessing"
   ]
  },
  {
   "cell_type": "code",
   "execution_count": 15,
   "id": "174adf86",
   "metadata": {},
   "outputs": [
    {
     "data": {
      "text/plain": [
       "Item_Identifier                 0\n",
       "Item_Weight                  1463\n",
       "Item_Fat_Content                0\n",
       "Item_Visibility                 0\n",
       "Item_Type                       0\n",
       "Item_MRP                        0\n",
       "Outlet_Identifier               0\n",
       "Outlet_Establishment_Year       0\n",
       "Outlet_Size                  2410\n",
       "Outlet_Location_Type            0\n",
       "Outlet_Type                     0\n",
       "Item_Outlet_Sales               0\n",
       "dtype: int64"
      ]
     },
     "execution_count": 15,
     "metadata": {},
     "output_type": "execute_result"
    }
   ],
   "source": [
    "data.isnull().sum()"
   ]
  },
  {
   "cell_type": "markdown",
   "id": "848db4fa",
   "metadata": {},
   "source": [
    "#### Imputing missing values in Item Weight column as per Item Identifier"
   ]
  },
  {
   "cell_type": "code",
   "execution_count": 16,
   "id": "134125dc",
   "metadata": {},
   "outputs": [
    {
     "data": {
      "text/html": [
       "<div>\n",
       "<style scoped>\n",
       "    .dataframe tbody tr th:only-of-type {\n",
       "        vertical-align: middle;\n",
       "    }\n",
       "\n",
       "    .dataframe tbody tr th {\n",
       "        vertical-align: top;\n",
       "    }\n",
       "\n",
       "    .dataframe thead th {\n",
       "        text-align: right;\n",
       "    }\n",
       "</style>\n",
       "<table border=\"1\" class=\"dataframe\">\n",
       "  <thead>\n",
       "    <tr style=\"text-align: right;\">\n",
       "      <th></th>\n",
       "      <th>Item_Weight</th>\n",
       "    </tr>\n",
       "    <tr>\n",
       "      <th>Item_Identifier</th>\n",
       "      <th></th>\n",
       "    </tr>\n",
       "  </thead>\n",
       "  <tbody>\n",
       "    <tr>\n",
       "      <th>DRA12</th>\n",
       "      <td>11.600</td>\n",
       "    </tr>\n",
       "    <tr>\n",
       "      <th>DRA24</th>\n",
       "      <td>19.350</td>\n",
       "    </tr>\n",
       "    <tr>\n",
       "      <th>DRA59</th>\n",
       "      <td>8.270</td>\n",
       "    </tr>\n",
       "    <tr>\n",
       "      <th>DRB01</th>\n",
       "      <td>7.390</td>\n",
       "    </tr>\n",
       "    <tr>\n",
       "      <th>DRB13</th>\n",
       "      <td>6.115</td>\n",
       "    </tr>\n",
       "  </tbody>\n",
       "</table>\n",
       "</div>"
      ],
      "text/plain": [
       "                 Item_Weight\n",
       "Item_Identifier             \n",
       "DRA12                 11.600\n",
       "DRA24                 19.350\n",
       "DRA59                  8.270\n",
       "DRB01                  7.390\n",
       "DRB13                  6.115"
      ]
     },
     "execution_count": 16,
     "metadata": {},
     "output_type": "execute_result"
    }
   ],
   "source": [
    "item_weight_mean=data.pivot_table(values='Item_Weight', index='Item_Identifier')\n",
    "item_weight_mean.head()"
   ]
  },
  {
   "cell_type": "code",
   "execution_count": 17,
   "id": "778ee598",
   "metadata": {},
   "outputs": [
    {
     "data": {
      "text/plain": [
       "0       False\n",
       "1       False\n",
       "2       False\n",
       "3       False\n",
       "4       False\n",
       "        ...  \n",
       "8518    False\n",
       "8519    False\n",
       "8520    False\n",
       "8521    False\n",
       "8522    False\n",
       "Name: Item_Weight, Length: 8523, dtype: bool"
      ]
     },
     "execution_count": 17,
     "metadata": {},
     "output_type": "execute_result"
    }
   ],
   "source": [
    "miss_bool=data.Item_Weight.isna()\n",
    "miss_bool"
   ]
  },
  {
   "cell_type": "code",
   "execution_count": 18,
   "id": "90ed4785",
   "metadata": {},
   "outputs": [
    {
     "data": {
      "text/plain": [
       "0"
      ]
     },
     "execution_count": 18,
     "metadata": {},
     "output_type": "execute_result"
    }
   ],
   "source": [
    "for i, item in enumerate(data.Item_Weight):\n",
    "    if miss_bool[i]:\n",
    "        if item in item_weight_mean:\n",
    "            data.Item_Weight[i]=item_weight_mean.loc[item]['Item_Weight']\n",
    "        else:\n",
    "            data.Item_Weight[i]=np.mean(data.Item_Weight)\n",
    "            \n",
    "data['Item_Weight'].isna().sum()"
   ]
  },
  {
   "cell_type": "markdown",
   "id": "2505685c",
   "metadata": {},
   "source": [
    "#### Impute missing values in Outlet Size"
   ]
  },
  {
   "cell_type": "code",
   "execution_count": 19,
   "id": "0f00a5fe",
   "metadata": {},
   "outputs": [
    {
     "data": {
      "text/html": [
       "<div>\n",
       "<style scoped>\n",
       "    .dataframe tbody tr th:only-of-type {\n",
       "        vertical-align: middle;\n",
       "    }\n",
       "\n",
       "    .dataframe tbody tr th {\n",
       "        vertical-align: top;\n",
       "    }\n",
       "\n",
       "    .dataframe thead th {\n",
       "        text-align: right;\n",
       "    }\n",
       "</style>\n",
       "<table border=\"1\" class=\"dataframe\">\n",
       "  <thead>\n",
       "    <tr style=\"text-align: right;\">\n",
       "      <th>Outlet_Type</th>\n",
       "      <th>Grocery Store</th>\n",
       "      <th>Supermarket Type1</th>\n",
       "      <th>Supermarket Type2</th>\n",
       "      <th>Supermarket Type3</th>\n",
       "    </tr>\n",
       "  </thead>\n",
       "  <tbody>\n",
       "    <tr>\n",
       "      <th>Outlet_Size</th>\n",
       "      <td>Small</td>\n",
       "      <td>Small</td>\n",
       "      <td>Medium</td>\n",
       "      <td>Medium</td>\n",
       "    </tr>\n",
       "  </tbody>\n",
       "</table>\n",
       "</div>"
      ],
      "text/plain": [
       "Outlet_Type Grocery Store Supermarket Type1 Supermarket Type2  \\\n",
       "Outlet_Size         Small             Small            Medium   \n",
       "\n",
       "Outlet_Type Supermarket Type3  \n",
       "Outlet_Size            Medium  "
      ]
     },
     "execution_count": 19,
     "metadata": {},
     "output_type": "execute_result"
    }
   ],
   "source": [
    "outlet_size_mode=data.pivot_table(values='Outlet_Size', columns='Outlet_Type', aggfunc=(lambda x: x.mode()[0]))\n",
    "outlet_size_mode"
   ]
  },
  {
   "cell_type": "code",
   "execution_count": 20,
   "id": "de4b707a",
   "metadata": {},
   "outputs": [
    {
     "data": {
      "text/plain": [
       "0"
      ]
     },
     "execution_count": 20,
     "metadata": {},
     "output_type": "execute_result"
    }
   ],
   "source": [
    "miss_bool=data.Outlet_Size.isna()\n",
    "data.loc[miss_bool, 'Outlet_Size']=data.loc[miss_bool,'Outlet_Type'].apply(lambda x: outlet_size_mode[x])\n",
    "data.Outlet_Size.isna().sum()"
   ]
  },
  {
   "cell_type": "code",
   "execution_count": 21,
   "id": "6bd8d976",
   "metadata": {},
   "outputs": [
    {
     "data": {
      "text/plain": [
       "Item_Identifier              0\n",
       "Item_Weight                  0\n",
       "Item_Fat_Content             0\n",
       "Item_Visibility              0\n",
       "Item_Type                    0\n",
       "Item_MRP                     0\n",
       "Outlet_Identifier            0\n",
       "Outlet_Establishment_Year    0\n",
       "Outlet_Size                  0\n",
       "Outlet_Location_Type         0\n",
       "Outlet_Type                  0\n",
       "Item_Outlet_Sales            0\n",
       "dtype: int64"
      ]
     },
     "execution_count": 21,
     "metadata": {},
     "output_type": "execute_result"
    }
   ],
   "source": [
    "data.isna().sum()"
   ]
  },
  {
   "cell_type": "markdown",
   "id": "b31fce69",
   "metadata": {},
   "source": [
    "### Outlier treatment in Output variable"
   ]
  },
  {
   "cell_type": "code",
   "execution_count": 22,
   "id": "8eb25c13",
   "metadata": {},
   "outputs": [
    {
     "data": {
      "image/png": "[encoded data removed]",
      "text/plain": [
       "<Figure size 1296x288 with 2 Axes>"
      ]
     },
     "metadata": {},
     "output_type": "display_data"
    }
   ],
   "source": [
    "plt.figure(figsize=(18,4))\n",
    "plt.subplot(121)\n",
    "sns.boxplot(data['Item_Outlet_Sales'], color='orange')\n",
    "\n",
    "plt.subplot(122)\n",
    "sns.distplot(data['Item_Outlet_Sales'], color='orange')\n",
    "plt.suptitle(\"Distribution of Item_Outlet_Sales\");"
   ]
  },
  {
   "cell_type": "markdown",
   "id": "5bf86b17",
   "metadata": {},
   "source": [
    "#### Remove data points which are lying above 10000."
   ]
  },
  {
   "cell_type": "code",
   "execution_count": 23,
   "id": "a8eb274b",
   "metadata": {},
   "outputs": [
    {
     "data": {
      "image/png": "[encoded data removed]",
      "text/plain": [
       "<Figure size 1296x288 with 2 Axes>"
      ]
     },
     "metadata": {},
     "output_type": "display_data"
    }
   ],
   "source": [
    "data=data[data['Item_Outlet_Sales']<10000]\n",
    "plt.figure(figsize=(18,4))\n",
    "plt.subplot(121)\n",
    "sns.boxplot(data['Item_Outlet_Sales'], color='lightblue')\n",
    "\n",
    "plt.subplot(122)\n",
    "sns.distplot(data['Item_Outlet_Sales'], color='lightblue')\n",
    "plt.suptitle(\"Distribution of Item_Outlet_Sales after Remove Outliers\");"
   ]
  },
  {
   "cell_type": "markdown",
   "id": "d2d0f4f9",
   "metadata": {},
   "source": [
    "### Drop Unwanted columns"
   ]
  },
  {
   "cell_type": "code",
   "execution_count": 24,
   "id": "df8ee30d",
   "metadata": {},
   "outputs": [
    {
     "data": {
      "text/plain": [
       "Index(['Item_Weight', 'Item_Fat_Content', 'Item_Visibility', 'Item_Type',\n",
       "       'Item_MRP', 'Outlet_Size', 'Outlet_Location_Type', 'Outlet_Type',\n",
       "       'Item_Outlet_Sales'],\n",
       "      dtype='object')"
      ]
     },
     "execution_count": 24,
     "metadata": {},
     "output_type": "execute_result"
    }
   ],
   "source": [
    "data.drop(['Item_Identifier','Outlet_Identifier','Outlet_Establishment_Year'], axis=1, inplace=True)\n",
    "data.columns"
   ]
  },
  {
   "cell_type": "markdown",
   "id": "a67d6494",
   "metadata": {},
   "source": [
    "### Splitting data into Dependent & Independent features"
   ]
  },
  {
   "cell_type": "code",
   "execution_count": 25,
   "id": "5f6e66a9",
   "metadata": {},
   "outputs": [
    {
     "data": {
      "text/html": [
       "<div>\n",
       "<style scoped>\n",
       "    .dataframe tbody tr th:only-of-type {\n",
       "        vertical-align: middle;\n",
       "    }\n",
       "\n",
       "    .dataframe tbody tr th {\n",
       "        vertical-align: top;\n",
       "    }\n",
       "\n",
       "    .dataframe thead th {\n",
       "        text-align: right;\n",
       "    }\n",
       "</style>\n",
       "<table border=\"1\" class=\"dataframe\">\n",
       "  <thead>\n",
       "    <tr style=\"text-align: right;\">\n",
       "      <th></th>\n",
       "      <th>Item_Weight</th>\n",
       "      <th>Item_Fat_Content</th>\n",
       "      <th>Item_Visibility</th>\n",
       "      <th>Item_Type</th>\n",
       "      <th>Item_MRP</th>\n",
       "      <th>Outlet_Size</th>\n",
       "      <th>Outlet_Location_Type</th>\n",
       "      <th>Outlet_Type</th>\n",
       "    </tr>\n",
       "  </thead>\n",
       "  <tbody>\n",
       "    <tr>\n",
       "      <th>0</th>\n",
       "      <td>9.30</td>\n",
       "      <td>Low Fat</td>\n",
       "      <td>0.016047</td>\n",
       "      <td>Dairy</td>\n",
       "      <td>249.8092</td>\n",
       "      <td>Medium</td>\n",
       "      <td>Tier 1</td>\n",
       "      <td>Supermarket Type1</td>\n",
       "    </tr>\n",
       "    <tr>\n",
       "      <th>1</th>\n",
       "      <td>5.92</td>\n",
       "      <td>Regular</td>\n",
       "      <td>0.019278</td>\n",
       "      <td>Soft Drinks</td>\n",
       "      <td>48.2692</td>\n",
       "      <td>Medium</td>\n",
       "      <td>Tier 3</td>\n",
       "      <td>Supermarket Type2</td>\n",
       "    </tr>\n",
       "  </tbody>\n",
       "</table>\n",
       "</div>"
      ],
      "text/plain": [
       "   Item_Weight Item_Fat_Content  Item_Visibility    Item_Type  Item_MRP  \\\n",
       "0         9.30          Low Fat         0.016047        Dairy  249.8092   \n",
       "1         5.92          Regular         0.019278  Soft Drinks   48.2692   \n",
       "\n",
       "  Outlet_Size Outlet_Location_Type        Outlet_Type  \n",
       "0      Medium               Tier 1  Supermarket Type1  \n",
       "1      Medium               Tier 3  Supermarket Type2  "
      ]
     },
     "execution_count": 25,
     "metadata": {},
     "output_type": "execute_result"
    }
   ],
   "source": [
    "X=data.drop(\"Item_Outlet_Sales\",axis=1)\n",
    "y=data.Item_Outlet_Sales\n",
    "X.head(2)"
   ]
  },
  {
   "cell_type": "code",
   "execution_count": 26,
   "id": "8219c6d7",
   "metadata": {},
   "outputs": [
    {
     "name": "stdout",
     "output_type": "stream",
     "text": [
      "(6812, 8) (1703, 8) (6812,) (1703,)\n"
     ]
    }
   ],
   "source": [
    "from sklearn.model_selection import train_test_split\n",
    "x_train,x_test,y_train,y_test=train_test_split(X,y,test_size=0.2,random_state=40)\n",
    "print(x_train.shape,x_test.shape,y_train.shape,y_test.shape)"
   ]
  },
  {
   "cell_type": "markdown",
   "id": "2a8be4c9",
   "metadata": {},
   "source": [
    "### OneHotEncoder for Categorical columns and Standard Scaler for Numeric Columns"
   ]
  },
  {
   "cell_type": "markdown",
   "id": "b38c3d87",
   "metadata": {},
   "source": [
    "#### Tranform X train"
   ]
  },
  {
   "cell_type": "code",
   "execution_count": 32,
   "id": "127ea8b5",
   "metadata": {},
   "outputs": [
    {
     "data": {
      "text/plain": [
       "array([[0., 1., 0., ..., 0., 0., 1.],\n",
       "       [0., 0., 1., ..., 1., 0., 0.],\n",
       "       [0., 1., 0., ..., 1., 0., 0.],\n",
       "       ...,\n",
       "       [0., 0., 1., ..., 1., 0., 0.],\n",
       "       [0., 1., 0., ..., 0., 0., 1.],\n",
       "       [0., 1., 0., ..., 1., 0., 0.]])"
      ]
     },
     "execution_count": 32,
     "metadata": {},
     "output_type": "execute_result"
    }
   ],
   "source": [
    "from sklearn.preprocessing import OneHotEncoder\n",
    "ohe=OneHotEncoder()\n",
    "cat_col=['Item_Fat_Content','Item_Type','Outlet_Size','Outlet_Location_Type','Outlet_Type']\n",
    "ohe_fit=ohe.fit(x_train[cat_col])\n",
    "x_train_cat_col_dum=ohe_fit.transform(x_train[cat_col]).toarray()\n",
    "x_train_cat_col_dum"
   ]
  },
  {
   "cell_type": "code",
   "execution_count": 40,
   "id": "a31b8346",
   "metadata": {},
   "outputs": [
    {
     "data": {
      "text/plain": [
       "array([[-0.00544471, -0.27739187, -0.84820589],\n",
       "       [-0.80307765, -1.28838146,  1.45356291],\n",
       "       [ 0.82418947, -0.6558379 ,  0.39854492],\n",
       "       [ 0.85982306,  0.25562867, -0.61574757],\n",
       "       [-1.27581657,  0.71797327, -0.49636378]])"
      ]
     },
     "execution_count": 40,
     "metadata": {},
     "output_type": "execute_result"
    }
   ],
   "source": [
    "from sklearn.preprocessing import StandardScaler\n",
    "std_scaler=StandardScaler()\n",
    "num_col=['Item_Weight','Item_Visibility','Item_MRP']\n",
    "std_scaler_fit=std_scaler.fit(x_train[num_col])\n",
    "x_train_num_col_std=std_scaler_fit.transform(x_train[num_col])\n",
    "x_train_num_col_std[:5]"
   ]
  },
  {
   "cell_type": "code",
   "execution_count": 41,
   "id": "be53bea4",
   "metadata": {},
   "outputs": [
    {
     "data": {
      "text/plain": [
       "array([[ 0.        ,  1.        ,  0.        ,  0.        ,  0.        ,\n",
       "         0.        ,  0.        ,  0.        ,  0.        ,  0.        ,\n",
       "         1.        ,  0.        ,  0.        ,  0.        ,  0.        ,\n",
       "         0.        ,  0.        ,  0.        ,  0.        ,  0.        ,\n",
       "         0.        ,  0.        ,  1.        ,  0.        ,  0.        ,\n",
       "         0.        ,  1.        ,  0.        ,  0.        ,  0.        ,\n",
       "         1.        , -0.00544471, -0.27739187, -0.84820589]])"
      ]
     },
     "execution_count": 41,
     "metadata": {},
     "output_type": "execute_result"
    }
   ],
   "source": [
    "x_train_tf=np.hstack([x_train_cat_col_dum, x_train_num_col_std])\n",
    "x_train_tf[:1]"
   ]
  },
  {
   "cell_type": "markdown",
   "id": "a692b488",
   "metadata": {},
   "source": [
    "#### Transform X test"
   ]
  },
  {
   "cell_type": "code",
   "execution_count": 43,
   "id": "24cfecb0",
   "metadata": {},
   "outputs": [
    {
     "data": {
      "text/plain": [
       "array([[ 0.        ,  0.        ,  1.        ,  0.        ,  0.        ,\n",
       "         0.        ,  0.        ,  0.        ,  0.        ,  0.        ,\n",
       "         1.        ,  0.        ,  0.        ,  0.        ,  0.        ,\n",
       "         0.        ,  0.        ,  0.        ,  0.        ,  0.        ,\n",
       "         0.        ,  0.        ,  0.        ,  1.        ,  1.        ,\n",
       "         0.        ,  0.        ,  1.        ,  0.        ,  0.        ,\n",
       "         0.        , -0.00544471, -0.90346535, -0.80371286]])"
      ]
     },
     "execution_count": 43,
     "metadata": {},
     "output_type": "execute_result"
    }
   ],
   "source": [
    "x_test_cat_col_dum=ohe_fit.transform(x_test[cat_col]).toarray()\n",
    "x_test_num_col_std=std_scaler_fit.transform(x_test[num_col])\n",
    "x_test_tf=np.hstack([x_test_cat_col_dum, x_test_num_col_std])\n",
    "x_test_tf[:1]"
   ]
  },
  {
   "cell_type": "code",
   "execution_count": 45,
   "id": "1d87a4cf",
   "metadata": {},
   "outputs": [
    {
     "data": {
      "text/plain": [
       "(6812, 34)"
      ]
     },
     "execution_count": 45,
     "metadata": {},
     "output_type": "execute_result"
    }
   ],
   "source": [
    "x_train_tf.shape"
   ]
  },
  {
   "cell_type": "code",
   "execution_count": null,
   "id": "236935a6",
   "metadata": {},
   "outputs": [],
   "source": []
  },
  {
   "cell_type": "markdown",
   "id": "df6bde54",
   "metadata": {},
   "source": [
    "## ANN Model to predict sales prediction"
   ]
  },
  {
   "cell_type": "code",
   "execution_count": 44,
   "id": "e053314e",
   "metadata": {},
   "outputs": [],
   "source": [
    "import keras\n",
    "from keras.layers import Dense\n",
    "from keras.models import Sequential"
   ]
  },
  {
   "cell_type": "code",
   "execution_count": 46,
   "id": "6ec55ceb",
   "metadata": {},
   "outputs": [
    {
     "name": "stdout",
     "output_type": "stream",
     "text": [
      "Model: \"sequential\"\n",
      "_________________________________________________________________\n",
      " Layer (type)                Output Shape              Param #   \n",
      "=================================================================\n",
      " dense (Dense)               (None, 32)                1120      \n",
      "                                                                 \n",
      " dense_1 (Dense)             (None, 64)                2112      \n",
      "                                                                 \n",
      " dense_2 (Dense)             (None, 128)               8320      \n",
      "                                                                 \n",
      " dense_3 (Dense)             (None, 512)               66048     \n",
      "                                                                 \n",
      " dense_4 (Dense)             (None, 1)                 513       \n",
      "                                                                 \n",
      "=================================================================\n",
      "Total params: 78,113\n",
      "Trainable params: 78,113\n",
      "Non-trainable params: 0\n",
      "_________________________________________________________________\n"
     ]
    }
   ],
   "source": [
    "model=Sequential()\n",
    "model.add(Dense(units=32,kernel_initializer='normal',activation='relu',input_dim=34))\n",
    "model.add(Dense(units=64,kernel_initializer='normal',activation='relu'))\n",
    "model.add(Dense(units=128,kernel_initializer='normal',activation='relu'))\n",
    "model.add(Dense(units=512,kernel_initializer='normal',activation='relu'))\n",
    "model.add(Dense(units=1,activation='relu'))\n",
    "model.summary()"
   ]
  },
  {
   "cell_type": "code",
   "execution_count": 50,
   "id": "95f94b49",
   "metadata": {
    "scrolled": false
   },
   "outputs": [
    {
     "name": "stdout",
     "output_type": "stream",
     "text": [
      "Epoch 1/100\n",
      "213/213 [==============================] - 8s 12ms/step - loss: 43.9888 - mean_absolute_percentage_error: 43.9888 - val_loss: 45.6419 - val_mean_absolute_percentage_error: 45.6419\n",
      "Epoch 2/100\n",
      "213/213 [==============================] - 2s 9ms/step - loss: 43.8677 - mean_absolute_percentage_error: 43.8677 - val_loss: 45.5347 - val_mean_absolute_percentage_error: 45.5347\n",
      "Epoch 3/100\n",
      "213/213 [==============================] - 2s 9ms/step - loss: 43.8334 - mean_absolute_percentage_error: 43.8334 - val_loss: 45.4953 - val_mean_absolute_percentage_error: 45.4953\n",
      "Epoch 4/100\n",
      "213/213 [==============================] - 2s 9ms/step - loss: 43.4461 - mean_absolute_percentage_error: 43.4461 - val_loss: 45.4814 - val_mean_absolute_percentage_error: 45.4814\n",
      "Epoch 5/100\n",
      "213/213 [==============================] - 2s 9ms/step - loss: 43.4486 - mean_absolute_percentage_error: 43.4486 - val_loss: 45.6619 - val_mean_absolute_percentage_error: 45.6619\n",
      "Epoch 6/100\n",
      "213/213 [==============================] - 2s 9ms/step - loss: 43.2571 - mean_absolute_percentage_error: 43.2571 - val_loss: 45.4666 - val_mean_absolute_percentage_error: 45.4666\n",
      "Epoch 7/100\n",
      "213/213 [==============================] - 2s 9ms/step - loss: 43.4387 - mean_absolute_percentage_error: 43.4387 - val_loss: 45.6100 - val_mean_absolute_percentage_error: 45.6100\n",
      "Epoch 8/100\n",
      "213/213 [==============================] - 2s 9ms/step - loss: 43.0967 - mean_absolute_percentage_error: 43.0967 - val_loss: 45.9814 - val_mean_absolute_percentage_error: 45.9814\n",
      "Epoch 9/100\n",
      "213/213 [==============================] - 2s 9ms/step - loss: 43.1274 - mean_absolute_percentage_error: 43.1274 - val_loss: 45.6776 - val_mean_absolute_percentage_error: 45.6776\n",
      "Epoch 10/100\n",
      "213/213 [==============================] - 2s 9ms/step - loss: 43.0608 - mean_absolute_percentage_error: 43.0608 - val_loss: 45.6311 - val_mean_absolute_percentage_error: 45.6311\n",
      "Epoch 11/100\n",
      "213/213 [==============================] - 2s 9ms/step - loss: 43.0441 - mean_absolute_percentage_error: 43.0441 - val_loss: 45.5953 - val_mean_absolute_percentage_error: 45.5953\n",
      "Epoch 12/100\n",
      "213/213 [==============================] - 2s 9ms/step - loss: 42.9004 - mean_absolute_percentage_error: 42.9004 - val_loss: 45.7718 - val_mean_absolute_percentage_error: 45.7718\n",
      "Epoch 13/100\n",
      "213/213 [==============================] - 2s 9ms/step - loss: 42.8842 - mean_absolute_percentage_error: 42.8842 - val_loss: 46.0907 - val_mean_absolute_percentage_error: 46.0907\n",
      "Epoch 14/100\n",
      "213/213 [==============================] - 2s 9ms/step - loss: 42.7567 - mean_absolute_percentage_error: 42.7567 - val_loss: 46.4346 - val_mean_absolute_percentage_error: 46.4346\n",
      "Epoch 15/100\n",
      "213/213 [==============================] - 2s 10ms/step - loss: 42.7424 - mean_absolute_percentage_error: 42.7424 - val_loss: 46.0335 - val_mean_absolute_percentage_error: 46.0335\n",
      "Epoch 16/100\n",
      "213/213 [==============================] - 2s 9ms/step - loss: 42.7480 - mean_absolute_percentage_error: 42.7480 - val_loss: 46.1125 - val_mean_absolute_percentage_error: 46.1125\n",
      "Epoch 17/100\n",
      "213/213 [==============================] - 2s 9ms/step - loss: 42.6452 - mean_absolute_percentage_error: 42.6452 - val_loss: 45.9229 - val_mean_absolute_percentage_error: 45.9229\n",
      "Epoch 18/100\n",
      "213/213 [==============================] - 2s 9ms/step - loss: 42.6262 - mean_absolute_percentage_error: 42.6262 - val_loss: 46.0968 - val_mean_absolute_percentage_error: 46.0968\n",
      "Epoch 19/100\n",
      "213/213 [==============================] - 2s 9ms/step - loss: 42.6330 - mean_absolute_percentage_error: 42.6330 - val_loss: 46.0114 - val_mean_absolute_percentage_error: 46.0114\n",
      "Epoch 20/100\n",
      "213/213 [==============================] - 2s 9ms/step - loss: 42.4578 - mean_absolute_percentage_error: 42.4578 - val_loss: 45.9194 - val_mean_absolute_percentage_error: 45.9194\n",
      "Epoch 21/100\n",
      "213/213 [==============================] - 2s 10ms/step - loss: 42.4824 - mean_absolute_percentage_error: 42.4824 - val_loss: 45.7018 - val_mean_absolute_percentage_error: 45.7018\n",
      "Epoch 22/100\n",
      "213/213 [==============================] - 2s 9ms/step - loss: 42.3451 - mean_absolute_percentage_error: 42.3451 - val_loss: 45.6381 - val_mean_absolute_percentage_error: 45.6381\n",
      "Epoch 23/100\n",
      "213/213 [==============================] - 2s 9ms/step - loss: 42.3273 - mean_absolute_percentage_error: 42.3273 - val_loss: 45.7474 - val_mean_absolute_percentage_error: 45.7474\n",
      "Epoch 24/100\n",
      "213/213 [==============================] - 2s 9ms/step - loss: 42.2694 - mean_absolute_percentage_error: 42.2694 - val_loss: 46.6074 - val_mean_absolute_percentage_error: 46.6074\n",
      "Epoch 25/100\n",
      "213/213 [==============================] - 2s 9ms/step - loss: 42.4413 - mean_absolute_percentage_error: 42.4413 - val_loss: 45.6794 - val_mean_absolute_percentage_error: 45.6794\n",
      "Epoch 26/100\n",
      "213/213 [==============================] - 2s 9ms/step - loss: 42.2784 - mean_absolute_percentage_error: 42.2784 - val_loss: 45.6966 - val_mean_absolute_percentage_error: 45.6966\n",
      "Epoch 27/100\n",
      "213/213 [==============================] - 2s 9ms/step - loss: 42.3354 - mean_absolute_percentage_error: 42.3354 - val_loss: 45.8327 - val_mean_absolute_percentage_error: 45.8327\n",
      "Epoch 28/100\n",
      "213/213 [==============================] - 2s 9ms/step - loss: 42.2591 - mean_absolute_percentage_error: 42.2591 - val_loss: 45.5650 - val_mean_absolute_percentage_error: 45.5650\n",
      "Epoch 29/100\n",
      "213/213 [==============================] - 2s 9ms/step - loss: 42.2945 - mean_absolute_percentage_error: 42.2945 - val_loss: 45.7454 - val_mean_absolute_percentage_error: 45.7454\n",
      "Epoch 30/100\n",
      "213/213 [==============================] - 2s 9ms/step - loss: 42.1798 - mean_absolute_percentage_error: 42.1798 - val_loss: 45.8242 - val_mean_absolute_percentage_error: 45.8242\n",
      "Epoch 31/100\n",
      "213/213 [==============================] - 2s 9ms/step - loss: 42.1587 - mean_absolute_percentage_error: 42.1587 - val_loss: 46.1701 - val_mean_absolute_percentage_error: 46.1701\n",
      "Epoch 32/100\n",
      "213/213 [==============================] - 2s 9ms/step - loss: 42.1639 - mean_absolute_percentage_error: 42.1639 - val_loss: 45.7152 - val_mean_absolute_percentage_error: 45.7152\n",
      "Epoch 33/100\n",
      "213/213 [==============================] - 2s 9ms/step - loss: 41.9709 - mean_absolute_percentage_error: 41.9709 - val_loss: 46.2171 - val_mean_absolute_percentage_error: 46.2171\n",
      "Epoch 34/100\n",
      "213/213 [==============================] - 2s 9ms/step - loss: 42.2988 - mean_absolute_percentage_error: 42.2988 - val_loss: 46.2347 - val_mean_absolute_percentage_error: 46.2347\n",
      "Epoch 35/100\n",
      "213/213 [==============================] - 2s 9ms/step - loss: 42.2681 - mean_absolute_percentage_error: 42.2681 - val_loss: 45.6461 - val_mean_absolute_percentage_error: 45.6461\n",
      "Epoch 36/100\n",
      "213/213 [==============================] - 2s 9ms/step - loss: 42.1288 - mean_absolute_percentage_error: 42.1288 - val_loss: 45.7292 - val_mean_absolute_percentage_error: 45.7292\n",
      "Epoch 37/100\n",
      "213/213 [==============================] - 2s 9ms/step - loss: 42.0406 - mean_absolute_percentage_error: 42.0406 - val_loss: 45.8650 - val_mean_absolute_percentage_error: 45.8650\n",
      "Epoch 38/100\n",
      "213/213 [==============================] - 2s 9ms/step - loss: 41.9224 - mean_absolute_percentage_error: 41.9224 - val_loss: 47.1618 - val_mean_absolute_percentage_error: 47.1618\n",
      "Epoch 39/100\n",
      "213/213 [==============================] - 2s 9ms/step - loss: 41.8630 - mean_absolute_percentage_error: 41.8630 - val_loss: 45.6832 - val_mean_absolute_percentage_error: 45.6832\n",
      "Epoch 40/100\n",
      "213/213 [==============================] - 2s 9ms/step - loss: 41.7116 - mean_absolute_percentage_error: 41.7116 - val_loss: 45.8855 - val_mean_absolute_percentage_error: 45.8855\n",
      "Epoch 41/100\n",
      "213/213 [==============================] - 2s 9ms/step - loss: 41.8218 - mean_absolute_percentage_error: 41.8218 - val_loss: 46.8334 - val_mean_absolute_percentage_error: 46.8334\n",
      "Epoch 42/100\n",
      "213/213 [==============================] - 2s 9ms/step - loss: 41.7604 - mean_absolute_percentage_error: 41.7604 - val_loss: 45.8262 - val_mean_absolute_percentage_error: 45.8262\n",
      "Epoch 43/100\n",
      "213/213 [==============================] - 2s 9ms/step - loss: 41.7017 - mean_absolute_percentage_error: 41.7017 - val_loss: 45.8700 - val_mean_absolute_percentage_error: 45.8700\n"
     ]
    },
    {
     "name": "stdout",
     "output_type": "stream",
     "text": [
      "Epoch 44/100\n",
      "213/213 [==============================] - 2s 8ms/step - loss: 41.6481 - mean_absolute_percentage_error: 41.6481 - val_loss: 46.3429 - val_mean_absolute_percentage_error: 46.3429\n",
      "Epoch 45/100\n",
      "213/213 [==============================] - 2s 8ms/step - loss: 41.6659 - mean_absolute_percentage_error: 41.6659 - val_loss: 46.2452 - val_mean_absolute_percentage_error: 46.2452\n",
      "Epoch 46/100\n",
      "213/213 [==============================] - 2s 8ms/step - loss: 41.9874 - mean_absolute_percentage_error: 41.9874 - val_loss: 47.2857 - val_mean_absolute_percentage_error: 47.2857\n",
      "Epoch 47/100\n",
      "213/213 [==============================] - 2s 8ms/step - loss: 41.6137 - mean_absolute_percentage_error: 41.6137 - val_loss: 46.0628 - val_mean_absolute_percentage_error: 46.0628\n",
      "Epoch 48/100\n",
      "213/213 [==============================] - 2s 8ms/step - loss: 41.5471 - mean_absolute_percentage_error: 41.5471 - val_loss: 46.4991 - val_mean_absolute_percentage_error: 46.4991\n",
      "Epoch 49/100\n",
      "213/213 [==============================] - 2s 8ms/step - loss: 41.6167 - mean_absolute_percentage_error: 41.6167 - val_loss: 45.7855 - val_mean_absolute_percentage_error: 45.7855\n",
      "Epoch 50/100\n",
      "213/213 [==============================] - 2s 8ms/step - loss: 41.6598 - mean_absolute_percentage_error: 41.6598 - val_loss: 46.0961 - val_mean_absolute_percentage_error: 46.0961\n",
      "Epoch 51/100\n",
      "213/213 [==============================] - 2s 8ms/step - loss: 41.7947 - mean_absolute_percentage_error: 41.7947 - val_loss: 45.8018 - val_mean_absolute_percentage_error: 45.8018\n",
      "Epoch 52/100\n",
      "213/213 [==============================] - 2s 8ms/step - loss: 41.5447 - mean_absolute_percentage_error: 41.5447 - val_loss: 45.8995 - val_mean_absolute_percentage_error: 45.8995\n",
      "Epoch 53/100\n",
      "213/213 [==============================] - 2s 8ms/step - loss: 41.5232 - mean_absolute_percentage_error: 41.5232 - val_loss: 46.0690 - val_mean_absolute_percentage_error: 46.0690\n",
      "Epoch 54/100\n",
      "213/213 [==============================] - 2s 8ms/step - loss: 41.6305 - mean_absolute_percentage_error: 41.6305 - val_loss: 46.3726 - val_mean_absolute_percentage_error: 46.3726\n",
      "Epoch 55/100\n",
      "213/213 [==============================] - 2s 8ms/step - loss: 41.4603 - mean_absolute_percentage_error: 41.4603 - val_loss: 46.1578 - val_mean_absolute_percentage_error: 46.1578\n",
      "Epoch 56/100\n",
      "213/213 [==============================] - 2s 8ms/step - loss: 41.5605 - mean_absolute_percentage_error: 41.5605 - val_loss: 46.3159 - val_mean_absolute_percentage_error: 46.3159\n",
      "Epoch 57/100\n",
      "213/213 [==============================] - 2s 9ms/step - loss: 41.3951 - mean_absolute_percentage_error: 41.3951 - val_loss: 46.5706 - val_mean_absolute_percentage_error: 46.5706\n",
      "Epoch 58/100\n",
      "213/213 [==============================] - 2s 9ms/step - loss: 41.5769 - mean_absolute_percentage_error: 41.5769 - val_loss: 46.1773 - val_mean_absolute_percentage_error: 46.1773\n",
      "Epoch 59/100\n",
      "213/213 [==============================] - 2s 9ms/step - loss: 41.4628 - mean_absolute_percentage_error: 41.4628 - val_loss: 46.4116 - val_mean_absolute_percentage_error: 46.4116\n",
      "Epoch 60/100\n",
      "213/213 [==============================] - 2s 9ms/step - loss: 41.3889 - mean_absolute_percentage_error: 41.3889 - val_loss: 46.2751 - val_mean_absolute_percentage_error: 46.2751\n",
      "Epoch 61/100\n",
      "213/213 [==============================] - 2s 9ms/step - loss: 41.3565 - mean_absolute_percentage_error: 41.3565 - val_loss: 47.2649 - val_mean_absolute_percentage_error: 47.2649\n",
      "Epoch 62/100\n",
      "213/213 [==============================] - 2s 9ms/step - loss: 41.4525 - mean_absolute_percentage_error: 41.4525 - val_loss: 46.4830 - val_mean_absolute_percentage_error: 46.4830\n",
      "Epoch 63/100\n",
      "213/213 [==============================] - 2s 9ms/step - loss: 41.3399 - mean_absolute_percentage_error: 41.3399 - val_loss: 46.0738 - val_mean_absolute_percentage_error: 46.0738\n",
      "Epoch 64/100\n",
      "213/213 [==============================] - 2s 9ms/step - loss: 41.3912 - mean_absolute_percentage_error: 41.3912 - val_loss: 46.3070 - val_mean_absolute_percentage_error: 46.3070\n",
      "Epoch 65/100\n",
      "213/213 [==============================] - 2s 9ms/step - loss: 41.2976 - mean_absolute_percentage_error: 41.2976 - val_loss: 46.2020 - val_mean_absolute_percentage_error: 46.2020\n",
      "Epoch 66/100\n",
      "213/213 [==============================] - 2s 9ms/step - loss: 41.3770 - mean_absolute_percentage_error: 41.3770 - val_loss: 46.1666 - val_mean_absolute_percentage_error: 46.1666\n",
      "Epoch 67/100\n",
      "213/213 [==============================] - 2s 9ms/step - loss: 41.6036 - mean_absolute_percentage_error: 41.6036 - val_loss: 46.4155 - val_mean_absolute_percentage_error: 46.4155\n",
      "Epoch 68/100\n",
      "213/213 [==============================] - 2s 9ms/step - loss: 41.5235 - mean_absolute_percentage_error: 41.5235 - val_loss: 46.3363 - val_mean_absolute_percentage_error: 46.3363\n",
      "Epoch 69/100\n",
      "213/213 [==============================] - 2s 9ms/step - loss: 41.2673 - mean_absolute_percentage_error: 41.2673 - val_loss: 46.9116 - val_mean_absolute_percentage_error: 46.9116\n",
      "Epoch 70/100\n",
      "213/213 [==============================] - 2s 9ms/step - loss: 41.2768 - mean_absolute_percentage_error: 41.2768 - val_loss: 46.3752 - val_mean_absolute_percentage_error: 46.3752\n",
      "Epoch 71/100\n",
      "213/213 [==============================] - 2s 9ms/step - loss: 41.2094 - mean_absolute_percentage_error: 41.2094 - val_loss: 46.2933 - val_mean_absolute_percentage_error: 46.2933\n",
      "Epoch 72/100\n",
      "213/213 [==============================] - 2s 9ms/step - loss: 41.2538 - mean_absolute_percentage_error: 41.2538 - val_loss: 46.5167 - val_mean_absolute_percentage_error: 46.5167\n",
      "Epoch 73/100\n",
      "213/213 [==============================] - 2s 9ms/step - loss: 41.2882 - mean_absolute_percentage_error: 41.2882 - val_loss: 46.6046 - val_mean_absolute_percentage_error: 46.6046\n",
      "Epoch 74/100\n",
      "213/213 [==============================] - 2s 9ms/step - loss: 41.2929 - mean_absolute_percentage_error: 41.2929 - val_loss: 46.9543 - val_mean_absolute_percentage_error: 46.9543\n",
      "Epoch 75/100\n",
      "213/213 [==============================] - 2s 9ms/step - loss: 41.2441 - mean_absolute_percentage_error: 41.2441 - val_loss: 46.2183 - val_mean_absolute_percentage_error: 46.2183\n",
      "Epoch 76/100\n",
      "213/213 [==============================] - 2s 9ms/step - loss: 41.1687 - mean_absolute_percentage_error: 41.1687 - val_loss: 46.8609 - val_mean_absolute_percentage_error: 46.8609\n",
      "Epoch 77/100\n",
      "213/213 [==============================] - 2s 9ms/step - loss: 41.1769 - mean_absolute_percentage_error: 41.1769 - val_loss: 46.3120 - val_mean_absolute_percentage_error: 46.3120\n",
      "Epoch 78/100\n",
      "213/213 [==============================] - 2s 9ms/step - loss: 41.4027 - mean_absolute_percentage_error: 41.4027 - val_loss: 46.7280 - val_mean_absolute_percentage_error: 46.7280\n",
      "Epoch 79/100\n",
      "213/213 [==============================] - 2s 9ms/step - loss: 41.0714 - mean_absolute_percentage_error: 41.0714 - val_loss: 47.3764 - val_mean_absolute_percentage_error: 47.3764\n",
      "Epoch 80/100\n",
      "213/213 [==============================] - 2s 9ms/step - loss: 41.0572 - mean_absolute_percentage_error: 41.0572 - val_loss: 46.5811 - val_mean_absolute_percentage_error: 46.5811\n",
      "Epoch 81/100\n",
      "213/213 [==============================] - 2s 9ms/step - loss: 40.9367 - mean_absolute_percentage_error: 40.9367 - val_loss: 46.3490 - val_mean_absolute_percentage_error: 46.3490\n",
      "Epoch 82/100\n",
      "213/213 [==============================] - 2s 9ms/step - loss: 40.9976 - mean_absolute_percentage_error: 40.9976 - val_loss: 46.5142 - val_mean_absolute_percentage_error: 46.5142\n",
      "Epoch 83/100\n",
      "213/213 [==============================] - 2s 9ms/step - loss: 40.9297 - mean_absolute_percentage_error: 40.9297 - val_loss: 47.4517 - val_mean_absolute_percentage_error: 47.4517\n",
      "Epoch 84/100\n",
      "213/213 [==============================] - 2s 9ms/step - loss: 40.9457 - mean_absolute_percentage_error: 40.9457 - val_loss: 46.4935 - val_mean_absolute_percentage_error: 46.4935\n",
      "Epoch 85/100\n",
      "213/213 [==============================] - 2s 9ms/step - loss: 40.8651 - mean_absolute_percentage_error: 40.8651 - val_loss: 46.5176 - val_mean_absolute_percentage_error: 46.5176\n",
      "Epoch 86/100\n",
      "213/213 [==============================] - 2s 9ms/step - loss: 40.8394 - mean_absolute_percentage_error: 40.8394 - val_loss: 46.9960 - val_mean_absolute_percentage_error: 46.9960\n"
     ]
    },
    {
     "name": "stdout",
     "output_type": "stream",
     "text": [
      "Epoch 87/100\n",
      "213/213 [==============================] - 2s 9ms/step - loss: 40.9255 - mean_absolute_percentage_error: 40.9255 - val_loss: 46.5418 - val_mean_absolute_percentage_error: 46.5418\n",
      "Epoch 88/100\n",
      "213/213 [==============================] - 2s 9ms/step - loss: 40.9425 - mean_absolute_percentage_error: 40.9425 - val_loss: 47.1045 - val_mean_absolute_percentage_error: 47.1045\n",
      "Epoch 89/100\n",
      "213/213 [==============================] - 2s 8ms/step - loss: 40.8094 - mean_absolute_percentage_error: 40.8094 - val_loss: 47.1795 - val_mean_absolute_percentage_error: 47.1795\n",
      "Epoch 90/100\n",
      "213/213 [==============================] - 2s 9ms/step - loss: 40.8503 - mean_absolute_percentage_error: 40.8503 - val_loss: 46.5589 - val_mean_absolute_percentage_error: 46.5589\n",
      "Epoch 91/100\n",
      "213/213 [==============================] - 2s 8ms/step - loss: 40.7760 - mean_absolute_percentage_error: 40.7760 - val_loss: 47.1558 - val_mean_absolute_percentage_error: 47.1558\n",
      "Epoch 92/100\n",
      "213/213 [==============================] - 2s 9ms/step - loss: 40.8862 - mean_absolute_percentage_error: 40.8862 - val_loss: 46.7131 - val_mean_absolute_percentage_error: 46.7131\n",
      "Epoch 93/100\n",
      "213/213 [==============================] - 2s 9ms/step - loss: 40.6179 - mean_absolute_percentage_error: 40.6179 - val_loss: 47.4799 - val_mean_absolute_percentage_error: 47.4799\n",
      "Epoch 94/100\n",
      "213/213 [==============================] - 2s 9ms/step - loss: 40.7368 - mean_absolute_percentage_error: 40.7368 - val_loss: 46.9728 - val_mean_absolute_percentage_error: 46.9728\n",
      "Epoch 95/100\n",
      "213/213 [==============================] - 2s 9ms/step - loss: 40.7630 - mean_absolute_percentage_error: 40.7630 - val_loss: 47.0651 - val_mean_absolute_percentage_error: 47.0651\n",
      "Epoch 96/100\n",
      "213/213 [==============================] - 2s 9ms/step - loss: 40.6813 - mean_absolute_percentage_error: 40.6813 - val_loss: 46.7580 - val_mean_absolute_percentage_error: 46.7580\n",
      "Epoch 97/100\n",
      "213/213 [==============================] - 2s 9ms/step - loss: 40.6697 - mean_absolute_percentage_error: 40.6697 - val_loss: 47.2057 - val_mean_absolute_percentage_error: 47.2057\n",
      "Epoch 98/100\n",
      "213/213 [==============================] - 2s 9ms/step - loss: 40.6335 - mean_absolute_percentage_error: 40.6335 - val_loss: 46.8275 - val_mean_absolute_percentage_error: 46.8275\n",
      "Epoch 99/100\n",
      "213/213 [==============================] - 2s 9ms/step - loss: 40.6297 - mean_absolute_percentage_error: 40.6297 - val_loss: 46.9457 - val_mean_absolute_percentage_error: 46.9457\n",
      "Epoch 100/100\n",
      "213/213 [==============================] - 2s 9ms/step - loss: 40.4698 - mean_absolute_percentage_error: 40.4698 - val_loss: 47.3872 - val_mean_absolute_percentage_error: 47.3872\n"
     ]
    },
    {
     "data": {
      "text/plain": [
       "<keras.callbacks.History at 0x15dd0504130>"
      ]
     },
     "execution_count": 50,
     "metadata": {},
     "output_type": "execute_result"
    }
   ],
   "source": [
    "# Compile layer\n",
    "model.compile(optimizer='adam',loss='mean_absolute_percentage_error',metrics='mean_absolute_percentage_error')\n",
    "model.fit(x_train_tf,y_train,epochs=100, batch_size=32, validation_data=(x_test_tf,y_test))"
   ]
  },
  {
   "cell_type": "markdown",
   "id": "6a737df9",
   "metadata": {},
   "source": [
    "### Evaluating Model"
   ]
  },
  {
   "cell_type": "code",
   "execution_count": 56,
   "id": "27a6fe90",
   "metadata": {},
   "outputs": [
    {
     "name": "stdout",
     "output_type": "stream",
     "text": [
      "54/54 [==============================] - 0s 4ms/step\n",
      "RMSE= 1281.6275\n",
      "Accuacy= 52.61 %\n",
      "R2 Score= 0.4341\n"
     ]
    }
   ],
   "source": [
    "from sklearn.metrics import mean_absolute_percentage_error as mape, mean_squared_error as mse, r2_score\n",
    "y_pred=model.predict(x_test_tf)\n",
    "print(\"RMSE=\", np.sqrt(mse(y_test, y_pred)).round(4))\n",
    "print(\"Accuacy=\", (1 - mape(y_test, y_pred).round(4))*100,\"%\")\n",
    "print(\"R2 Score=\", r2_score(y_test, y_pred).round(4))"
   ]
  },
  {
   "cell_type": "code",
   "execution_count": null,
   "id": "cd856de3",
   "metadata": {},
   "outputs": [],
   "source": []
  }
 ],
 "metadata": {
  "kernelspec": {
   "display_name": "Python 3 (ipykernel)",
   "language": "python",
   "name": "python3"
  },
  "language_info": {
   "codemirror_mode": {
    "name": "ipython",
    "version": 3
   },
   "file_extension": ".py",
   "mimetype": "text/x-python",
   "name": "python",
   "nbconvert_exporter": "python",
   "pygments_lexer": "ipython3",
   "version": "3.9.13"
  }
 },
 "nbformat": 4,
 "nbformat_minor": 5
}
